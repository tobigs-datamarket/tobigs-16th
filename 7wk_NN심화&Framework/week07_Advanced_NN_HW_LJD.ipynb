{
 "cells": [
  {
   "cell_type": "markdown",
   "metadata": {
    "id": "3w6SHm1p5yXs"
   },
   "source": [
    "# Advanced NN"
   ]
  },
  {
   "cell_type": "code",
   "execution_count": null,
   "metadata": {
    "id": "j-Q0FSR5rENI"
   },
   "outputs": [],
   "source": [
    "import numpy as np\n",
    "import pandas as pd\n",
    "import matplotlib.pyplot as plt\n",
    "plt.style.use('default') # black theme에서 차트의 가장자리도 하얗게 보여준다\n",
    "\n",
    "import torch\n",
    "import torch.nn as nn\n",
    "import torch.nn.functional as F\n",
    "\n",
    "import warnings\n",
    "warnings.filterwarnings(action='ignore')\n",
    "\n",
    "data_dir = './'"
   ]
  },
  {
   "cell_type": "markdown",
   "metadata": {
    "id": "hGgljobEsCNS"
   },
   "source": [
    "# 데이터 확인"
   ]
  },
  {
   "cell_type": "markdown",
   "metadata": {
    "id": "MjOsDF5ctFWp"
   },
   "source": [
    "| Label | Description |\n",
    "| --- | --- |\n",
    "| 0 | T-shirt/top |\n",
    "| 1 | Trouser |\n",
    "| 2 | Pullover |\n",
    "| 3 | Dress |\n",
    "| 4 | Coat |\n",
    "| 5 | Sandal |\n",
    "| 6 | Shirt |\n",
    "| 7 | Sneaker |\n",
    "| 8 | Bag |\n",
    "| 9 | Ankle boot |\n",
    "\n",
    "데이터 출처: https://github.com/zalandoresearch/fashion-mnist"
   ]
  },
  {
   "cell_type": "code",
   "execution_count": null,
   "metadata": {
    "id": "HIXF9qR4mN8J"
   },
   "outputs": [],
   "source": [
    "Train = pd.read_csv(data_dir + 'Train.csv')\n",
    "Test = pd.read_csv(data_dir + 'Test.csv')\n",
    "submission = pd.read_csv(data_dir + 'submission.csv')"
   ]
  },
  {
   "cell_type": "code",
   "execution_count": null,
   "metadata": {},
   "outputs": [],
   "source": [
    "pd.set_option('display.max_columns', None)"
   ]
  },
  {
   "cell_type": "code",
   "execution_count": null,
   "metadata": {
    "colab": {
     "base_uri": "https://localhost:8080/",
     "height": 251
    },
    "executionInfo": {
     "elapsed": 26,
     "status": "ok",
     "timestamp": 1629620815890,
     "user": {
      "displayName": "이성범",
      "photoUrl": "",
      "userId": "11166281350151773159"
     },
     "user_tz": -540
    },
    "id": "qzA34937ss3T",
    "outputId": "3dd94d24-fae3-4426-dc0b-49cd68ce29b7"
   },
   "outputs": [],
   "source": [
    "Train.head()"
   ]
  },
  {
   "cell_type": "code",
   "execution_count": null,
   "metadata": {
    "colab": {
     "base_uri": "https://localhost:8080/"
    },
    "executionInfo": {
     "elapsed": 25,
     "status": "ok",
     "timestamp": 1629620815891,
     "user": {
      "displayName": "이성범",
      "photoUrl": "",
      "userId": "11166281350151773159"
     },
     "user_tz": -540
    },
    "id": "Z6cOY9xjzynQ",
    "outputId": "c1c100c3-d158-4ad7-f654-0f2a997ee5ab"
   },
   "outputs": [],
   "source": [
    "Train['label'].nunique()"
   ]
  },
  {
   "cell_type": "code",
   "execution_count": null,
   "metadata": {
    "colab": {
     "base_uri": "https://localhost:8080/",
     "height": 251
    },
    "executionInfo": {
     "elapsed": 23,
     "status": "ok",
     "timestamp": 1629620815892,
     "user": {
      "displayName": "이성범",
      "photoUrl": "",
      "userId": "11166281350151773159"
     },
     "user_tz": -540
    },
    "id": "52VNSOWNsuor",
    "outputId": "ad6146f8-3659-4d3b-b731-f5b925f52070"
   },
   "outputs": [],
   "source": [
    "Test.head()"
   ]
  },
  {
   "cell_type": "code",
   "execution_count": null,
   "metadata": {
    "colab": {
     "base_uri": "https://localhost:8080/",
     "height": 202
    },
    "executionInfo": {
     "elapsed": 22,
     "status": "ok",
     "timestamp": 1629620815892,
     "user": {
      "displayName": "이성범",
      "photoUrl": "",
      "userId": "11166281350151773159"
     },
     "user_tz": -540
    },
    "id": "ARoY6t1Hsv2i",
    "outputId": "376621a9-ae03-40fa-b10d-658ee47202be"
   },
   "outputs": [],
   "source": [
    "submission.head()"
   ]
  },
  {
   "cell_type": "code",
   "execution_count": null,
   "metadata": {
    "id": "26AwQFvemYxx"
   },
   "outputs": [],
   "source": [
    "# DataFrameInstance.values는 해당 df를 numpy.ndarray로 반환한다\n",
    "X = Train.iloc[:, :-1].values\n",
    "y = Train.iloc[:, -1].values"
   ]
  },
  {
   "cell_type": "code",
   "execution_count": null,
   "metadata": {
    "colab": {
     "base_uri": "https://localhost:8080/",
     "height": 93
    },
    "executionInfo": {
     "elapsed": 1389,
     "status": "ok",
     "timestamp": 1629620817260,
     "user": {
      "displayName": "이성범",
      "photoUrl": "",
      "userId": "11166281350151773159"
     },
     "user_tz": -540
    },
    "id": "kg63u1Fwjfi6",
    "outputId": "22e347b0-521d-468d-bb01-e25c68301614"
   },
   "outputs": [],
   "source": [
    "pltsize = 1\n",
    "plt.figure(figsize=(20 * pltsize, pltsize))\n",
    "for idx in range(0, 20):\n",
    "    plt.subplot(1, 20, idx + 1)\n",
    "    plt.axis('off')\n",
    "    plt.imshow(X[idx].reshape(28, 28), cmap='gray_r')\n",
    "    plt.title(f'Class : {y[idx]}')"
   ]
  },
  {
   "cell_type": "code",
   "execution_count": null,
   "metadata": {
    "id": "1MLqSq7utSGD"
   },
   "outputs": [],
   "source": [
    "X_test = Test.values"
   ]
  },
  {
   "cell_type": "code",
   "execution_count": null,
   "metadata": {
    "colab": {
     "base_uri": "https://localhost:8080/",
     "height": 78
    },
    "executionInfo": {
     "elapsed": 733,
     "status": "ok",
     "timestamp": 1629620817990,
     "user": {
      "displayName": "이성범",
      "photoUrl": "",
      "userId": "11166281350151773159"
     },
     "user_tz": -540
    },
    "id": "pzLOHRjvtYaD",
    "outputId": "8d9899c7-bc0e-49d0-d455-6a604239b9d7"
   },
   "outputs": [],
   "source": [
    "pltsize = 1\n",
    "plt.figure(figsize=(20 * pltsize, pltsize))\n",
    "for idx in range(0, 20):\n",
    "  plt.subplot(1, 20, idx + 1)\n",
    "  plt.axis('off')\n",
    "  plt.imshow(X_test[idx].reshape(28, 28), cmap='gray_r')"
   ]
  },
  {
   "cell_type": "markdown",
   "metadata": {
    "id": "iSnwe75AsEPa"
   },
   "source": [
    "# 데이터 분리"
   ]
  },
  {
   "cell_type": "code",
   "execution_count": null,
   "metadata": {
    "id": "73ttBq_osFM0"
   },
   "outputs": [],
   "source": [
    "from sklearn.model_selection import train_test_split\n",
    "\n",
    "X_train, X_val, y_train, y_val = train_test_split(X, y, test_size = 0.2, random_state = 16, stratify = y, shuffle = True)\n",
    "\n",
    "# 정규화\n",
    "X_train = X_train / 255.0\n",
    "X_val = X_val / 255.0\n",
    "X_test = X_test / 255.0\n",
    "\n",
    "X_train = torch.FloatTensor(X_train)\n",
    "y_train = torch.LongTensor(y_train)\n",
    "\n",
    "X_val = torch.FloatTensor(X_val)\n",
    "y_val = torch.LongTensor(y_val)\n",
    "\n",
    "X_test = torch.FloatTensor(X_test)"
   ]
  },
  {
   "cell_type": "markdown",
   "metadata": {
    "id": "pWfHesQguKjT"
   },
   "source": [
    "# 함수 및 환경 설정"
   ]
  },
  {
   "cell_type": "code",
   "execution_count": null,
   "metadata": {
    "colab": {
     "base_uri": "https://localhost:8080/"
    },
    "executionInfo": {
     "elapsed": 7,
     "status": "ok",
     "timestamp": 1629620819639,
     "user": {
      "displayName": "이성범",
      "photoUrl": "",
      "userId": "11166281350151773159"
     },
     "user_tz": -540
    },
    "id": "2wS5oudTu0Tt",
    "outputId": "6f94f977-86f8-4b42-ce35-c50bb0c8e103"
   },
   "outputs": [],
   "source": [
    "if torch.cuda.is_available():\n",
    "    DEVICE = torch.device('cuda')\n",
    "else:\n",
    "    DEVICE = torch.device('cpu')\n",
    "\n",
    "print(DEVICE)"
   ]
  },
  {
   "cell_type": "code",
   "execution_count": null,
   "metadata": {
    "id": "03C79ihXu820"
   },
   "outputs": [],
   "source": [
    "BATCH_SIZE = 128\n",
    "EPOCHS = 15"
   ]
  },
  {
   "cell_type": "code",
   "execution_count": null,
   "metadata": {},
   "outputs": [],
   "source": [
    "from torch.utils.data import Dataset\n",
    "from torch.utils.data import DataLoader\n",
    "\n",
    "class DataSet(Dataset):\n",
    "    def __init__(self, image, label=None):\n",
    "        super(Dataset, self).__init__()\n",
    "        self._image = image\n",
    "        self._label = label\n",
    "        \n",
    "    def __len__(self):\n",
    "        return len(self._image)\n",
    "    \n",
    "    def __getitem__(self, idx):\n",
    "        if self._label is None:\n",
    "            image = self._image[idx]\n",
    "            return image\n",
    "        \n",
    "        else:\n",
    "            image = self._image[idx]\n",
    "            label = self._label[idx]\n",
    "            \n",
    "            return image, label"
   ]
  },
  {
   "cell_type": "code",
   "execution_count": null,
   "metadata": {},
   "outputs": [],
   "source": [
    "train_dataset = DataSet(X_train, y_train)\n",
    "train_loader = DataLoader(train_dataset, batch_size = BATCH_SIZE, shuffle=True, drop_last=False) # if drop_last == True, last incompelete batch is dropped\n",
    "\n",
    "val_dataset = DataSet(X_val, y_val)\n",
    "val_loader = DataLoader(val_dataset, batch_size=BATCH_SIZE, shuffle=True, drop_last=False)\n",
    "\n",
    "test_dataset = DataSet(X_test)\n",
    "test_loader = DataLoader(test_dataset, batch_size=BATCH_SIZE, shuffle=False, drop_last=False)"
   ]
  },
  {
   "cell_type": "code",
   "execution_count": null,
   "metadata": {},
   "outputs": [],
   "source": [
    "def train(model, train_loader):\n",
    "    model.train() # 모델읠 train mode로 전환\n",
    "    train_loss = 0\n",
    "    correct = 0\n",
    "    # batch_idx, (image, label)\n",
    "    for batch_idx, (image, label) in enumerate(train_loader):\n",
    "        image = image.to(DEVICE)\n",
    "        label = label.to(DEVICE)\n",
    "        optimizer.zero_grad()\n",
    "        output = model(image) # global `model`\n",
    "        loss = criterion(output,label)      # global `criterion\n",
    "        loss.backward()\n",
    "        optimizer.step()\n",
    "        \n",
    "        train_loss += loss.item()\n",
    "#         display(output)\n",
    "        prediction = output.max(1, keepdim=True)[1] # output tensor의 차원을 1로. [0]에는 max value가, [1]에는 argmax가 있다.\n",
    "#         display(prediction)\n",
    "        correct += prediction.eq(label.view_as(prediction)).sum().item() # view_as: 파라미터 텐서와 같은 size가 되도록 resize\n",
    "    \n",
    "    train_loss /= len(train_loader)\n",
    "    train_accuracy = 100. * correct / len(train_loader.dataset)\n",
    "    return train_loss, train_accuracy"
   ]
  },
  {
   "cell_type": "code",
   "execution_count": null,
   "metadata": {},
   "outputs": [],
   "source": [
    "def evaluate(model, test_loader):\n",
    "    model.eval() # dropout turn off\n",
    "    test_loss = 0\n",
    "    correct = 0\n",
    "    \n",
    "    with torch.no_grad(): # no gradient tracking\n",
    "        for image, label in test_loader:\n",
    "            image = image.to(DEVICE)\n",
    "            label = label.to(DEVICE)\n",
    "            output = model(image)\n",
    "            test_loss += criterion(output, label).item()\n",
    "            prediction = output.max(1, keepdim=True)[1]\n",
    "            correct += prediction.eq(label.view_as(prediction)).sum().item()\n",
    "    test_loss /= len(test_loader)\n",
    "    test_accuracy = 100. * correct / len(test_loader.dataset)\n",
    "    return test_loss, test_accuracy"
   ]
  },
  {
   "cell_type": "code",
   "execution_count": null,
   "metadata": {},
   "outputs": [],
   "source": [
    "def pred(model, test_loader):\n",
    "    model.eval()\n",
    "    pred_li = []\n",
    "    \n",
    "    with torch.no_grad():\n",
    "        for image in test_loader:\n",
    "            image = image.to(DEVICE)\n",
    "            output = model(image)\n",
    "            pred_li.append(output.cpu().numpy().argmax(axis=1))\n",
    "            \n",
    "    return np.concatenate(pred_li)"
   ]
  },
  {
   "cell_type": "markdown",
   "metadata": {
    "id": "IViKDmlGsFoq"
   },
   "source": [
    "# Simple_DNN"
   ]
  },
  {
   "cell_type": "code",
   "execution_count": null,
   "metadata": {},
   "outputs": [],
   "source": [
    "class Net(nn.Module):\n",
    "    def __init__(self):\n",
    "        super(Net, self).__init__()\n",
    "        self.linear1 = nn.Sequential(\n",
    "            nn.Linear(28 * 28, 512)\n",
    "        )\n",
    "        self.linear2 = nn.Sequential(\n",
    "            nn.Linear(512, 256)\n",
    "        )\n",
    "        self.linear3 = nn.Sequential(\n",
    "            nn.Linear(256, 128)\n",
    "        )\n",
    "        self.linear4 = nn.Sequential(\n",
    "            nn.Linear(128, 10)\n",
    "        )\n",
    "        \n",
    "    def forward(self, x):\n",
    "        x = x.view(-1, 28*28)\n",
    "        x = self.linear1(x)\n",
    "        x = self.linear2(x)\n",
    "        x = self.linear3(x)\n",
    "        x = self.linear4(x)\n",
    "        \n",
    "        return x"
   ]
  },
  {
   "cell_type": "code",
   "execution_count": null,
   "metadata": {},
   "outputs": [],
   "source": [
    "model = Net().to(DEVICE)\n",
    "optimizer = torch.optim.SGD(model.parameters(), lr=0.01, momentum=0.5)\n",
    "criterion = nn.CrossEntropyLoss()\n",
    "\n",
    "print(model)"
   ]
  },
  {
   "cell_type": "code",
   "execution_count": null,
   "metadata": {
    "colab": {
     "base_uri": "https://localhost:8080/"
    },
    "executionInfo": {
     "elapsed": 9,
     "status": "ok",
     "timestamp": 1629618670725,
     "user": {
      "displayName": "이성범",
      "photoUrl": "",
      "userId": "11166281350151773159"
     },
     "user_tz": -540
    },
    "id": "2v1DTo3NsIi-",
    "outputId": "0c4d34c0-a0d0-4fb9-fee2-00b11a2c3838"
   },
   "outputs": [],
   "source": [
    "model = Net().to(DEVICE)\n",
    "optimizer = torch.optim.SGD(model.parameters(), lr = 0.01, momentum = 0.5)\n",
    "criterion = nn.CrossEntropyLoss()\n",
    "\n",
    "print(model)"
   ]
  },
  {
   "cell_type": "code",
   "execution_count": null,
   "metadata": {},
   "outputs": [],
   "source": [
    "result_list = []\n",
    "TRAIN = 'Train'\n",
    "VAL = 'Val'\n",
    "for epoch in range(1, EPOCHS + 1):\n",
    "    train_loss, train_accuracy = train(model, train_loader)\n",
    "    val_loss, val_accuracy = evaluate(model, val_loader)\n",
    "    print(f'Epoch: {epoch:>2}/{EPOCHS} {TRAIN:>8} Loss: {train_loss:.4f} {TRAIN:>8} Accuracy: {train_accuracy:0.2f}% {VAL:>6} Loss: {val_loss:.4f} {VAL:>6} Accuracy: {val_accuracy:.2f}')\n",
    "#     print(f\"[EPOCH: {epoch}/{EPOCH}] \\tTrain Loss: {train_loss:.4f}, \\tTrain Accuracy: {train_accuracy:.2f} %, \\tVal Loss: {val_loss:.4f}, \\tVal Accuracy: {val_accuracy:.2f} % \\n\")\n",
    "    result = {\n",
    "        'EPOCH': epoch,\n",
    "        'Train Loss': train_loss,\n",
    "        'Train Accuracy': train_accuracy,\n",
    "        'Val Loss': val_loss,\n",
    "        'Val Accuracy': val_accuracy\n",
    "    }\n",
    "    result_list.append(result)\n",
    "result_df = pd.DataFrame(result_list)"
   ]
  },
  {
   "cell_type": "code",
   "execution_count": null,
   "metadata": {},
   "outputs": [],
   "source": [
    "plt.style.use('default')\n",
    "fig, axes = plt.subplots(nrows=1, ncols=2, figsize=(15,5))\n",
    "\n",
    "axes[0].plot(result_df['EPOCH'], result_df['Train Loss'], label='Train Loss')\n",
    "axes[0].plot(result_df['EPOCH'], result_df['Val Loss'], label='Val Loss')\n",
    "axes[0].set_ylim(0.0, 2.0)\n",
    "axes[0].legend()\n",
    "axes[0]. set_title('Loss')\n",
    "\n",
    "axes[1].plot(result_df['EPOCH'], result_df['Train Accuracy'], label='Train Accuracy')\n",
    "axes[1].plot(result_df['EPOCH'], result_df['Val Accuracy'], label='Val Accuracy')\n",
    "axes[1].set_ylim(50, 100)\n",
    "axes[1].legend()\n",
    "axes[1].set_title('Accuracy')"
   ]
  },
  {
   "cell_type": "code",
   "execution_count": null,
   "metadata": {},
   "outputs": [],
   "source": [
    "def train_model(model):\n",
    "    result_list = []\n",
    "    TRAIN = 'Train'\n",
    "    VAL = 'Val'\n",
    "    for epoch in range(1, EPOCHS + 1):\n",
    "        train_loss, train_accuracy = train(model, train_loader)\n",
    "        val_loss, val_accuracy = evaluate(model, val_loader)\n",
    "        print(f'Epoch: {epoch:>2}/{EPOCHS} {TRAIN:>8} Loss: {train_loss:.4f} {TRAIN:>8} Accuracy: {train_accuracy:0.2f}% {VAL:>6} Loss: {val_loss:.4f} {VAL:>6} Accuracy: {val_accuracy:.2f}')\n",
    "        result = {\n",
    "            'EPOCH': epoch,\n",
    "            'Train Loss': train_loss,\n",
    "            'Train Accuracy': train_accuracy,\n",
    "            'Val Loss': val_loss,\n",
    "            'Val Accuracy': val_accuracy\n",
    "        }\n",
    "        result_list.append(result)\n",
    "    result_df = pd.DataFrame(result_list)\n",
    "    return result_df"
   ]
  },
  {
   "cell_type": "code",
   "execution_count": null,
   "metadata": {},
   "outputs": [],
   "source": [
    "def plot_training(result_df):\n",
    "    fig, axes = plt.subplots(nrows=1, ncols=2, figsize=(15,5))\n",
    "\n",
    "    axes[0].plot(result_df['EPOCH'], result_df['Train Loss'], label='Train Loss')\n",
    "    axes[0].plot(result_df['EPOCH'], result_df['Val Loss'], label='Val Loss')\n",
    "    axes[0].set_ylim(0.0, 1.0)\n",
    "    axes[0].legend()\n",
    "    axes[0]. set_title('Loss')\n",
    "\n",
    "    axes[1].plot(result_df['EPOCH'], result_df['Train Accuracy'], label='Train Accuracy')\n",
    "    axes[1].plot(result_df['EPOCH'], result_df['Val Accuracy'], label='Val Accuracy')\n",
    "    axes[1].set_ylim(70, 100)\n",
    "    axes[1].legend()\n",
    "    axes[1].set_title('Accuracy')"
   ]
  },
  {
   "cell_type": "markdown",
   "metadata": {
    "id": "RyUYGuRhsYrp"
   },
   "source": [
    "# Activation Function"
   ]
  },
  {
   "cell_type": "code",
   "execution_count": null,
   "metadata": {
    "id": "MEXkcaJ4pMVq"
   },
   "outputs": [],
   "source": [
    "class Net(nn.Module):\n",
    "    def __init__(self):\n",
    "        super(Net, self).__init__()\n",
    "        self.linear1 = nn.Sequential(\n",
    "            nn.Linear(28 * 28, 512),\n",
    "            nn.ReLU()\n",
    "        )\n",
    "        self.linear2 = nn.Sequential(\n",
    "            nn.Linear(512, 256),\n",
    "            nn.ReLU()\n",
    "        )\n",
    "        self.linear3 = nn.Sequential(\n",
    "            nn.Linear(256, 128),\n",
    "            nn.ReLU()\n",
    "        )\n",
    "        self.linear4 = nn.Sequential(\n",
    "            nn.Linear(128, 10)\n",
    "        )\n",
    "\n",
    "    def forward(self, x):\n",
    "        x = x.view(-1, 28 * 28)\n",
    "        x = self.linear1(x)\n",
    "        x = self.linear2(x)\n",
    "        x = self.linear3(x)\n",
    "        x = self.linear4(x)\n",
    "        return x"
   ]
  },
  {
   "cell_type": "code",
   "execution_count": null,
   "metadata": {
    "colab": {
     "base_uri": "https://localhost:8080/"
    },
    "executionInfo": {
     "elapsed": 5,
     "status": "ok",
     "timestamp": 1629618730036,
     "user": {
      "displayName": "이성범",
      "photoUrl": "",
      "userId": "11166281350151773159"
     },
     "user_tz": -540
    },
    "id": "XtT3TuyLpsSw",
    "outputId": "d8f74eae-960b-4f37-b7ab-231a367192f5"
   },
   "outputs": [],
   "source": [
    "model = Net().to(DEVICE)\n",
    "optimizer = torch.optim.SGD(model.parameters(), lr = 0.01, momentum = 0.5)\n",
    "criterion = nn.CrossEntropyLoss()\n",
    "\n",
    "print(model)"
   ]
  },
  {
   "cell_type": "code",
   "execution_count": null,
   "metadata": {
    "colab": {
     "base_uri": "https://localhost:8080/"
    },
    "executionInfo": {
     "elapsed": 59766,
     "status": "ok",
     "timestamp": 1629618789799,
     "user": {
      "displayName": "이성범",
      "photoUrl": "",
      "userId": "11166281350151773159"
     },
     "user_tz": -540
    },
    "id": "Q6QdeXBQz5HV",
    "outputId": "3e3d4e53-6a07-460c-d319-2e6ecdbf652f"
   },
   "outputs": [],
   "source": [
    "result_df = train_model(model)"
   ]
  },
  {
   "cell_type": "code",
   "execution_count": null,
   "metadata": {
    "colab": {
     "base_uri": "https://localhost:8080/",
     "height": 336
    },
    "executionInfo": {
     "elapsed": 776,
     "status": "ok",
     "timestamp": 1629618790565,
     "user": {
      "displayName": "이성범",
      "photoUrl": "",
      "userId": "11166281350151773159"
     },
     "user_tz": -540
    },
    "id": "Fljp667oz5HW",
    "outputId": "08543111-5bc3-4d27-db8e-aead12f95bb2"
   },
   "outputs": [],
   "source": [
    "plot_training(result_df)"
   ]
  },
  {
   "cell_type": "markdown",
   "metadata": {
    "id": "WNBsJv5TscN7",
    "tags": []
   },
   "source": [
    "# Weight Initialization"
   ]
  },
  {
   "cell_type": "code",
   "execution_count": null,
   "metadata": {},
   "outputs": [],
   "source": [
    "class LinearBlock(nn.Module):\n",
    "    def __init__(self, n_input, n_output):\n",
    "        super(LinearBlock, self).__init__()\n",
    "        self.linear = nn.Linear(n_input, n_output)\n",
    "        self.relu = nn.ReLU()\n",
    "    def forward(self, x):\n",
    "        return self.relu(self.linear(x))\n",
    "\n",
    "class Net_init(nn.Module):\n",
    "    def __init__(self):\n",
    "        super(Net_init, self).__init__()\n",
    "        self.linear1 = LinearBlock(28 * 28, 512)\n",
    "        self.linear2 = LinearBlock(512, 256)\n",
    "        self.linear3 = LinearBlock(256, 128)\n",
    "        self.linear4 = nn.linear(128, 10)\n",
    "        \n",
    "        self._init_weight_()\n",
    "    \n",
    "    def _init_weight_(self):\n",
    "        for m in self.modules(): # The self.modules() method returns an iterable to the many layers or “modules” defined in the model class.-> modules 메소드를 이용하니 모델 내의 모두 init처리 가능\n",
    "            if isinstance(m, nn.Linear):\n",
    "                nn.init.kaiming_uniform_(m.weight)\n",
    "                \n",
    "#         for m in self.linear2:\n",
    "#             if isinstance(m, nn.Linear):\n",
    "#                 nn.init.kaiming_uniform_(m.weight)\n",
    "                \n",
    "#         for m in self.linear3:\n",
    "#             if isinstance(m, nn.Linear):\n",
    "#                 nn.init.kaiming_uniform_(m.weight)\n",
    "                \n",
    "    def forward(self, x):\n",
    "        x = x.view(-1, 28*28)\n",
    "        x = self.linear1(x)\n",
    "        x = self.linear2(x)\n",
    "        x = self.linear3(x)\n",
    "        x = self.linear4(x)\n",
    "        return x"
   ]
  },
  {
   "cell_type": "code",
   "execution_count": null,
   "metadata": {},
   "outputs": [],
   "source": [
    "class Net_init_lsb(nn.Module):\n",
    "    def __init__(self):\n",
    "        super(Net_init_lsb, self).__init__()\n",
    "        \n",
    "        self.linear1 = nn.Sequential(\n",
    "            nn.Linear(28*28, 512),\n",
    "            nn.ReLU()\n",
    "        )\n",
    "            \n",
    "        self.linear2 = nn.Sequential(\n",
    "            nn.Linear(512,256),\n",
    "            nn.ReLU()\n",
    "        )\n",
    "        self.linear3 = nn.Sequential(\n",
    "            nn.Linear(256,128),\n",
    "            nn.ReLU()\n",
    "        )\n",
    "        self.linear4 = nn.Sequential(\n",
    "            nn.Linear(128,10),\n",
    "            nn.ReLU()\n",
    "        )\n",
    "        \n",
    "        self._init_weight_()\n",
    "    \n",
    "    def _init_weight_(self):\n",
    "        for m in self.linear1: # The self.modules() method returns an iterable to the many layers or “modules” defined in the model class.-> modules 메소드를 이용하니 모델 내의 모두 init처리 가능\n",
    "            if isinstance(m, nn.Linear):\n",
    "                nn.init.kaiming_uniform_(m.weight)\n",
    "                \n",
    "        for m in self.linear2:\n",
    "            if isinstance(m, nn.Linear):\n",
    "                nn.init.kaiming_uniform_(m.weight)\n",
    "                \n",
    "        for m in self.linear3:\n",
    "            if isinstance(m, nn.Linear):\n",
    "                nn.init.kaiming_uniform_(m.weight)\n",
    "                \n",
    "    def forward(self, x):\n",
    "        x = x.view(-1, 28*28)\n",
    "        x = self.linear1(x)\n",
    "        x = self.linear2(x)\n",
    "        x = self.linear3(x)\n",
    "        x = self.linear4(x)\n",
    "        return x"
   ]
  },
  {
   "cell_type": "code",
   "execution_count": null,
   "metadata": {},
   "outputs": [],
   "source": [
    "print('Device:', DEVICE)\n",
    "model = Net_init_lsb().to(DEVICE)\n",
    "optimizer = torch.optim.SGD(model.parameters(), lr=0.01, momentum=0.5)\n",
    "criterion = nn.CrossEntropyLoss()\n",
    "\n",
    "print(model)"
   ]
  },
  {
   "cell_type": "code",
   "execution_count": null,
   "metadata": {
    "colab": {
     "base_uri": "https://localhost:8080/"
    },
    "executionInfo": {
     "elapsed": 59474,
     "status": "ok",
     "timestamp": 1629618850037,
     "user": {
      "displayName": "이성범",
      "photoUrl": "",
      "userId": "11166281350151773159"
     },
     "user_tz": -540
    },
    "id": "E8bzvby50TMq",
    "outputId": "77bd11df-381b-43db-9455-022e9f02424a"
   },
   "outputs": [],
   "source": [
    "result_df = train_model(model)"
   ]
  },
  {
   "cell_type": "code",
   "execution_count": null,
   "metadata": {
    "colab": {
     "base_uri": "https://localhost:8080/",
     "height": 336
    },
    "executionInfo": {
     "elapsed": 802,
     "status": "ok",
     "timestamp": 1629618850827,
     "user": {
      "displayName": "이성범",
      "photoUrl": "",
      "userId": "11166281350151773159"
     },
     "user_tz": -540
    },
    "id": "FZ3w28Ot0TMr",
    "outputId": "2a578f9e-5599-4b0d-c21b-8b5975573b1b"
   },
   "outputs": [],
   "source": [
    "plot_training(result_df)"
   ]
  },
  {
   "cell_type": "markdown",
   "metadata": {
    "id": "ZQrOPXksse-7"
   },
   "source": [
    "# Batch Normalization"
   ]
  },
  {
   "cell_type": "code",
   "execution_count": null,
   "metadata": {},
   "outputs": [],
   "source": [
    "class BasicBlock(nn.Module):\n",
    "    def __init__(self, num_input, num_output):\n",
    "        super(BasicBlock, self).__init__()\n",
    "        self.linear = nn.Linear(num_input, num_output)\n",
    "        self.bn = nn.BatchNorm1d(num_output)\n",
    "        self.relu = nn.ReLU()\n",
    "        \n",
    "    def forward(self, x):\n",
    "        x = self.linear(x)\n",
    "        x = self.bn(x)\n",
    "        return self.relu(x)\n",
    "\n",
    "class Net_bn(nn.Module):\n",
    "    def __init__(self):\n",
    "        super(Net_bn, self).__init__()\n",
    "        self.linear1 = BasicBlock(28*28, 512)\n",
    "        self.linear2 = BasicBlock(512, 256)\n",
    "        self.linear3 = BasicBlock(256, 128)\n",
    "        self.linear4 = nn.Linear(128, 10)\n",
    "        \n",
    "        self._init_weight_()\n",
    "    \n",
    "    def _init_weight_(self):\n",
    "        for m in self.modules():\n",
    "            if isinstance(m, nn.Linear) and m != self.linear4:\n",
    "                nn.init.kaiming_uniform_(m.weight)\n",
    "    \n",
    "    def forward(self, x):\n",
    "        x = x.view(-1, 784)\n",
    "        x = self.linear1(x)\n",
    "        x = self.linear2(x)\n",
    "        x = self.linear3(x)\n",
    "        return self.linear4(x)"
   ]
  },
  {
   "cell_type": "code",
   "execution_count": null,
   "metadata": {
    "colab": {
     "base_uri": "https://localhost:8080/"
    },
    "executionInfo": {
     "elapsed": 9,
     "status": "ok",
     "timestamp": 1629618850830,
     "user": {
      "displayName": "이성범",
      "photoUrl": "",
      "userId": "11166281350151773159"
     },
     "user_tz": -540
    },
    "id": "I9WRy-0C1Tw6",
    "outputId": "c025693c-5a41-44fb-eb19-1165bebb2783"
   },
   "outputs": [],
   "source": [
    "model = Net_bn().to(DEVICE)\n",
    "optimizer = torch.optim.SGD(model.parameters(), lr = 0.01, momentum = 0.5)\n",
    "criterion = nn.CrossEntropyLoss()\n",
    "\n",
    "print(model)"
   ]
  },
  {
   "cell_type": "code",
   "execution_count": null,
   "metadata": {
    "colab": {
     "base_uri": "https://localhost:8080/"
    },
    "executionInfo": {
     "elapsed": 90413,
     "status": "ok",
     "timestamp": 1629618941238,
     "user": {
      "displayName": "이성범",
      "photoUrl": "",
      "userId": "11166281350151773159"
     },
     "user_tz": -540
    },
    "id": "_F7dKHTD0TsQ",
    "outputId": "fee2879a-31b8-4226-c2b8-0d196d72070a"
   },
   "outputs": [],
   "source": [
    "result_df = train_model(model)"
   ]
  },
  {
   "cell_type": "code",
   "execution_count": null,
   "metadata": {},
   "outputs": [],
   "source": [
    "plot_training(result_df)"
   ]
  },
  {
   "cell_type": "markdown",
   "metadata": {
    "id": "1gwUB32GshKT"
   },
   "source": [
    "# Optimization"
   ]
  },
  {
   "cell_type": "code",
   "execution_count": null,
   "metadata": {
    "colab": {
     "base_uri": "https://localhost:8080/"
    },
    "executionInfo": {
     "elapsed": 7,
     "status": "ok",
     "timestamp": 1629618941754,
     "user": {
      "displayName": "이성범",
      "photoUrl": "",
      "userId": "11166281350151773159"
     },
     "user_tz": -540
    },
    "id": "JCaB9wCZ1fsI",
    "outputId": "1528cf31-5518-4427-8c81-e623403e7f50"
   },
   "outputs": [],
   "source": [
    "model = Net_bn().to(DEVICE)\n",
    "optimizer = torch.optim.Adam(model.parameters(), lr = 0.01)\n",
    "criterion = nn.CrossEntropyLoss()\n",
    "\n",
    "print(model)"
   ]
  },
  {
   "cell_type": "code",
   "execution_count": null,
   "metadata": {
    "colab": {
     "base_uri": "https://localhost:8080/",
     "height": 336
    },
    "executionInfo": {
     "elapsed": 728,
     "status": "ok",
     "timestamp": 1629619047069,
     "user": {
      "displayName": "이성범",
      "photoUrl": "",
      "userId": "11166281350151773159"
     },
     "user_tz": -540
    },
    "id": "EfCVKKLJ0ULz",
    "outputId": "ec6a1c04-998d-40d8-8e00-c2d78dfcb202"
   },
   "outputs": [],
   "source": [
    "plot_training(train_model(model))"
   ]
  },
  {
   "cell_type": "markdown",
   "metadata": {
    "id": "efosC0aKsjO7"
   },
   "source": [
    "# Dropout"
   ]
  },
  {
   "cell_type": "code",
   "execution_count": null,
   "metadata": {},
   "outputs": [],
   "source": [
    "class BasicBlock(nn.Module):\n",
    "    def __init__(self, num_input, num_output):\n",
    "        super(BasicBlock, self).__init__()\n",
    "        self.linear = nn.Linear(num_input, num_output)\n",
    "        self.bn = nn.BatchNorm1d(num_output)\n",
    "        self.relu = nn.ReLU()\n",
    "        self.dropout = nn.Dropout(0.2)\n",
    "        \n",
    "    def forward(self, x):\n",
    "        x = self.linear(x)\n",
    "        x = self.bn(x)\n",
    "        x = self.relu(x)\n",
    "        return self.dropout(x)\n",
    "\n",
    "class Net_dropout(nn.Module):\n",
    "    def __init__(self):\n",
    "        super(Net_dropout, self).__init__()\n",
    "        self.linear1 = BasicBlock(28*28, 512)\n",
    "        self.linear2 = BasicBlock(512, 256)\n",
    "        self.linear3 = BasicBlock(256, 128)\n",
    "        self.linear4 = nn.Linear(128,10)\n",
    "        \n",
    "        self._init_weight_()\n",
    "    \n",
    "    def _init_weight_(self):\n",
    "        for m in self.modules():\n",
    "            if isinstance(m, nn.Linear) and m != self.linear4:\n",
    "                nn.init.kaiming_uniform_(m.weight)\n",
    "    \n",
    "    def forward(self, x):\n",
    "        x = x.view(-1, 784)\n",
    "        x = self.linear1(x)\n",
    "        x = self.linear2(x)\n",
    "        x = self.linear3(x)\n",
    "        return self.linear4(x)"
   ]
  },
  {
   "cell_type": "code",
   "execution_count": null,
   "metadata": {
    "colab": {
     "base_uri": "https://localhost:8080/"
    },
    "executionInfo": {
     "elapsed": 9,
     "status": "ok",
     "timestamp": 1629619047071,
     "user": {
      "displayName": "이성범",
      "photoUrl": "",
      "userId": "11166281350151773159"
     },
     "user_tz": -540
    },
    "id": "4XGK9N2E1l9m",
    "outputId": "02b26d88-dc9f-4531-8282-ad3f116b6a1d"
   },
   "outputs": [],
   "source": [
    "model = Net_dropout().to(DEVICE)\n",
    "optimizer = torch.optim.Adam(model.parameters(), lr = 0.01)\n",
    "criterion = nn.CrossEntropyLoss()\n",
    "\n",
    "print(model)"
   ]
  },
  {
   "cell_type": "markdown",
   "metadata": {},
   "source": [
    "**Validation Set에서 더 높은 성능이 나오는 건 무슨 경우일까..?**"
   ]
  },
  {
   "cell_type": "code",
   "execution_count": null,
   "metadata": {
    "colab": {
     "base_uri": "https://localhost:8080/"
    },
    "executionInfo": {
     "elapsed": 108313,
     "status": "ok",
     "timestamp": 1629619155379,
     "user": {
      "displayName": "이성범",
      "photoUrl": "",
      "userId": "11166281350151773159"
     },
     "user_tz": -540
    },
    "id": "QMCB53iN1l9m",
    "outputId": "bb319cc5-ae65-408a-d9be-016d768a94cb"
   },
   "outputs": [],
   "source": [
    "EPOCHS = 30\n",
    "plot_training(train_model(model))"
   ]
  },
  {
   "cell_type": "markdown",
   "metadata": {
    "id": "xj3e9wo2snij"
   },
   "source": [
    "# Regularization"
   ]
  },
  {
   "cell_type": "code",
   "execution_count": null,
   "metadata": {
    "colab": {
     "base_uri": "https://localhost:8080/"
    },
    "executionInfo": {
     "elapsed": 502,
     "status": "ok",
     "timestamp": 1629619229976,
     "user": {
      "displayName": "이성범",
      "photoUrl": "",
      "userId": "11166281350151773159"
     },
     "user_tz": -540
    },
    "id": "q1cJo6fO1uDm",
    "outputId": "3b8c6ca3-51f4-4f74-fd8a-14774d87c045"
   },
   "outputs": [],
   "source": [
    "model = Net_dropout().to(DEVICE)\n",
    "optimizer = torch.optim.Adam(model.parameters(), lr = 0.01, weight_decay = 0.001)\n",
    "criterion = nn.CrossEntropyLoss()\n",
    "\n",
    "print(model)"
   ]
  },
  {
   "cell_type": "code",
   "execution_count": null,
   "metadata": {
    "colab": {
     "base_uri": "https://localhost:8080/"
    },
    "executionInfo": {
     "elapsed": 1381864,
     "status": "ok",
     "timestamp": 1629620611837,
     "user": {
      "displayName": "이성범",
      "photoUrl": "",
      "userId": "11166281350151773159"
     },
     "user_tz": -540
    },
    "id": "OwMdinys0VGH",
    "outputId": "9e368f54-518a-4842-e320-c7cd3361b3ca"
   },
   "outputs": [],
   "source": [
    "plot_training(train_model(model))"
   ]
  },
  {
   "cell_type": "markdown",
   "metadata": {
    "id": "dSLnNAGatnRb"
   },
   "source": [
    "# 제출"
   ]
  },
  {
   "cell_type": "code",
   "execution_count": null,
   "metadata": {
    "id": "ADxy8kMw49ts"
   },
   "outputs": [],
   "source": [
    "BATCH_SIZE = 128\n",
    "EPOCHS = 200"
   ]
  },
  {
   "cell_type": "code",
   "execution_count": null,
   "metadata": {
    "colab": {
     "base_uri": "https://localhost:8080/"
    },
    "executionInfo": {
     "elapsed": 538,
     "status": "ok",
     "timestamp": 1629620830774,
     "user": {
      "displayName": "이성범",
      "photoUrl": "",
      "userId": "11166281350151773159"
     },
     "user_tz": -540
    },
    "id": "Qj9X1vtd49tz",
    "outputId": "25100768-7a04-4830-ae27-b76671a34c46"
   },
   "outputs": [],
   "source": [
    "model = Net_dropout().to(DEVICE)\n",
    "optimizer = torch.optim.Adam(model.parameters(), lr = 0.005)\n",
    "criterion = nn.CrossEntropyLoss()\n",
    "\n",
    "print(model)"
   ]
  },
  {
   "cell_type": "code",
   "execution_count": null,
   "metadata": {
    "colab": {
     "base_uri": "https://localhost:8080/"
    },
    "executionInfo": {
     "elapsed": 745667,
     "status": "ok",
     "timestamp": 1629621576438,
     "user": {
      "displayName": "이성범",
      "photoUrl": "",
      "userId": "11166281350151773159"
     },
     "user_tz": -540
    },
    "id": "JxV_tHEm49tz",
    "outputId": "ce8802b9-19ea-4824-97d4-7e02b2158f8a"
   },
   "outputs": [],
   "source": [
    "plot_training(train_model(model))"
   ]
  },
  {
   "cell_type": "code",
   "execution_count": null,
   "metadata": {
    "colab": {
     "base_uri": "https://localhost:8080/",
     "height": 202
    },
    "executionInfo": {
     "elapsed": 8,
     "status": "ok",
     "timestamp": 1629621577317,
     "user": {
      "displayName": "이성범",
      "photoUrl": "",
      "userId": "11166281350151773159"
     },
     "user_tz": -540
    },
    "id": "P2oIdaLGtozX",
    "outputId": "48b36097-4964-45a5-d55a-cc17a9cb6a87"
   },
   "outputs": [],
   "source": [
    "pred_label = pred(model, test_loader)\n",
    "\n",
    "submission['label'] = pred_label\n",
    "\n",
    "submission.to_csv(data_dir + 'BaseLine_Model.csv', index = False)\n",
    "\n",
    "submission.head()"
   ]
  },
  {
   "cell_type": "markdown",
   "metadata": {
    "id": "UwCKGN68-Jzw",
    "tags": []
   },
   "source": [
    "# Deep Advanced NN"
   ]
  },
  {
   "cell_type": "code",
   "execution_count": null,
   "metadata": {},
   "outputs": [],
   "source": [
    "from sklearn.model_selection import train_test_split\n",
    "\n",
    "X_train, X_val, y_train, y_val = train_test_split(X, y, test_size = 0.2, random_state = 16, stratify = y, shuffle = True)\n",
    "\n",
    "# 정규화\n",
    "X_train = X_train / 255.0\n",
    "X_val = X_val / 255.0\n",
    "X_test = X_test / 255.0\n",
    "\n",
    "X_train = torch.FloatTensor(X_train)\n",
    "X_train = X_train.view(-1,1,28,28)     # 1-dim인 데이터를 2-dim으로 만들어준다. -> Data augmentation이나 CNN에 유리하다\n",
    "y_train = torch.LongTensor(y_train)\n",
    "\n",
    "X_val = torch.FloatTensor(X_val)\n",
    "X_val = X_val.view(-1,1,28,28)         # 1-dim인 데이터를 2-dim으로 만들어준다. -> Data augmentation이나 CNN에 유리하다\n",
    "y_val = torch.LongTensor(y_val)\n",
    "\n",
    "X_test = torch.FloatTensor(X_test)\n",
    "X_test = X_test.view(-1,1,28,28)       # 1-dim인 데이터를 2-dim으로 만들어준다. -> Data augmentation이나 CNN에 유리하다"
   ]
  },
  {
   "cell_type": "code",
   "execution_count": null,
   "metadata": {},
   "outputs": [],
   "source": [
    "# dataset with augmentation\n",
    "from torch.utils.data import Dataset\n",
    "from torch.utils.data import DataLoader\n",
    "\n",
    "class AugmentedDataSet(Dataset):\n",
    "    def __init__(self, image, label=None, transform=None):\n",
    "        super(Dataset, self).__init__()\n",
    "        self._image = image\n",
    "        self._label = label\n",
    "        self.transform = transform\n",
    "        \n",
    "    def __len__(self):\n",
    "        return len(self._image)\n",
    "    \n",
    "    def __getitem__(self, idx):\n",
    "        if self._label is None:\n",
    "            image = self._image[idx]\n",
    "            return image\n",
    "        \n",
    "        else:\n",
    "            image = self._image[idx]\n",
    "            label = self._label[idx]\n",
    "            \n",
    "            if self.transform:\n",
    "                image = self.transform(image)\n",
    "            \n",
    "            return image, label"
   ]
  },
  {
   "cell_type": "code",
   "execution_count": null,
   "metadata": {},
   "outputs": [],
   "source": [
    "BATCH_SIZE=128\n",
    "import torchvision.transforms as transforms\n",
    "\n",
    "transform_train = transforms.Compose([\n",
    "    transforms.ToPILImage(),\n",
    "    transforms.Resize((28,28)),\n",
    "#     transforms.RandomCrop(28, padding=4),\n",
    "    transforms.RandomHorizontalFlip(),\n",
    "#     transforms.RandomRotation(90),\n",
    "    transforms.ToTensor()\n",
    "])\n",
    "\n",
    "augmented_train_dataset = AugmentedDataSet(X_train, y_train, transform=transform_train)\n",
    "augmented_train_loader = DataLoader(augmented_train_dataset, batch_size = BATCH_SIZE, shuffle=True, drop_last=False) # if drop_last == True, last incompelete batch is dropped\n",
    "\n",
    "val_dataset = AugmentedDataSet(X_val, y_val)\n",
    "val_loader = DataLoader(val_dataset, batch_size=BATCH_SIZE, shuffle=True, drop_last=False)\n",
    "\n",
    "test_dataset = AugmentedDataSet(X_test)\n",
    "test_loader = DataLoader(test_dataset, batch_size=BATCH_SIZE, shuffle=False, drop_last=False)"
   ]
  },
  {
   "cell_type": "code",
   "execution_count": null,
   "metadata": {},
   "outputs": [],
   "source": [
    "def train_model(model, train_loader):\n",
    "    result_list = []\n",
    "    TRAIN = 'Train'\n",
    "    VAL = 'Val'\n",
    "    for epoch in range(1, EPOCHS + 1):\n",
    "        train_loss, train_accuracy = train(model, train_loader)\n",
    "        val_loss, val_accuracy = evaluate(model, val_loader)\n",
    "        print(f'Epoch: {epoch:>2}/{EPOCHS} {TRAIN:>8} Loss: {train_loss:.4f} {TRAIN:>8} Accuracy: {train_accuracy:0.2f}% {VAL:>6} Loss: {val_loss:.4f} {VAL:>6} Accuracy: {val_accuracy:.2f}%')\n",
    "        result = {\n",
    "            'EPOCH': epoch,\n",
    "            'Train Loss': train_loss,\n",
    "            'Train Accuracy': train_accuracy,\n",
    "            'Val Loss': val_loss,\n",
    "            'Val Accuracy': val_accuracy\n",
    "        }\n",
    "        result_list.append(result)\n",
    "    result_df = pd.DataFrame(result_list)\n",
    "    return result_df"
   ]
  },
  {
   "cell_type": "code",
   "execution_count": null,
   "metadata": {},
   "outputs": [],
   "source": [
    "DEVICE = 'cuda' if torch.cuda.is_available() else 'cpu'\n",
    "print('Device:', DEVICE)\n",
    "model_dropout = Net_dropout().to(DEVICE)\n",
    "optimizer = torch.optim.Adam(model_dropout.parameters(), lr = 0.01)\n",
    "criterion = nn.CrossEntropyLoss()\n",
    "\n",
    "print(model_dropout)"
   ]
  },
  {
   "cell_type": "code",
   "execution_count": null,
   "metadata": {},
   "outputs": [],
   "source": [
    "EPOCHS=30\n",
    "plot_training(train_model(model_dropout, augmented_train_loader))"
   ]
  },
  {
   "cell_type": "code",
   "execution_count": null,
   "metadata": {},
   "outputs": [],
   "source": [
    "pred_label = pred(model_dropout, test_loader)\n",
    "\n",
    "submission['label'] = pred_label\n",
    "\n",
    "submission.to_csv(data_dir + 'dropout.csv', index = False)\n",
    "\n",
    "submission.head()"
   ]
  },
  {
   "cell_type": "code",
   "execution_count": null,
   "metadata": {},
   "outputs": [],
   "source": [
    "class VGG(nn.Module) :\n",
    "    def __init__(self, num_classes=10) :\n",
    "        super(VGG, self).__init__()\n",
    "        self.config = [64, 'M', 128, 'M', 256, 256, 'M', 512, 512, 'M']\n",
    "        self.features = self._make_layers(self.config)\n",
    "\n",
    "        self.classifier = nn.Sequential(\n",
    "            nn.Linear(512, 4096), nn.ReLU(inplace=True), nn.Dropout(),\n",
    "            nn.Linear(4096, 4096), nn.ReLU(inplace=True), nn.Dropout(),\n",
    "            nn.Linear(4096, num_classes)\n",
    "        )\n",
    "\n",
    "    def forward(self, x) :\n",
    "        output = self.features(x)\n",
    "        output = output.view(output.size(0), -1)\n",
    "        output = self.classifier(output)\n",
    "\n",
    "        return output\n",
    "\n",
    "    def _make_layers(self, config) :\n",
    "        layers = []\n",
    "\n",
    "        input_channels = 1\n",
    "        for l in config :\n",
    "            if l == 'M' : \n",
    "                layers += [nn.MaxPool2d(kernel_size=2, stride=2)]\n",
    "                continue\n",
    "      \n",
    "            if 'x' in str(l) : \n",
    "                layers += [nn.Conv2d(input_channels, int(l.splits('x')[0]), kernel_size=1, padding=1)]\n",
    "                continue\n",
    "\n",
    "            layers += [nn.Conv2d(input_channels, l, kernel_size=3, padding=1)]\n",
    "            layers += [nn.ReLU(inplace=True)]\n",
    "            \n",
    "            input_channels = l\n",
    "\n",
    "\n",
    "        return nn.Sequential(*layers)\n",
    "\n",
    "def get_model() :\n",
    "    return VGG()"
   ]
  },
  {
   "cell_type": "code",
   "execution_count": null,
   "metadata": {},
   "outputs": [],
   "source": [
    "DEVICE = 'cuda' if torch.cuda.is_available() else 'cpu'\n",
    "print('Device:', DEVICE)\n",
    "model_vgg = get_model().to(DEVICE)\n",
    "optimizer = torch.optim.Adam(model_vgg.parameters(), lr = 0.0001)\n",
    "criterion = nn.CrossEntropyLoss()\n",
    "\n",
    "print(model_vgg)"
   ]
  },
  {
   "cell_type": "code",
   "execution_count": null,
   "metadata": {},
   "outputs": [],
   "source": [
    "EPOCHS=30\n",
    "plot_training(train_model(model_vgg, augmented_train_loader))"
   ]
  },
  {
   "cell_type": "code",
   "execution_count": null,
   "metadata": {},
   "outputs": [],
   "source": [
    "pred_label = pred(model_VGG, test_loader)\n",
    "\n",
    "submission['label'] = pred_label\n",
    "\n",
    "submission.to_csv(data_dir + 'VGG.csv', index = False)\n",
    "\n",
    "submission.head()"
   ]
  },
  {
   "cell_type": "code",
   "execution_count": null,
   "metadata": {},
   "outputs": [],
   "source": [
    "submission['label'].value_counts()"
   ]
  },
  {
   "cell_type": "markdown",
   "metadata": {},
   "source": [
    "When using `RandomCrop` and `RandomRation` as augmentation, models are trained hardly. As a result, the VGG model predicted all `Test data` as `5`. So I got the score `0.1`. I don't know why. And why are the validation score/loss better than which of train?"
   ]
  },
  {
   "cell_type": "code",
   "execution_count": null,
   "metadata": {},
   "outputs": [],
   "source": [
    "import torch\n",
    "import torch.nn as nn\n",
    "import torch.nn.functional as F\n",
    "import torch.backends.cudnn as cudnn\n",
    "import torch.optim as optim\n",
    "import os\n",
    "\n",
    "# ResNet18을 위해 최대한 간단히 수정한 BasicBlock 클래스 정의\n",
    "class BasicBlock(nn.Module):\n",
    "    def __init__(self, in_planes, planes, stride=1):\n",
    "        '''\n",
    "        in_planes : # channels of input feature map\n",
    "        planes : # channels of output feature map\n",
    "        '''\n",
    "        super(BasicBlock, self).__init__()\n",
    "\n",
    "        # 3x3 필터를 사용 (너비와 높이를 줄일 때는 stride 값 조절)\n",
    "        self.conv1 = nn.Conv2d(in_planes, planes, kernel_size=3, stride=stride, padding=1, bias=False)\n",
    "        self.bn1 = nn.BatchNorm2d(planes) # 배치 정규화(batch normalization)\n",
    "\n",
    "        # 3x3 필터를 사용 (패딩을 1만큼 주기 때문에 너비와 높이가 동일)\n",
    "        self.conv2 = nn.Conv2d(planes, planes, kernel_size=3, stride=1, padding=1, bias=False)\n",
    "        self.bn2 = nn.BatchNorm2d(planes) # 배치 정규화(batch normalization)\n",
    "\n",
    "        self.shortcut = nn.Sequential() # identity인 경우\n",
    "        if stride != 1: # stride가 1이 아니라면, Identity mapping이 아닌 경우\n",
    "            self.shortcut = nn.Sequential(\n",
    "                nn.Conv2d(in_planes, planes, kernel_size=1, stride=stride, bias=False),\n",
    "                nn.BatchNorm2d(planes)\n",
    "            )\n",
    "\n",
    "    def forward(self, x):\n",
    "        out = F.relu(self.bn1(self.conv1(x)))\n",
    "        out = self.bn2(self.conv2(out))\n",
    "        out += self.shortcut(x) # (핵심) skip connection\n",
    "        out = F.relu(out)\n",
    "        return out\n",
    "\n",
    "\n",
    "# ResNet 클래스 정의\n",
    "class ResNet(nn.Module):\n",
    "    def __init__(self, block, num_blocks, num_classes=10):\n",
    "        super(ResNet, self).__init__()\n",
    "        self.in_planes = 64\n",
    "\n",
    "        # 64개의 3x3 필터(filter)를 사용\n",
    "        self.conv1 = nn.Conv2d(1, 64, kernel_size=3, stride=1, padding=1, bias=False)\n",
    "        self.bn1 = nn.BatchNorm2d(64)\n",
    "        self.layer1 = self._make_layer(block, 64, num_blocks[0], stride=1)\n",
    "        self.layer2 = self._make_layer(block, 128, num_blocks[1], stride=2)\n",
    "        self.layer3 = self._make_layer(block, 256, num_blocks[2], stride=2)\n",
    "        self.layer4 = self._make_layer(block, 512, num_blocks[3], stride=2)\n",
    "        self.linear = nn.Linear(512, num_classes)\n",
    "\n",
    "    def _make_layer(self, block, planes, num_blocks, stride):\n",
    "        strides = [stride] + [1] * (num_blocks - 1) #첫번째 BasicBlock만 convolution 연산에서 너비와 높이가 감소, 그외는 stride를 1로 설정하여 너비와 높이 유지\n",
    "        layers = []\n",
    "        for stride in strides:\n",
    "            layers.append(block(self.in_planes, planes, stride))\n",
    "            self.in_planes = planes # 다음 레이어를 위해 채널 수 변경\n",
    "        return nn.Sequential(*layers)\n",
    "\n",
    "    def forward(self, x):\n",
    "        out = F.relu(self.bn1(self.conv1(x)))\n",
    "        out = self.layer1(out)\n",
    "        out = self.layer2(out)\n",
    "        out = self.layer3(out)\n",
    "        out = self.layer4(out)\n",
    "        out = F.avg_pool2d(out, 4)\n",
    "        out = out.view(out.size(0), -1)\n",
    "        out = self.linear(out)\n",
    "        return out\n",
    "\n",
    "\n",
    "# ResNet18 함수 정의\n",
    "def ResNet18():\n",
    "    return ResNet(BasicBlock, [2, 2, 2, 2])"
   ]
  },
  {
   "cell_type": "code",
   "execution_count": null,
   "metadata": {},
   "outputs": [],
   "source": [
    "DEVICE = 'cuda' if torch.cuda.is_available() else 'cpu'\n",
    "print('Device:', DEVICE)\n",
    "resnet = ResNet18().to(DEVICE)\n",
    "optimizer = torch.optim.Adam(resnet.parameters(), lr = 0.001)\n",
    "criterion = nn.CrossEntropyLoss()\n",
    "\n",
    "print(resnet)"
   ]
  },
  {
   "cell_type": "code",
   "execution_count": null,
   "metadata": {},
   "outputs": [],
   "source": [
    "EPOCHS=30\n",
    "plot_training(train_model(resnet, augmented_train_loader))"
   ]
  },
  {
   "cell_type": "code",
   "execution_count": null,
   "metadata": {},
   "outputs": [],
   "source": [
    "pred_label = pred(resnet, test_loader)\n",
    "\n",
    "submission['label'] = pred_label\n",
    "\n",
    "submission.to_csv(data_dir + 'resnet.csv', index = False)\n",
    "\n",
    "submission.head()"
   ]
  },
  {
   "cell_type": "markdown",
   "metadata": {},
   "source": [
    "### ResNet18 + more augmentation + Regularization + lr scheduler"
   ]
  },
  {
   "cell_type": "code",
   "execution_count": 149,
   "metadata": {},
   "outputs": [],
   "source": [
    "BATCH_SIZE=128\n",
    "import torchvision.transforms as transforms\n",
    "\n",
    "transform_train = transforms.Compose([\n",
    "    transforms.ToPILImage(),\n",
    "    transforms.Resize((28,28)),\n",
    "    transforms.RandomCrop(28, padding=2),\n",
    "    transforms.RandomHorizontalFlip(),\n",
    "#     transforms.RandomRotation(90),\n",
    "    transforms.ToTensor()\n",
    "])\n",
    "\n",
    "augmented_train_dataset = AugmentedDataSet(X_train, y_train, transform=transform_train)\n",
    "augmented_train_loader = DataLoader(augmented_train_dataset, batch_size = BATCH_SIZE, shuffle=True, drop_last=False) # if drop_last == True, last incompelete batch is dropped\n",
    "\n",
    "val_dataset = AugmentedDataSet(X_val, y_val)\n",
    "val_loader = DataLoader(val_dataset, batch_size=BATCH_SIZE, shuffle=True, drop_last=False)\n",
    "\n",
    "test_dataset = AugmentedDataSet(X_test)\n",
    "test_loader = DataLoader(test_dataset, batch_size=BATCH_SIZE, shuffle=False, drop_last=False)"
   ]
  },
  {
   "cell_type": "code",
   "execution_count": 150,
   "metadata": {},
   "outputs": [
    {
     "name": "stdout",
     "output_type": "stream",
     "text": [
      "Device: cuda\n",
      "ResNet(\n",
      "  (conv1): Conv2d(1, 64, kernel_size=(3, 3), stride=(1, 1), padding=(1, 1), bias=False)\n",
      "  (bn1): BatchNorm2d(64, eps=1e-05, momentum=0.1, affine=True, track_running_stats=True)\n",
      "  (layer1): Sequential(\n",
      "    (0): BasicBlock(\n",
      "      (conv1): Conv2d(64, 64, kernel_size=(3, 3), stride=(1, 1), padding=(1, 1), bias=False)\n",
      "      (bn1): BatchNorm2d(64, eps=1e-05, momentum=0.1, affine=True, track_running_stats=True)\n",
      "      (conv2): Conv2d(64, 64, kernel_size=(3, 3), stride=(1, 1), padding=(1, 1), bias=False)\n",
      "      (bn2): BatchNorm2d(64, eps=1e-05, momentum=0.1, affine=True, track_running_stats=True)\n",
      "      (shortcut): Sequential()\n",
      "    )\n",
      "    (1): BasicBlock(\n",
      "      (conv1): Conv2d(64, 64, kernel_size=(3, 3), stride=(1, 1), padding=(1, 1), bias=False)\n",
      "      (bn1): BatchNorm2d(64, eps=1e-05, momentum=0.1, affine=True, track_running_stats=True)\n",
      "      (conv2): Conv2d(64, 64, kernel_size=(3, 3), stride=(1, 1), padding=(1, 1), bias=False)\n",
      "      (bn2): BatchNorm2d(64, eps=1e-05, momentum=0.1, affine=True, track_running_stats=True)\n",
      "      (shortcut): Sequential()\n",
      "    )\n",
      "  )\n",
      "  (layer2): Sequential(\n",
      "    (0): BasicBlock(\n",
      "      (conv1): Conv2d(64, 128, kernel_size=(3, 3), stride=(2, 2), padding=(1, 1), bias=False)\n",
      "      (bn1): BatchNorm2d(128, eps=1e-05, momentum=0.1, affine=True, track_running_stats=True)\n",
      "      (conv2): Conv2d(128, 128, kernel_size=(3, 3), stride=(1, 1), padding=(1, 1), bias=False)\n",
      "      (bn2): BatchNorm2d(128, eps=1e-05, momentum=0.1, affine=True, track_running_stats=True)\n",
      "      (shortcut): Sequential(\n",
      "        (0): Conv2d(64, 128, kernel_size=(1, 1), stride=(2, 2), bias=False)\n",
      "        (1): BatchNorm2d(128, eps=1e-05, momentum=0.1, affine=True, track_running_stats=True)\n",
      "      )\n",
      "    )\n",
      "    (1): BasicBlock(\n",
      "      (conv1): Conv2d(128, 128, kernel_size=(3, 3), stride=(1, 1), padding=(1, 1), bias=False)\n",
      "      (bn1): BatchNorm2d(128, eps=1e-05, momentum=0.1, affine=True, track_running_stats=True)\n",
      "      (conv2): Conv2d(128, 128, kernel_size=(3, 3), stride=(1, 1), padding=(1, 1), bias=False)\n",
      "      (bn2): BatchNorm2d(128, eps=1e-05, momentum=0.1, affine=True, track_running_stats=True)\n",
      "      (shortcut): Sequential()\n",
      "    )\n",
      "  )\n",
      "  (layer3): Sequential(\n",
      "    (0): BasicBlock(\n",
      "      (conv1): Conv2d(128, 256, kernel_size=(3, 3), stride=(2, 2), padding=(1, 1), bias=False)\n",
      "      (bn1): BatchNorm2d(256, eps=1e-05, momentum=0.1, affine=True, track_running_stats=True)\n",
      "      (conv2): Conv2d(256, 256, kernel_size=(3, 3), stride=(1, 1), padding=(1, 1), bias=False)\n",
      "      (bn2): BatchNorm2d(256, eps=1e-05, momentum=0.1, affine=True, track_running_stats=True)\n",
      "      (shortcut): Sequential(\n",
      "        (0): Conv2d(128, 256, kernel_size=(1, 1), stride=(2, 2), bias=False)\n",
      "        (1): BatchNorm2d(256, eps=1e-05, momentum=0.1, affine=True, track_running_stats=True)\n",
      "      )\n",
      "    )\n",
      "    (1): BasicBlock(\n",
      "      (conv1): Conv2d(256, 256, kernel_size=(3, 3), stride=(1, 1), padding=(1, 1), bias=False)\n",
      "      (bn1): BatchNorm2d(256, eps=1e-05, momentum=0.1, affine=True, track_running_stats=True)\n",
      "      (conv2): Conv2d(256, 256, kernel_size=(3, 3), stride=(1, 1), padding=(1, 1), bias=False)\n",
      "      (bn2): BatchNorm2d(256, eps=1e-05, momentum=0.1, affine=True, track_running_stats=True)\n",
      "      (shortcut): Sequential()\n",
      "    )\n",
      "  )\n",
      "  (layer4): Sequential(\n",
      "    (0): BasicBlock(\n",
      "      (conv1): Conv2d(256, 512, kernel_size=(3, 3), stride=(2, 2), padding=(1, 1), bias=False)\n",
      "      (bn1): BatchNorm2d(512, eps=1e-05, momentum=0.1, affine=True, track_running_stats=True)\n",
      "      (conv2): Conv2d(512, 512, kernel_size=(3, 3), stride=(1, 1), padding=(1, 1), bias=False)\n",
      "      (bn2): BatchNorm2d(512, eps=1e-05, momentum=0.1, affine=True, track_running_stats=True)\n",
      "      (shortcut): Sequential(\n",
      "        (0): Conv2d(256, 512, kernel_size=(1, 1), stride=(2, 2), bias=False)\n",
      "        (1): BatchNorm2d(512, eps=1e-05, momentum=0.1, affine=True, track_running_stats=True)\n",
      "      )\n",
      "    )\n",
      "    (1): BasicBlock(\n",
      "      (conv1): Conv2d(512, 512, kernel_size=(3, 3), stride=(1, 1), padding=(1, 1), bias=False)\n",
      "      (bn1): BatchNorm2d(512, eps=1e-05, momentum=0.1, affine=True, track_running_stats=True)\n",
      "      (conv2): Conv2d(512, 512, kernel_size=(3, 3), stride=(1, 1), padding=(1, 1), bias=False)\n",
      "      (bn2): BatchNorm2d(512, eps=1e-05, momentum=0.1, affine=True, track_running_stats=True)\n",
      "      (shortcut): Sequential()\n",
      "    )\n",
      "  )\n",
      "  (linear): Linear(in_features=512, out_features=10, bias=True)\n",
      ")\n"
     ]
    }
   ],
   "source": [
    "DEVICE = 'cuda' if torch.cuda.is_available() else 'cpu'\n",
    "print('Device:', DEVICE)\n",
    "resnet_tuning = ResNet18().to(DEVICE)\n",
    "optimizer = torch.optim.Adam(resnet_tuning.parameters(), lr = 0.003, weight_decay = 0.001)\n",
    "criterion = nn.CrossEntropyLoss()\n",
    "scheduler = torch.optim.lr_scheduler.StepLR(optimizer, step_size=50, gamma=0.5)\n",
    "\n",
    "print(resnet_tuning)"
   ]
  },
  {
   "cell_type": "code",
   "execution_count": 151,
   "metadata": {},
   "outputs": [],
   "source": [
    "def train(model, train_loader):\n",
    "    model.train() # 모델읠 train mode로 전환\n",
    "    train_loss = 0\n",
    "    correct = 0\n",
    "    # batch_idx, (image, label)\n",
    "    for batch_idx, (image, label) in enumerate(train_loader):\n",
    "        image = image.to(DEVICE)\n",
    "        label = label.to(DEVICE)\n",
    "        optimizer.zero_grad()\n",
    "        output = model(image) # global `model`\n",
    "        loss = criterion(output,label)      # global `criterion\n",
    "        loss.backward()\n",
    "        optimizer.step()\n",
    "        \n",
    "        train_loss += loss.item()\n",
    "#         display(output)\n",
    "        prediction = output.max(1, keepdim=True)[1] # output tensor의 차원을 1로. [0]에는 max value가, [1]에는 argmax가 있다.\n",
    "#         display(prediction)\n",
    "        correct += prediction.eq(label.view_as(prediction)).sum().item() # view_as: 파라미터 텐서와 같은 size가 되도록 resize\n",
    "    \n",
    "    train_loss /= len(train_loader)\n",
    "    train_accuracy = 100. * correct / len(train_loader.dataset)\n",
    "    ####################### lr decay in especial epochs #######################\n",
    "    scheduler.step() \n",
    "    return train_loss, train_accuracy"
   ]
  },
  {
   "cell_type": "code",
   "execution_count": 152,
   "metadata": {},
   "outputs": [
    {
     "name": "stdout",
     "output_type": "stream",
     "text": [
      "Epoch:  1/200    Train Loss: 0.7118    Train Accuracy: 74.06%    Val Loss: 1.6606    Val Accuracy: 55.06\n",
      "Epoch:  2/200    Train Loss: 0.4993    Train Accuracy: 81.98%    Val Loss: 0.5328    Val Accuracy: 81.08\n",
      "Epoch:  3/200    Train Loss: 0.4298    Train Accuracy: 84.50%    Val Loss: 0.4584    Val Accuracy: 84.00\n",
      "Epoch:  4/200    Train Loss: 0.3907    Train Accuracy: 86.08%    Val Loss: 0.4412    Val Accuracy: 83.53\n",
      "Epoch:  5/200    Train Loss: 0.3646    Train Accuracy: 86.96%    Val Loss: 0.3989    Val Accuracy: 85.72\n",
      "Epoch:  6/200    Train Loss: 0.3472    Train Accuracy: 87.53%    Val Loss: 0.3291    Val Accuracy: 88.79\n",
      "Epoch:  7/200    Train Loss: 0.3346    Train Accuracy: 88.19%    Val Loss: 0.2905    Val Accuracy: 89.68\n",
      "Epoch:  8/200    Train Loss: 0.3281    Train Accuracy: 88.35%    Val Loss: 0.4601    Val Accuracy: 82.79\n",
      "Epoch:  9/200    Train Loss: 0.3217    Train Accuracy: 88.37%    Val Loss: 0.3968    Val Accuracy: 84.92\n",
      "Epoch: 10/200    Train Loss: 0.3138    Train Accuracy: 88.70%    Val Loss: 0.3288    Val Accuracy: 88.11\n",
      "Epoch: 11/200    Train Loss: 0.3087    Train Accuracy: 88.87%    Val Loss: 0.3650    Val Accuracy: 87.21\n",
      "Epoch: 12/200    Train Loss: 0.3040    Train Accuracy: 89.11%    Val Loss: 0.3060    Val Accuracy: 88.80\n",
      "Epoch: 13/200    Train Loss: 0.2967    Train Accuracy: 89.16%    Val Loss: 0.3282    Val Accuracy: 88.12\n",
      "Epoch: 14/200    Train Loss: 0.2968    Train Accuracy: 89.38%    Val Loss: 0.4079    Val Accuracy: 86.44\n",
      "Epoch: 15/200    Train Loss: 0.2927    Train Accuracy: 89.35%    Val Loss: 0.3809    Val Accuracy: 85.87\n",
      "Epoch: 16/200    Train Loss: 0.2942    Train Accuracy: 89.32%    Val Loss: 0.3455    Val Accuracy: 88.41\n",
      "Epoch: 17/200    Train Loss: 0.2895    Train Accuracy: 89.58%    Val Loss: 0.2728    Val Accuracy: 90.07\n",
      "Epoch: 18/200    Train Loss: 0.2881    Train Accuracy: 89.61%    Val Loss: 0.2683    Val Accuracy: 90.43\n",
      "Epoch: 19/200    Train Loss: 0.2862    Train Accuracy: 89.70%    Val Loss: 0.2678    Val Accuracy: 90.45\n",
      "Epoch: 20/200    Train Loss: 0.2847    Train Accuracy: 89.78%    Val Loss: 0.2917    Val Accuracy: 89.47\n",
      "Epoch: 21/200    Train Loss: 0.2837    Train Accuracy: 89.87%    Val Loss: 0.2706    Val Accuracy: 90.52\n",
      "Epoch: 22/200    Train Loss: 0.2814    Train Accuracy: 89.94%    Val Loss: 0.2694    Val Accuracy: 90.74\n",
      "Epoch: 23/200    Train Loss: 0.2802    Train Accuracy: 89.95%    Val Loss: 0.5354    Val Accuracy: 81.29\n",
      "Epoch: 24/200    Train Loss: 0.2747    Train Accuracy: 90.14%    Val Loss: 0.2642    Val Accuracy: 90.51\n",
      "Epoch: 25/200    Train Loss: 0.2759    Train Accuracy: 89.97%    Val Loss: 0.2551    Val Accuracy: 90.98\n",
      "Epoch: 26/200    Train Loss: 0.2785    Train Accuracy: 90.07%    Val Loss: 0.2883    Val Accuracy: 90.28\n",
      "Epoch: 27/200    Train Loss: 0.2771    Train Accuracy: 90.00%    Val Loss: 0.3256    Val Accuracy: 88.50\n",
      "Epoch: 28/200    Train Loss: 0.2779    Train Accuracy: 90.09%    Val Loss: 0.2783    Val Accuracy: 90.15\n",
      "Epoch: 29/200    Train Loss: 0.2769    Train Accuracy: 89.95%    Val Loss: 0.3254    Val Accuracy: 88.40\n",
      "Epoch: 30/200    Train Loss: 0.2745    Train Accuracy: 90.09%    Val Loss: 0.2994    Val Accuracy: 88.54\n",
      "Epoch: 31/200    Train Loss: 0.2770    Train Accuracy: 90.13%    Val Loss: 0.2578    Val Accuracy: 90.87\n",
      "Epoch: 32/200    Train Loss: 0.2729    Train Accuracy: 90.07%    Val Loss: 0.3053    Val Accuracy: 88.76\n",
      "Epoch: 33/200    Train Loss: 0.2708    Train Accuracy: 90.28%    Val Loss: 0.2480    Val Accuracy: 90.94\n",
      "Epoch: 34/200    Train Loss: 0.2703    Train Accuracy: 90.28%    Val Loss: 0.4109    Val Accuracy: 85.83\n",
      "Epoch: 35/200    Train Loss: 0.2720    Train Accuracy: 90.36%    Val Loss: 0.3093    Val Accuracy: 88.95\n",
      "Epoch: 36/200    Train Loss: 0.2727    Train Accuracy: 90.28%    Val Loss: 0.3126    Val Accuracy: 88.33\n",
      "Epoch: 37/200    Train Loss: 0.2711    Train Accuracy: 90.08%    Val Loss: 0.3506    Val Accuracy: 87.29\n",
      "Epoch: 38/200    Train Loss: 0.2720    Train Accuracy: 90.18%    Val Loss: 0.2835    Val Accuracy: 90.09\n",
      "Epoch: 39/200    Train Loss: 0.2679    Train Accuracy: 90.51%    Val Loss: 0.3034    Val Accuracy: 88.79\n",
      "Epoch: 40/200    Train Loss: 0.2704    Train Accuracy: 90.48%    Val Loss: 0.3479    Val Accuracy: 87.52\n",
      "Epoch: 41/200    Train Loss: 0.2695    Train Accuracy: 90.23%    Val Loss: 0.2576    Val Accuracy: 90.58\n",
      "Epoch: 42/200    Train Loss: 0.2668    Train Accuracy: 90.21%    Val Loss: 0.2528    Val Accuracy: 90.68\n",
      "Epoch: 43/200    Train Loss: 0.2689    Train Accuracy: 90.27%    Val Loss: 0.2696    Val Accuracy: 90.20\n",
      "Epoch: 44/200    Train Loss: 0.2659    Train Accuracy: 90.48%    Val Loss: 0.5043    Val Accuracy: 82.93\n",
      "Epoch: 45/200    Train Loss: 0.2684    Train Accuracy: 90.22%    Val Loss: 0.3159    Val Accuracy: 89.24\n",
      "Epoch: 46/200    Train Loss: 0.2685    Train Accuracy: 90.40%    Val Loss: 0.3372    Val Accuracy: 87.68\n",
      "Epoch: 47/200    Train Loss: 0.2679    Train Accuracy: 90.40%    Val Loss: 0.2451    Val Accuracy: 91.21\n",
      "Epoch: 48/200    Train Loss: 0.2660    Train Accuracy: 90.35%    Val Loss: 0.2916    Val Accuracy: 89.90\n",
      "Epoch: 49/200    Train Loss: 0.2646    Train Accuracy: 90.46%    Val Loss: 0.3016    Val Accuracy: 89.61\n",
      "Epoch: 50/200    Train Loss: 0.2654    Train Accuracy: 90.50%    Val Loss: 0.4210    Val Accuracy: 84.28\n",
      "Epoch: 51/200    Train Loss: 0.2375    Train Accuracy: 91.53%    Val Loss: 0.2204    Val Accuracy: 91.88\n",
      "Epoch: 52/200    Train Loss: 0.2334    Train Accuracy: 91.58%    Val Loss: 0.2147    Val Accuracy: 92.19\n",
      "Epoch: 53/200    Train Loss: 0.2342    Train Accuracy: 91.52%    Val Loss: 0.2191    Val Accuracy: 92.03\n",
      "Epoch: 54/200    Train Loss: 0.2327    Train Accuracy: 91.65%    Val Loss: 0.2116    Val Accuracy: 92.40\n",
      "Epoch: 55/200    Train Loss: 0.2345    Train Accuracy: 91.49%    Val Loss: 0.2362    Val Accuracy: 91.58\n",
      "Epoch: 56/200    Train Loss: 0.2313    Train Accuracy: 91.70%    Val Loss: 0.2144    Val Accuracy: 92.30\n",
      "Epoch: 57/200    Train Loss: 0.2309    Train Accuracy: 91.76%    Val Loss: 0.2095    Val Accuracy: 92.48\n",
      "Epoch: 58/200    Train Loss: 0.2291    Train Accuracy: 91.77%    Val Loss: 0.2324    Val Accuracy: 91.73\n",
      "Epoch: 59/200    Train Loss: 0.2302    Train Accuracy: 91.75%    Val Loss: 0.2141    Val Accuracy: 92.34\n",
      "Epoch: 60/200    Train Loss: 0.2308    Train Accuracy: 91.66%    Val Loss: 0.3134    Val Accuracy: 88.43\n",
      "Epoch: 61/200    Train Loss: 0.2270    Train Accuracy: 91.79%    Val Loss: 0.2295    Val Accuracy: 91.97\n",
      "Epoch: 62/200    Train Loss: 0.2264    Train Accuracy: 91.83%    Val Loss: 0.2402    Val Accuracy: 91.29\n",
      "Epoch: 63/200    Train Loss: 0.2250    Train Accuracy: 91.92%    Val Loss: 0.2256    Val Accuracy: 91.78\n",
      "Epoch: 64/200    Train Loss: 0.2254    Train Accuracy: 91.83%    Val Loss: 0.2449    Val Accuracy: 91.03\n",
      "Epoch: 65/200    Train Loss: 0.2254    Train Accuracy: 91.95%    Val Loss: 0.2146    Val Accuracy: 92.19\n",
      "Epoch: 66/200    Train Loss: 0.2235    Train Accuracy: 91.96%    Val Loss: 0.2332    Val Accuracy: 91.67\n",
      "Epoch: 67/200    Train Loss: 0.2254    Train Accuracy: 91.87%    Val Loss: 0.2368    Val Accuracy: 91.76\n",
      "Epoch: 68/200    Train Loss: 0.2279    Train Accuracy: 91.80%    Val Loss: 0.2410    Val Accuracy: 91.30\n",
      "Epoch: 69/200    Train Loss: 0.2252    Train Accuracy: 91.96%    Val Loss: 0.2386    Val Accuracy: 91.75\n",
      "Epoch: 70/200    Train Loss: 0.2263    Train Accuracy: 91.76%    Val Loss: 0.2139    Val Accuracy: 92.64\n",
      "Epoch: 71/200    Train Loss: 0.2247    Train Accuracy: 91.98%    Val Loss: 0.2265    Val Accuracy: 91.91\n",
      "Epoch: 72/200    Train Loss: 0.2244    Train Accuracy: 91.93%    Val Loss: 0.2021    Val Accuracy: 92.75\n",
      "Epoch: 73/200    Train Loss: 0.2214    Train Accuracy: 91.99%    Val Loss: 0.2337    Val Accuracy: 91.73\n",
      "Epoch: 74/200    Train Loss: 0.2260    Train Accuracy: 91.84%    Val Loss: 0.2291    Val Accuracy: 91.57\n",
      "Epoch: 75/200    Train Loss: 0.2282    Train Accuracy: 91.81%    Val Loss: 0.2163    Val Accuracy: 92.33\n",
      "Epoch: 76/200    Train Loss: 0.2225    Train Accuracy: 92.12%    Val Loss: 0.2486    Val Accuracy: 91.36\n",
      "Epoch: 77/200    Train Loss: 0.2243    Train Accuracy: 91.88%    Val Loss: 0.2245    Val Accuracy: 92.10\n",
      "Epoch: 78/200    Train Loss: 0.2241    Train Accuracy: 92.01%    Val Loss: 0.2224    Val Accuracy: 92.19\n",
      "Epoch: 79/200    Train Loss: 0.2217    Train Accuracy: 92.07%    Val Loss: 0.2133    Val Accuracy: 92.20\n",
      "Epoch: 80/200    Train Loss: 0.2242    Train Accuracy: 91.94%    Val Loss: 0.2127    Val Accuracy: 92.18\n",
      "Epoch: 81/200    Train Loss: 0.2226    Train Accuracy: 92.01%    Val Loss: 0.2177    Val Accuracy: 92.19\n",
      "Epoch: 82/200    Train Loss: 0.2209    Train Accuracy: 91.99%    Val Loss: 0.3378    Val Accuracy: 87.13\n",
      "Epoch: 83/200    Train Loss: 0.2221    Train Accuracy: 92.08%    Val Loss: 0.2140    Val Accuracy: 92.10\n",
      "Epoch: 84/200    Train Loss: 0.2205    Train Accuracy: 91.94%    Val Loss: 0.2351    Val Accuracy: 91.40\n",
      "Epoch: 85/200    Train Loss: 0.2241    Train Accuracy: 91.88%    Val Loss: 0.2471    Val Accuracy: 91.30\n",
      "Epoch: 86/200    Train Loss: 0.2198    Train Accuracy: 92.17%    Val Loss: 0.2343    Val Accuracy: 91.61\n",
      "Epoch: 87/200    Train Loss: 0.2210    Train Accuracy: 92.03%    Val Loss: 0.2194    Val Accuracy: 92.30\n",
      "Epoch: 88/200    Train Loss: 0.2197    Train Accuracy: 92.10%    Val Loss: 0.2351    Val Accuracy: 91.66\n",
      "Epoch: 89/200    Train Loss: 0.2195    Train Accuracy: 91.95%    Val Loss: 0.2499    Val Accuracy: 91.32\n",
      "Epoch: 90/200    Train Loss: 0.2229    Train Accuracy: 91.97%    Val Loss: 0.2167    Val Accuracy: 92.05\n",
      "Epoch: 91/200    Train Loss: 0.2227    Train Accuracy: 91.99%    Val Loss: 0.3342    Val Accuracy: 87.12\n",
      "Epoch: 92/200    Train Loss: 0.2183    Train Accuracy: 92.24%    Val Loss: 0.2468    Val Accuracy: 91.46\n",
      "Epoch: 93/200    Train Loss: 0.2159    Train Accuracy: 92.30%    Val Loss: 0.3035    Val Accuracy: 88.95\n",
      "Epoch: 94/200    Train Loss: 0.2182    Train Accuracy: 92.23%    Val Loss: 0.2075    Val Accuracy: 92.56\n",
      "Epoch: 95/200    Train Loss: 0.2203    Train Accuracy: 92.08%    Val Loss: 0.3079    Val Accuracy: 88.79\n",
      "Epoch: 96/200    Train Loss: 0.2210    Train Accuracy: 92.06%    Val Loss: 0.2170    Val Accuracy: 92.32\n",
      "Epoch: 97/200    Train Loss: 0.2193    Train Accuracy: 92.12%    Val Loss: 0.2962    Val Accuracy: 89.54\n",
      "Epoch: 98/200    Train Loss: 0.2231    Train Accuracy: 91.96%    Val Loss: 0.2069    Val Accuracy: 92.61\n",
      "Epoch: 99/200    Train Loss: 0.2202    Train Accuracy: 92.00%    Val Loss: 0.2632    Val Accuracy: 90.80\n",
      "Epoch: 100/200    Train Loss: 0.2198    Train Accuracy: 92.18%    Val Loss: 0.2078    Val Accuracy: 92.55\n",
      "Epoch: 101/200    Train Loss: 0.1936    Train Accuracy: 93.20%    Val Loss: 0.1970    Val Accuracy: 92.90\n",
      "Epoch: 102/200    Train Loss: 0.1920    Train Accuracy: 93.17%    Val Loss: 0.1994    Val Accuracy: 93.05\n",
      "Epoch: 103/200    Train Loss: 0.1901    Train Accuracy: 93.12%    Val Loss: 0.1855    Val Accuracy: 93.46\n",
      "Epoch: 104/200    Train Loss: 0.1898    Train Accuracy: 93.17%    Val Loss: 0.1948    Val Accuracy: 93.03\n",
      "Epoch: 105/200    Train Loss: 0.1900    Train Accuracy: 93.16%    Val Loss: 0.1949    Val Accuracy: 93.02\n",
      "Epoch: 106/200    Train Loss: 0.1874    Train Accuracy: 93.21%    Val Loss: 0.1996    Val Accuracy: 92.83\n",
      "Epoch: 107/200    Train Loss: 0.1882    Train Accuracy: 93.25%    Val Loss: 0.2092    Val Accuracy: 92.33\n",
      "Epoch: 108/200    Train Loss: 0.1865    Train Accuracy: 93.25%    Val Loss: 0.1950    Val Accuracy: 93.13\n",
      "Epoch: 109/200    Train Loss: 0.1867    Train Accuracy: 93.38%    Val Loss: 0.1968    Val Accuracy: 93.12\n",
      "Epoch: 110/200    Train Loss: 0.1871    Train Accuracy: 93.33%    Val Loss: 0.1855    Val Accuracy: 93.51\n",
      "Epoch: 111/200    Train Loss: 0.1899    Train Accuracy: 93.22%    Val Loss: 0.1908    Val Accuracy: 93.22\n",
      "Epoch: 112/200    Train Loss: 0.1855    Train Accuracy: 93.31%    Val Loss: 0.1936    Val Accuracy: 93.41\n",
      "Epoch: 113/200    Train Loss: 0.1864    Train Accuracy: 93.31%    Val Loss: 0.1874    Val Accuracy: 93.15\n",
      "Epoch: 114/200    Train Loss: 0.1867    Train Accuracy: 93.28%    Val Loss: 0.1848    Val Accuracy: 93.26\n",
      "Epoch: 115/200    Train Loss: 0.1841    Train Accuracy: 93.46%    Val Loss: 0.2129    Val Accuracy: 92.87\n",
      "Epoch: 116/200    Train Loss: 0.1860    Train Accuracy: 93.33%    Val Loss: 0.2035    Val Accuracy: 92.68\n",
      "Epoch: 117/200    Train Loss: 0.1842    Train Accuracy: 93.42%    Val Loss: 0.1846    Val Accuracy: 93.45\n",
      "Epoch: 118/200    Train Loss: 0.1847    Train Accuracy: 93.35%    Val Loss: 0.1917    Val Accuracy: 93.26\n",
      "Epoch: 119/200    Train Loss: 0.1853    Train Accuracy: 93.36%    Val Loss: 0.1967    Val Accuracy: 92.82\n",
      "Epoch: 120/200    Train Loss: 0.1860    Train Accuracy: 93.35%    Val Loss: 0.1920    Val Accuracy: 93.21\n",
      "Epoch: 121/200    Train Loss: 0.1852    Train Accuracy: 93.29%    Val Loss: 0.2215    Val Accuracy: 92.31\n",
      "Epoch: 122/200    Train Loss: 0.1841    Train Accuracy: 93.38%    Val Loss: 0.1853    Val Accuracy: 93.18\n",
      "Epoch: 123/200    Train Loss: 0.1844    Train Accuracy: 93.35%    Val Loss: 0.1831    Val Accuracy: 93.45\n",
      "Epoch: 124/200    Train Loss: 0.1838    Train Accuracy: 93.38%    Val Loss: 0.1971    Val Accuracy: 93.06\n",
      "Epoch: 125/200    Train Loss: 0.1814    Train Accuracy: 93.45%    Val Loss: 0.1943    Val Accuracy: 93.34\n",
      "Epoch: 126/200    Train Loss: 0.1822    Train Accuracy: 93.58%    Val Loss: 0.1886    Val Accuracy: 93.20\n",
      "Epoch: 127/200    Train Loss: 0.1837    Train Accuracy: 93.46%    Val Loss: 0.1921    Val Accuracy: 93.11\n",
      "Epoch: 128/200    Train Loss: 0.1834    Train Accuracy: 93.44%    Val Loss: 0.1821    Val Accuracy: 93.50\n",
      "Epoch: 129/200    Train Loss: 0.1828    Train Accuracy: 93.47%    Val Loss: 0.1836    Val Accuracy: 93.45\n",
      "Epoch: 130/200    Train Loss: 0.1848    Train Accuracy: 93.43%    Val Loss: 0.1821    Val Accuracy: 93.63\n",
      "Epoch: 131/200    Train Loss: 0.1829    Train Accuracy: 93.42%    Val Loss: 0.1997    Val Accuracy: 92.87\n",
      "Epoch: 132/200    Train Loss: 0.1821    Train Accuracy: 93.52%    Val Loss: 0.1909    Val Accuracy: 93.34\n",
      "Epoch: 133/200    Train Loss: 0.1818    Train Accuracy: 93.47%    Val Loss: 0.1935    Val Accuracy: 93.29\n",
      "Epoch: 134/200    Train Loss: 0.1800    Train Accuracy: 93.53%    Val Loss: 0.2076    Val Accuracy: 92.72\n",
      "Epoch: 135/200    Train Loss: 0.1820    Train Accuracy: 93.43%    Val Loss: 0.1996    Val Accuracy: 92.79\n",
      "Epoch: 136/200    Train Loss: 0.1802    Train Accuracy: 93.54%    Val Loss: 0.1797    Val Accuracy: 93.60\n",
      "Epoch: 137/200    Train Loss: 0.1822    Train Accuracy: 93.43%    Val Loss: 0.1875    Val Accuracy: 93.54\n",
      "Epoch: 138/200    Train Loss: 0.1796    Train Accuracy: 93.64%    Val Loss: 0.1922    Val Accuracy: 93.13\n",
      "Epoch: 139/200    Train Loss: 0.1808    Train Accuracy: 93.64%    Val Loss: 0.1893    Val Accuracy: 93.50\n",
      "Epoch: 140/200    Train Loss: 0.1805    Train Accuracy: 93.52%    Val Loss: 0.1892    Val Accuracy: 93.38\n",
      "Epoch: 141/200    Train Loss: 0.1793    Train Accuracy: 93.60%    Val Loss: 0.1932    Val Accuracy: 93.00\n",
      "Epoch: 142/200    Train Loss: 0.1793    Train Accuracy: 93.63%    Val Loss: 0.1881    Val Accuracy: 93.03\n",
      "Epoch: 143/200    Train Loss: 0.1799    Train Accuracy: 93.61%    Val Loss: 0.2054    Val Accuracy: 92.56\n",
      "Epoch: 144/200    Train Loss: 0.1811    Train Accuracy: 93.58%    Val Loss: 0.2111    Val Accuracy: 92.29\n",
      "Epoch: 145/200    Train Loss: 0.1795    Train Accuracy: 93.59%    Val Loss: 0.1900    Val Accuracy: 93.11\n",
      "Epoch: 146/200    Train Loss: 0.1827    Train Accuracy: 93.51%    Val Loss: 0.2297    Val Accuracy: 92.16\n",
      "Epoch: 147/200    Train Loss: 0.1813    Train Accuracy: 93.67%    Val Loss: 0.2143    Val Accuracy: 92.48\n",
      "Epoch: 148/200    Train Loss: 0.1805    Train Accuracy: 93.65%    Val Loss: 0.1940    Val Accuracy: 93.21\n",
      "Epoch: 149/200    Train Loss: 0.1813    Train Accuracy: 93.51%    Val Loss: 0.1844    Val Accuracy: 93.34\n",
      "Epoch: 150/200    Train Loss: 0.1769    Train Accuracy: 93.58%    Val Loss: 0.2084    Val Accuracy: 92.76\n",
      "Epoch: 151/200    Train Loss: 0.1626    Train Accuracy: 94.16%    Val Loss: 0.1785    Val Accuracy: 93.97\n",
      "Epoch: 152/200    Train Loss: 0.1585    Train Accuracy: 94.32%    Val Loss: 0.1731    Val Accuracy: 93.88\n",
      "Epoch: 153/200    Train Loss: 0.1597    Train Accuracy: 94.17%    Val Loss: 0.1763    Val Accuracy: 93.82\n",
      "Epoch: 154/200    Train Loss: 0.1585    Train Accuracy: 94.35%    Val Loss: 0.1779    Val Accuracy: 93.46\n",
      "Epoch: 155/200    Train Loss: 0.1571    Train Accuracy: 94.37%    Val Loss: 0.1784    Val Accuracy: 93.50\n",
      "Epoch: 156/200    Train Loss: 0.1569    Train Accuracy: 94.46%    Val Loss: 0.1768    Val Accuracy: 93.87\n",
      "Epoch: 157/200    Train Loss: 0.1553    Train Accuracy: 94.45%    Val Loss: 0.1812    Val Accuracy: 93.64\n",
      "Epoch: 158/200    Train Loss: 0.1569    Train Accuracy: 94.50%    Val Loss: 0.1744    Val Accuracy: 93.97\n",
      "Epoch: 159/200    Train Loss: 0.1570    Train Accuracy: 94.44%    Val Loss: 0.1704    Val Accuracy: 93.68\n",
      "Epoch: 160/200    Train Loss: 0.1532    Train Accuracy: 94.64%    Val Loss: 0.1708    Val Accuracy: 93.94\n",
      "Epoch: 161/200    Train Loss: 0.1550    Train Accuracy: 94.48%    Val Loss: 0.1799    Val Accuracy: 93.46\n",
      "Epoch: 162/200    Train Loss: 0.1550    Train Accuracy: 94.51%    Val Loss: 0.1789    Val Accuracy: 93.54\n",
      "Epoch: 163/200    Train Loss: 0.1549    Train Accuracy: 94.55%    Val Loss: 0.1744    Val Accuracy: 93.90\n",
      "Epoch: 164/200    Train Loss: 0.1539    Train Accuracy: 94.52%    Val Loss: 0.1789    Val Accuracy: 93.89\n",
      "Epoch: 165/200    Train Loss: 0.1522    Train Accuracy: 94.52%    Val Loss: 0.1741    Val Accuracy: 94.15\n",
      "Epoch: 166/200    Train Loss: 0.1540    Train Accuracy: 94.40%    Val Loss: 0.1846    Val Accuracy: 93.55\n",
      "Epoch: 167/200    Train Loss: 0.1531    Train Accuracy: 94.44%    Val Loss: 0.1728    Val Accuracy: 93.82\n",
      "Epoch: 168/200    Train Loss: 0.1533    Train Accuracy: 94.59%    Val Loss: 0.1713    Val Accuracy: 93.91\n",
      "Epoch: 169/200    Train Loss: 0.1519    Train Accuracy: 94.60%    Val Loss: 0.1757    Val Accuracy: 93.76\n",
      "Epoch: 170/200    Train Loss: 0.1542    Train Accuracy: 94.51%    Val Loss: 0.1740    Val Accuracy: 93.92\n",
      "Epoch: 171/200    Train Loss: 0.1511    Train Accuracy: 94.60%    Val Loss: 0.1763    Val Accuracy: 93.68\n",
      "Epoch: 172/200    Train Loss: 0.1508    Train Accuracy: 94.62%    Val Loss: 0.1719    Val Accuracy: 93.92\n",
      "Epoch: 173/200    Train Loss: 0.1515    Train Accuracy: 94.53%    Val Loss: 0.1739    Val Accuracy: 93.87\n",
      "Epoch: 174/200    Train Loss: 0.1517    Train Accuracy: 94.67%    Val Loss: 0.1770    Val Accuracy: 93.85\n",
      "Epoch: 175/200    Train Loss: 0.1542    Train Accuracy: 94.46%    Val Loss: 0.1763    Val Accuracy: 93.98\n",
      "Epoch: 176/200    Train Loss: 0.1526    Train Accuracy: 94.57%    Val Loss: 0.1728    Val Accuracy: 93.93\n",
      "Epoch: 177/200    Train Loss: 0.1514    Train Accuracy: 94.66%    Val Loss: 0.1781    Val Accuracy: 93.87\n",
      "Epoch: 178/200    Train Loss: 0.1536    Train Accuracy: 94.52%    Val Loss: 0.1813    Val Accuracy: 93.91\n",
      "Epoch: 179/200    Train Loss: 0.1529    Train Accuracy: 94.56%    Val Loss: 0.1785    Val Accuracy: 93.98\n",
      "Epoch: 180/200    Train Loss: 0.1511    Train Accuracy: 94.67%    Val Loss: 0.1740    Val Accuracy: 94.12\n",
      "Epoch: 181/200    Train Loss: 0.1515    Train Accuracy: 94.59%    Val Loss: 0.1793    Val Accuracy: 93.54\n",
      "Epoch: 182/200    Train Loss: 0.1532    Train Accuracy: 94.48%    Val Loss: 0.1769    Val Accuracy: 93.69\n",
      "Epoch: 183/200    Train Loss: 0.1528    Train Accuracy: 94.53%    Val Loss: 0.1772    Val Accuracy: 93.66\n",
      "Epoch: 184/200    Train Loss: 0.1504    Train Accuracy: 94.67%    Val Loss: 0.1830    Val Accuracy: 93.63\n",
      "Epoch: 185/200    Train Loss: 0.1504    Train Accuracy: 94.65%    Val Loss: 0.1732    Val Accuracy: 93.92\n",
      "Epoch: 186/200    Train Loss: 0.1487    Train Accuracy: 94.69%    Val Loss: 0.1787    Val Accuracy: 93.71\n",
      "Epoch: 187/200    Train Loss: 0.1524    Train Accuracy: 94.54%    Val Loss: 0.1764    Val Accuracy: 93.60\n",
      "Epoch: 188/200    Train Loss: 0.1489    Train Accuracy: 94.70%    Val Loss: 0.1731    Val Accuracy: 93.91\n",
      "Epoch: 189/200    Train Loss: 0.1483    Train Accuracy: 94.71%    Val Loss: 0.1781    Val Accuracy: 93.86\n",
      "Epoch: 190/200    Train Loss: 0.1485    Train Accuracy: 94.78%    Val Loss: 0.1792    Val Accuracy: 93.61\n",
      "Epoch: 191/200    Train Loss: 0.1483    Train Accuracy: 94.70%    Val Loss: 0.1757    Val Accuracy: 93.93\n",
      "Epoch: 192/200    Train Loss: 0.1505    Train Accuracy: 94.63%    Val Loss: 0.1680    Val Accuracy: 94.03\n",
      "Epoch: 193/200    Train Loss: 0.1494    Train Accuracy: 94.74%    Val Loss: 0.1942    Val Accuracy: 93.18\n",
      "Epoch: 194/200    Train Loss: 0.1526    Train Accuracy: 94.56%    Val Loss: 0.1695    Val Accuracy: 94.02\n",
      "Epoch: 195/200    Train Loss: 0.1488    Train Accuracy: 94.73%    Val Loss: 0.1814    Val Accuracy: 93.66\n",
      "Epoch: 196/200    Train Loss: 0.1481    Train Accuracy: 94.79%    Val Loss: 0.1785    Val Accuracy: 93.85\n",
      "Epoch: 197/200    Train Loss: 0.1493    Train Accuracy: 94.63%    Val Loss: 0.1766    Val Accuracy: 93.95\n",
      "Epoch: 198/200    Train Loss: 0.1505    Train Accuracy: 94.65%    Val Loss: 0.1741    Val Accuracy: 94.03\n",
      "Epoch: 199/200    Train Loss: 0.1471    Train Accuracy: 94.72%    Val Loss: 0.1748    Val Accuracy: 93.93\n",
      "Epoch: 200/200    Train Loss: 0.1503    Train Accuracy: 94.79%    Val Loss: 0.1739    Val Accuracy: 93.82\n"
     ]
    },
    {
     "data": {
      "image/png": "[encoded data removed]",
      "text/plain": [
       "<Figure size 1500x500 with 2 Axes>"
      ]
     },
     "metadata": {},
     "output_type": "display_data"
    }
   ],
   "source": [
    "EPOCHS=200\n",
    "result_df = train_model(resnet_tuning, augmented_train_loader)\n",
    "plot_training(result_df)"
   ]
  },
  {
   "cell_type": "code",
   "execution_count": 153,
   "metadata": {},
   "outputs": [
    {
     "data": {
      "text/html": [
       "<div>\n",
       "<style scoped>\n",
       "    .dataframe tbody tr th:only-of-type {\n",
       "        vertical-align: middle;\n",
       "    }\n",
       "\n",
       "    .dataframe tbody tr th {\n",
       "        vertical-align: top;\n",
       "    }\n",
       "\n",
       "    .dataframe thead th {\n",
       "        text-align: right;\n",
       "    }\n",
       "</style>\n",
       "<table border=\"1\" class=\"dataframe\">\n",
       "  <thead>\n",
       "    <tr style=\"text-align: right;\">\n",
       "      <th></th>\n",
       "      <th>id</th>\n",
       "      <th>label</th>\n",
       "    </tr>\n",
       "  </thead>\n",
       "  <tbody>\n",
       "    <tr>\n",
       "      <th>0</th>\n",
       "      <td>0</td>\n",
       "      <td>6</td>\n",
       "    </tr>\n",
       "    <tr>\n",
       "      <th>1</th>\n",
       "      <td>1</td>\n",
       "      <td>6</td>\n",
       "    </tr>\n",
       "    <tr>\n",
       "      <th>2</th>\n",
       "      <td>2</td>\n",
       "      <td>0</td>\n",
       "    </tr>\n",
       "    <tr>\n",
       "      <th>3</th>\n",
       "      <td>3</td>\n",
       "      <td>6</td>\n",
       "    </tr>\n",
       "    <tr>\n",
       "      <th>4</th>\n",
       "      <td>4</td>\n",
       "      <td>6</td>\n",
       "    </tr>\n",
       "  </tbody>\n",
       "</table>\n",
       "</div>"
      ],
      "text/plain": [
       "   id  label\n",
       "0   0      6\n",
       "1   1      6\n",
       "2   2      0\n",
       "3   3      6\n",
       "4   4      6"
      ]
     },
     "execution_count": 153,
     "metadata": {},
     "output_type": "execute_result"
    }
   ],
   "source": [
    "pred_label = pred(resnet, test_loader)\n",
    "\n",
    "submission['label'] = pred_label\n",
    "\n",
    "submission.to_csv(data_dir + 'resnet_tuning.csv', index = False)\n",
    "\n",
    "submission.head()"
   ]
  },
  {
   "cell_type": "markdown",
   "metadata": {},
   "source": [
    "About more lr_scheduler: https://gaussian37.github.io/dl-pytorch-lr_scheduler/"
   ]
  },
  {
   "cell_type": "code",
   "execution_count": null,
   "metadata": {},
   "outputs": [],
   "source": []
  }
 ],
 "metadata": {
  "accelerator": "GPU",
  "colab": {
   "authorship_tag": "ABX9TyPPYaoDLlVJKwLH/rD4BVWo",
   "collapsed_sections": [],
   "mount_file_id": "1luv99kGv9wCHUbSEXDMbPTi2Ns0EC9x3",
   "name": "Week7_NN심화_BaseLine_Model.ipynb",
   "provenance": [],
   "toc_visible": true
  },
  "kernelspec": {
   "display_name": "Python 3",
   "language": "python",
   "name": "python3"
  },
  "language_info": {
   "codemirror_mode": {
    "name": "ipython",
    "version": 3
   },
   "file_extension": ".py",
   "mimetype": "text/x-python",
   "name": "python",
   "nbconvert_exporter": "python",
   "pygments_lexer": "ipython3",
   "version": "3.6.9"
  }
 },
 "nbformat": 4,
 "nbformat_minor": 4
}
