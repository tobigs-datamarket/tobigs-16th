{
 "cells": [
  {
   "cell_type": "markdown",
   "metadata": {},
   "source": [
    "# DT Assignment"
   ]
  },
  {
   "cell_type": "markdown",
   "metadata": {},
   "source": [
    "# Data Loading"
   ]
  },
  {
   "cell_type": "code",
   "execution_count": 1,
   "metadata": {},
   "outputs": [],
   "source": [
    "import pandas as pd \n",
    "import numpy as np"
   ]
  },
  {
   "cell_type": "code",
   "execution_count": 2,
   "metadata": {},
   "outputs": [
    {
     "data": {
      "text/html": [
       "<div>\n",
       "<style scoped>\n",
       "    .dataframe tbody tr th:only-of-type {\n",
       "        vertical-align: middle;\n",
       "    }\n",
       "\n",
       "    .dataframe tbody tr th {\n",
       "        vertical-align: top;\n",
       "    }\n",
       "\n",
       "    .dataframe thead th {\n",
       "        text-align: right;\n",
       "    }\n",
       "</style>\n",
       "<table border=\"1\" class=\"dataframe\">\n",
       "  <thead>\n",
       "    <tr style=\"text-align: right;\">\n",
       "      <th></th>\n",
       "      <th>age</th>\n",
       "      <th>income</th>\n",
       "      <th>student</th>\n",
       "      <th>credit_rating</th>\n",
       "      <th>class_buys_computer</th>\n",
       "    </tr>\n",
       "  </thead>\n",
       "  <tbody>\n",
       "    <tr>\n",
       "      <th>0</th>\n",
       "      <td>youth</td>\n",
       "      <td>high</td>\n",
       "      <td>no</td>\n",
       "      <td>fair</td>\n",
       "      <td>no</td>\n",
       "    </tr>\n",
       "    <tr>\n",
       "      <th>1</th>\n",
       "      <td>youth</td>\n",
       "      <td>high</td>\n",
       "      <td>no</td>\n",
       "      <td>excellent</td>\n",
       "      <td>no</td>\n",
       "    </tr>\n",
       "    <tr>\n",
       "      <th>2</th>\n",
       "      <td>middle_aged</td>\n",
       "      <td>high</td>\n",
       "      <td>no</td>\n",
       "      <td>fair</td>\n",
       "      <td>yes</td>\n",
       "    </tr>\n",
       "    <tr>\n",
       "      <th>3</th>\n",
       "      <td>senior</td>\n",
       "      <td>medium</td>\n",
       "      <td>no</td>\n",
       "      <td>fair</td>\n",
       "      <td>yes</td>\n",
       "    </tr>\n",
       "    <tr>\n",
       "      <th>4</th>\n",
       "      <td>senior</td>\n",
       "      <td>low</td>\n",
       "      <td>yes</td>\n",
       "      <td>fair</td>\n",
       "      <td>yes</td>\n",
       "    </tr>\n",
       "    <tr>\n",
       "      <th>5</th>\n",
       "      <td>senior</td>\n",
       "      <td>low</td>\n",
       "      <td>yes</td>\n",
       "      <td>excellent</td>\n",
       "      <td>no</td>\n",
       "    </tr>\n",
       "    <tr>\n",
       "      <th>6</th>\n",
       "      <td>middle_aged</td>\n",
       "      <td>low</td>\n",
       "      <td>yes</td>\n",
       "      <td>excellent</td>\n",
       "      <td>yes</td>\n",
       "    </tr>\n",
       "    <tr>\n",
       "      <th>7</th>\n",
       "      <td>youth</td>\n",
       "      <td>medium</td>\n",
       "      <td>no</td>\n",
       "      <td>fair</td>\n",
       "      <td>no</td>\n",
       "    </tr>\n",
       "    <tr>\n",
       "      <th>8</th>\n",
       "      <td>youth</td>\n",
       "      <td>low</td>\n",
       "      <td>yes</td>\n",
       "      <td>fair</td>\n",
       "      <td>yes</td>\n",
       "    </tr>\n",
       "    <tr>\n",
       "      <th>9</th>\n",
       "      <td>senior</td>\n",
       "      <td>medium</td>\n",
       "      <td>yes</td>\n",
       "      <td>fair</td>\n",
       "      <td>yes</td>\n",
       "    </tr>\n",
       "    <tr>\n",
       "      <th>10</th>\n",
       "      <td>youth</td>\n",
       "      <td>medium</td>\n",
       "      <td>yes</td>\n",
       "      <td>excellent</td>\n",
       "      <td>yes</td>\n",
       "    </tr>\n",
       "    <tr>\n",
       "      <th>11</th>\n",
       "      <td>middle_aged</td>\n",
       "      <td>medium</td>\n",
       "      <td>no</td>\n",
       "      <td>excellent</td>\n",
       "      <td>yes</td>\n",
       "    </tr>\n",
       "    <tr>\n",
       "      <th>12</th>\n",
       "      <td>middle_aged</td>\n",
       "      <td>high</td>\n",
       "      <td>yes</td>\n",
       "      <td>fair</td>\n",
       "      <td>yes</td>\n",
       "    </tr>\n",
       "    <tr>\n",
       "      <th>13</th>\n",
       "      <td>senior</td>\n",
       "      <td>medium</td>\n",
       "      <td>no</td>\n",
       "      <td>excellent</td>\n",
       "      <td>no</td>\n",
       "    </tr>\n",
       "  </tbody>\n",
       "</table>\n",
       "</div>"
      ],
      "text/plain": [
       "            age  income student credit_rating class_buys_computer\n",
       "0         youth    high      no          fair                  no\n",
       "1         youth    high      no     excellent                  no\n",
       "2   middle_aged    high      no          fair                 yes\n",
       "3        senior  medium      no          fair                 yes\n",
       "4        senior     low     yes          fair                 yes\n",
       "5        senior     low     yes     excellent                  no\n",
       "6   middle_aged     low     yes     excellent                 yes\n",
       "7         youth  medium      no          fair                  no\n",
       "8         youth     low     yes          fair                 yes\n",
       "9        senior  medium     yes          fair                 yes\n",
       "10        youth  medium     yes     excellent                 yes\n",
       "11  middle_aged  medium      no     excellent                 yes\n",
       "12  middle_aged    high     yes          fair                 yes\n",
       "13       senior  medium      no     excellent                  no"
      ]
     },
     "execution_count": 2,
     "metadata": {},
     "output_type": "execute_result"
    }
   ],
   "source": [
    "pd_data = pd.read_csv('https://raw.githubusercontent.com/AugustLONG/ML01/master/01decisiontree/AllElectronics.csv')\n",
    "pd_data.drop(\"RID\", axis=1, inplace = True)     #RID는 그냥 순서라서 삭제\n",
    "pd_data"
   ]
  },
  {
   "cell_type": "markdown",
   "metadata": {},
   "source": [
    "## Gini 계수를 구하는 함수 만들기"
   ]
  },
  {
   "cell_type": "markdown",
   "metadata": {},
   "source": [
    "- Input: df(데이터), label(타겟변수명)\n",
    "- 해당 결과는 아래와 같이 나와야 합니다."
   ]
  },
  {
   "cell_type": "code",
   "execution_count": 3,
   "metadata": {},
   "outputs": [],
   "source": [
    "def get_gini(df, label):\n",
    "    target_count = len(df[label])     # target_count : (분류/예측하고자 하는) 전체 데이터 개수\n",
    "    p_square_sum = 0     # p_square_sum : for 반복문에서 각 확률을 제곱(p_square)하여 합한(sum) 결과를 저장할 변수\n",
    "    for i in list(df[label].value_counts()):     # df[label].value_counts() : 클래스별 데이터 개수를 리스트로 저장\n",
    "        p_square_sum += (i / target_count)**2\n",
    "    gini = 1 - p_square_sum\n",
    "    return gini    "
   ]
  },
  {
   "cell_type": "code",
   "execution_count": 4,
   "metadata": {},
   "outputs": [
    {
     "data": {
      "text/plain": [
       "0.4591836734693877"
      ]
     },
     "execution_count": 4,
     "metadata": {},
     "output_type": "execute_result"
    }
   ],
   "source": [
    "get_gini(pd_data, \"class_buys_computer\")"
   ]
  },
  {
   "cell_type": "code",
   "execution_count": 5,
   "metadata": {},
   "outputs": [
    {
     "data": {
      "text/plain": [
       "0.653061224489796"
      ]
     },
     "execution_count": 5,
     "metadata": {},
     "output_type": "execute_result"
    }
   ],
   "source": [
    "get_gini(pd_data, \"income\")"
   ]
  },
  {
   "cell_type": "markdown",
   "metadata": {},
   "source": [
    "## Feature의 Class를 이진 분류로 만들기\n",
    "- ex) {A,B,C} -> ({A}, {B,C}), ({B}, {A,C}), ({C}, {A,B})"
   ]
  },
  {
   "cell_type": "markdown",
   "metadata": {},
   "source": [
    "- Input: df(데이터), attribute(Gini index를 구하고자 하는 변수명)\n",
    "- Income 변수를 결과로 출력해주세요."
   ]
  },
  {
   "cell_type": "code",
   "execution_count": 6,
   "metadata": {},
   "outputs": [],
   "source": [
    "from itertools import combinations     # 이진 분류를 위한 함수 호출"
   ]
  },
  {
   "cell_type": "code",
   "execution_count": 7,
   "metadata": {},
   "outputs": [],
   "source": [
    "def get_binary_split(df, attribute):\n",
    "    unique = list(df[attribute].unique())    # unique : 해당 attribute에 속한 데이터 중 고유값 추출, 리스트로 변환\n",
    "    result = []\n",
    "    for i in range(1, len(unique)):\n",
    "        for j in range(len(list(combinations(unique, i)))):     # unique의 요소 중 가능한 조합을 모두 찾은 후,\n",
    "            result.append(list(list(combinations(unique, i))[j]))     # 가능한 조합들을 리스트로 바꾸어 result에 요소로 추가\n",
    "    return result"
   ]
  },
  {
   "cell_type": "code",
   "execution_count": 8,
   "metadata": {},
   "outputs": [
    {
     "data": {
      "text/plain": [
       "[['high'],\n",
       " ['medium'],\n",
       " ['low'],\n",
       " ['high', 'medium'],\n",
       " ['high', 'low'],\n",
       " ['medium', 'low']]"
      ]
     },
     "execution_count": 8,
     "metadata": {},
     "output_type": "execute_result"
    }
   ],
   "source": [
    "get_binary_split(pd_data, \"income\")"
   ]
  },
  {
   "cell_type": "markdown",
   "metadata": {},
   "source": [
    "* 다른 변수에 `get_binary_split` 함수를 적용해도 잘 분류되는지 확인해보자."
   ]
  },
  {
   "cell_type": "code",
   "execution_count": 9,
   "metadata": {},
   "outputs": [
    {
     "name": "stdout",
     "output_type": "stream",
     "text": [
      "['youth' 'middle_aged' 'senior']\n",
      "\n",
      "[['youth'], ['middle_aged'], ['senior'], ['youth', 'middle_aged'], ['youth', 'senior'], ['middle_aged', 'senior']]\n"
     ]
    }
   ],
   "source": [
    "# age 변수에 적용 - class가 3개인 경우\n",
    "\n",
    "print(pd_data.age.unique())     # age 변수의 고유값 확인\n",
    "print()\n",
    "print(get_binary_split(pd_data, \"age\"))"
   ]
  },
  {
   "cell_type": "code",
   "execution_count": 10,
   "metadata": {},
   "outputs": [
    {
     "name": "stdout",
     "output_type": "stream",
     "text": [
      "['fair' 'excellent']\n",
      "\n",
      "[['fair'], ['excellent']]\n"
     ]
    }
   ],
   "source": [
    "# credit_rating 변수에 적용 - class가 2개인 경우\n",
    "\n",
    "print(pd_data.credit_rating.unique())     # credit_rating 변수의 고유값 확인\n",
    "print()\n",
    "print(get_binary_split(pd_data, \"credit_rating\"))"
   ]
  },
  {
   "cell_type": "code",
   "execution_count": 11,
   "metadata": {},
   "outputs": [
    {
     "name": "stdout",
     "output_type": "stream",
     "text": [
      "  column\n",
      "0      A\n",
      "1      B\n",
      "2      C\n",
      "3      D\n",
      "\n",
      "이진 분류 결과 : [['A'], ['B'], ['C'], ['D'], ['A', 'B'], ['A', 'C'], ['A', 'D'], ['B', 'C'], ['B', 'D'], ['C', 'D'], ['A', 'B', 'C'], ['A', 'B', 'D'], ['A', 'C', 'D'], ['B', 'C', 'D']]\n"
     ]
    }
   ],
   "source": [
    "# 일반화 가능 여부 확인 - class가 4개인 경우\n",
    "\n",
    "ABCD_df = pd.DataFrame({\"column\" : ['A', 'B', 'C', 'D']})    # 임의로 class가 4개인 DataFrame 생성\n",
    "print(ABCD_df)\n",
    "print()\n",
    "print(\"이진 분류 결과 :\", get_binary_split(ABCD_df, \"column\"))"
   ]
  },
  {
   "cell_type": "markdown",
   "metadata": {},
   "source": [
    "## 모든 이진분류의 경우의 Gini index를 구하는 함수 만들기\n",
    "- 위에서 완성한 두 함수를 사용하여 만들어주세요!\n",
    "- 해당 결과는 아래와 같이 나와야 합니다."
   ]
  },
  {
   "cell_type": "code",
   "execution_count": 12,
   "metadata": {},
   "outputs": [],
   "source": [
    "def get_attribute_gini_index(df, attribute, label):\n",
    "    result = {}     # 딕셔너리형 변수 result 선언\n",
    "    unique = list(df[attribute].unique())     # unique : 해당 attribute에 속한 데이터 중 고유값 추출, 리스트로 변환\n",
    "    \n",
    "    # result의 value 구하기\n",
    "    for i in unique:\n",
    "        gini_1 = get_gini(df[df[attribute] == i], label)     # 주어진 Attribute가 특정 값(i)을 가질 때 Gini 계수 구하기\n",
    "        gini_2 = get_gini(df[df[attribute] != i], label)     # 주어진 Attribute가 특정 값(i)이 아닐 때 Gini 계수 구하기\n",
    "        D = len(df[label])     # 전체 데이터 개수\n",
    "        D_1 = sum(df[attribute] == i)     # 전체 데이터 개수 중 주어진 Attribute가 특정 값(i)인 데이터 개수\n",
    "        D_2 = sum(df[attribute] != i)     # 전체 데이터 개수 중 주어진 Attribute가 특정 값(i)이 아닌 데이터 개수\n",
    "        gini = (D_1 / D) * gini_1 + (D_2 / D) * gini_2     # Gini Index 구하는 공식\n",
    "        result[i] = gini     # result에 요소(key : 이진 분류 결과 요소, value : 대응하는 Gini Index) 추가\n",
    "    \n",
    "    lst = get_binary_split(df, attribute)     # Attribute 이진 분류 결과\n",
    "    \n",
    "    # 이진 분류 결과에서 서로 대응되는 결과끼리는 Gini Index가 동일하다는 점을 이용\n",
    "    # 예를 들어, Income Feature의 'high'에 대한 Gini Index는 'medium_low'에 대한 Gini Index와 동일함\n",
    "    for j in unique:\n",
    "        unique = list(df[attribute].unique())\n",
    "        unique.remove(j)\n",
    "        if unique in lst:\n",
    "            result['_'.join(unique)] = result[j]\n",
    "    \n",
    "    return result"
   ]
  },
  {
   "cell_type": "code",
   "execution_count": 13,
   "metadata": {},
   "outputs": [
    {
     "data": {
      "text/plain": [
       "{'high': 0.4428571428571429,\n",
       " 'medium': 0.4583333333333333,\n",
       " 'low': 0.45,\n",
       " 'medium_low': 0.4428571428571429,\n",
       " 'high_low': 0.4583333333333333,\n",
       " 'high_medium': 0.45}"
      ]
     },
     "execution_count": 13,
     "metadata": {},
     "output_type": "execute_result"
    }
   ],
   "source": [
    "get_attribute_gini_index(pd_data, \"income\", \"class_buys_computer\")"
   ]
  },
  {
   "cell_type": "markdown",
   "metadata": {},
   "source": [
    "- 여기서 가장 작은 Gini index값을 가지는 class를 보여주세요."
   ]
  },
  {
   "cell_type": "code",
   "execution_count": 14,
   "metadata": {},
   "outputs": [
    {
     "data": {
      "text/plain": [
       "('high', 0.4428571428571429)"
      ]
     },
     "execution_count": 14,
     "metadata": {},
     "output_type": "execute_result"
    }
   ],
   "source": [
    "min(get_attribute_gini_index(pd_data, \"income\", \"class_buys_computer\").items())"
   ]
  },
  {
   "cell_type": "markdown",
   "metadata": {},
   "source": [
    "## 분류를 하는 데 가장 중요한 변수를 선정하고, 해당 변수의 Gini index를 제시해주세요.\n",
    "- 모든 변수에 대한 Gini index(최소)를 출력해주세요.\n",
    "- 해당 결과는 아래와 같이 나와야 합니다."
   ]
  },
  {
   "cell_type": "code",
   "execution_count": 15,
   "metadata": {},
   "outputs": [
    {
     "name": "stdout",
     "output_type": "stream",
     "text": [
      "Minimum Gini index of age : 0.35714285714285715\n",
      "Minimum Gini index of income : 0.4428571428571429\n",
      "Minimum Gini index of student : 0.3673469387755103\n",
      "Minimum Gini index of credit_rating : 0.42857142857142855\n"
     ]
    }
   ],
   "source": [
    "# 변수명 중 마지막에 위치한 label 컬럼 얻기\n",
    "\n",
    "label = pd_data.columns[-1]\n",
    "\n",
    "# label 변수를 제외한 변수명 얻기\n",
    "\n",
    "features = list(pd_data.columns[:-1])\n",
    "\n",
    "# 각 변수를 대상으로 반복문 수행(해당 변수 중 가장 낮은 gini 계수와 변수 출력)\n",
    "\n",
    "for feature in features:\n",
    "    print(\"Minimum Gini index of\", feature, \":\", min(get_attribute_gini_index(pd_data, feature, label).values()))"
   ]
  },
  {
   "cell_type": "code",
   "execution_count": 16,
   "metadata": {},
   "outputs": [
    {
     "name": "stdout",
     "output_type": "stream",
     "text": [
      "Minimum Gini index of age : 0.3571\n",
      "Minimum Gini index of income : 0.4429\n",
      "Minimum Gini index of student : 0.3673\n",
      "Minimum Gini index of credit_rating : 0.4286\n"
     ]
    }
   ],
   "source": [
    "# 위의 결과를 소수점 이하 4자리까지 출력\n",
    "\n",
    "for feature in features:\n",
    "    print(\"Minimum Gini index of\", feature, \":\", round(min(get_attribute_gini_index(pd_data, feature, label).values()), 4))"
   ]
  },
  {
   "cell_type": "markdown",
   "metadata": {},
   "source": [
    "## 위에서 선정한 feature로 DataFrame을 split한 후 나눠진 2개의 DataFrame에서 각각 다음으로 중요한 변수를 선정하고 해당 변수의 Gini index를 제시해주세요."
   ]
  },
  {
   "cell_type": "markdown",
   "metadata": {},
   "source": [
    "* 2.4에서 Gini Index가 최소인 Feature은 `age`임을 확인했다.\n",
    "* `age`의 이진 분류에 따른 각각의 Gini Index를 계산하고, 마찬가지로 대응하는 Gini Index가 최소인 경우를 찾아 DataFrame을 분할해보자."
   ]
  },
  {
   "cell_type": "code",
   "execution_count": 17,
   "metadata": {},
   "outputs": [
    {
     "data": {
      "text/plain": [
       "{'youth': 0.3936507936507937,\n",
       " 'middle_aged': 0.35714285714285715,\n",
       " 'senior': 0.45714285714285713,\n",
       " 'middle_aged_senior': 0.3936507936507937,\n",
       " 'youth_senior': 0.35714285714285715,\n",
       " 'youth_middle_aged': 0.45714285714285713}"
      ]
     },
     "execution_count": 17,
     "metadata": {},
     "output_type": "execute_result"
    }
   ],
   "source": [
    "get_attribute_gini_index(pd_data, \"age\", \"class_buys_computer\")     # age의 이진 분류에 따른 Gini Index"
   ]
  },
  {
   "cell_type": "code",
   "execution_count": 18,
   "metadata": {},
   "outputs": [
    {
     "name": "stdout",
     "output_type": "stream",
     "text": [
      "age에서 최소 Gini Index를 지니는 Class :  ('middle_aged', 0.35714285714285715)\n"
     ]
    }
   ],
   "source": [
    "print(\"age에서 최소 Gini Index를 지니는 Class : \", min(get_attribute_gini_index(pd_data, \"age\", \"class_buys_computer\").items()))"
   ]
  },
  {
   "cell_type": "code",
   "execution_count": 19,
   "metadata": {},
   "outputs": [
    {
     "name": "stdout",
     "output_type": "stream",
     "text": [
      "<age가 middle_aged인 DataFrame>\n",
      "            age  income student credit_rating class_buys_computer\n",
      "2   middle_aged    high      no          fair                 yes\n",
      "6   middle_aged     low     yes     excellent                 yes\n",
      "11  middle_aged  medium      no     excellent                 yes\n",
      "12  middle_aged    high     yes          fair                 yes\n",
      "----------------------------------------------------------------------\n",
      "<age가 youth, senior인 DataFrame>\n",
      "       age  income student credit_rating class_buys_computer\n",
      "0    youth    high      no          fair                  no\n",
      "1    youth    high      no     excellent                  no\n",
      "3   senior  medium      no          fair                 yes\n",
      "4   senior     low     yes          fair                 yes\n",
      "5   senior     low     yes     excellent                  no\n",
      "7    youth  medium      no          fair                  no\n",
      "8    youth     low     yes          fair                 yes\n",
      "9   senior  medium     yes          fair                 yes\n",
      "10   youth  medium     yes     excellent                 yes\n",
      "13  senior  medium      no     excellent                  no\n"
     ]
    }
   ],
   "source": [
    "# age의 middle_aged 클래스에 따라 DataFrame 분할하기\n",
    "\n",
    "df_1 = pd_data[pd_data[\"age\"] == \"middle_aged\"]     # df_1 : age가 middle_aged인 DataFrame\n",
    "df_2 = pd_data[pd_data[\"age\"] != \"middle_aged\"]     # df_2 : age가 youth, senior인 DataFrame\n",
    "\n",
    "print(\"<age가 middle_aged인 DataFrame>\")\n",
    "print(df_1)\n",
    "print('-'*70)\n",
    "print(\"<age가 youth, senior인 DataFrame>\")\n",
    "print(df_2)"
   ]
  },
  {
   "cell_type": "code",
   "execution_count": 20,
   "metadata": {},
   "outputs": [
    {
     "name": "stdout",
     "output_type": "stream",
     "text": [
      "Age : Middle_aged, Minimum Gini index of income : 0.0\n",
      "Age : Middle_aged, Minimum Gini index of student : 0.0\n",
      "Age : Middle_aged, Minimum Gini index of credit_rating : 0.0\n",
      "#############################################################\n",
      "Age : Middle_aged, Minimum Gini index of income : 0.375\n",
      "Age : Middle_aged, Minimum Gini index of student : 0.32\n",
      "Age : Middle_aged, Minimum Gini index of credit_rating : 0.4167\n"
     ]
    }
   ],
   "source": [
    "# 각 변수를 대상으로 반복문 수행\n",
    "# 결과는 소수점 이하 4자리까지 출력\n",
    "\n",
    "rest_features = [\"income\", \"student\", \"credit_rating\"]     # Gini Index를 계산할 변수들만 모아서 리스트 생성\n",
    "\n",
    "for feature in rest_features:\n",
    "    print(\"Age : Middle_aged,\", \"Minimum Gini index of\", feature, \":\", round(min(get_attribute_gini_index(df_1, feature, label).values()), 4))\n",
    "\n",
    "print(\"#############################################################\")\n",
    "\n",
    "for feature in rest_features:\n",
    "    print(\"Age : Middle_aged,\", \"Minimum Gini index of\", feature, \":\", round(min(get_attribute_gini_index(df_2, feature, label).values()), 4))"
   ]
  },
  {
   "attachments": {
    "image.png": {
     "image/png": "[encoded data removed]"
    }
   },
   "cell_type": "markdown",
   "metadata": {},
   "source": [
    "## Entropy 를 구하는 함수 만들기\n",
    "* 참고 : Entropy Formula (출처 : https://towardsdatascience.com/entropy-is-a-measure-of-uncertainty-e2c000301c2c)\n",
    "![image.png](attachment:image.png)"
   ]
  },
  {
   "cell_type": "code",
   "execution_count": 21,
   "metadata": {},
   "outputs": [],
   "source": [
    "def getEntropy(df, feature):\n",
    "    entropy = 0     # entrophy 변수 선언\n",
    "    unique = list(df[feature].unique())     # Feature가 가질 수 있는 value 중 unique한 value만 추출, 리스트로 저장\n",
    "    \n",
    "    for i in unique:\n",
    "        # prob : 해당 Feature가 특정 값(i)을 가지는 데이터 개수 / Feature의 전체 데이터 개수\n",
    "        prob = sum(df[feature] == i) / len(df[feature])\n",
    "        entropy -= prob * np.log2(prob)\n",
    "        \n",
    "    return entropy"
   ]
  },
  {
   "cell_type": "code",
   "execution_count": 22,
   "metadata": {},
   "outputs": [
    {
     "data": {
      "text/plain": [
       "0.9402859586706311"
      ]
     },
     "execution_count": 22,
     "metadata": {},
     "output_type": "execute_result"
    }
   ],
   "source": [
    "getEntropy(pd_data, \"class_buys_computer\")"
   ]
  },
  {
   "cell_type": "code",
   "execution_count": 23,
   "metadata": {},
   "outputs": [],
   "source": [
    "def getGainA(df, feature) :\n",
    "    result = {}     # 딕셔너리형 변수 result 선언\n",
    "    info_D = getEntropy(df, feature)    # 목표변수에 대한 Entropy 구하기\n",
    "    columns = list(df.loc[:, df.columns != feature])     # 목표변수(feature)를 제외한 나머지 변수들의 변수명을 리스트 형태로 저장\n",
    "    \n",
    "    for i in columns:     # Column별로 반복\n",
    "        pre_info = 0     # 가중치 * Entropy를 저장할 변수 pre_info 선언\n",
    "        for j in list(df[i].unique()):\n",
    "            S = len(df[feature])     # S : 전체 데이터 개수\n",
    "            S_j = sum(df[i] == j)     # S_j : 전체 데이터 중 i 컬럼의 값이 j인 데이터의 개수 (= 가중치)\n",
    "            pre_info += (S_j / S) * getEntropy(df[df[i] == j], feature)   # pre_info에 가중치 * Entropy 누적합 저장\n",
    "        result[i] = info_D - pre_info   # 최종 결과는 목표변수의 Entropy - pre_info\n",
    "        \n",
    "    return result"
   ]
  },
  {
   "cell_type": "code",
   "execution_count": 24,
   "metadata": {
    "scrolled": true
   },
   "outputs": [
    {
     "data": {
      "text/plain": [
       "{'age': 0.24674981977443933,\n",
       " 'income': 0.02922256565895487,\n",
       " 'student': 0.15183550136234159,\n",
       " 'credit_rating': 0.04812703040826949}"
      ]
     },
     "execution_count": 24,
     "metadata": {},
     "output_type": "execute_result"
    }
   ],
   "source": [
    "getGainA(pd_data, \"class_buys_computer\")"
   ]
  }
 ],
 "metadata": {
  "kernelspec": {
   "display_name": "Python 3",
   "language": "python",
   "name": "python3"
  },
  "language_info": {
   "codemirror_mode": {
    "name": "ipython",
    "version": 3
   },
   "file_extension": ".py",
   "mimetype": "text/x-python",
   "name": "python",
   "nbconvert_exporter": "python",
   "pygments_lexer": "ipython3",
   "version": "3.8.5"
  },
  "toc": {
   "base_numbering": 1,
   "nav_menu": {},
   "number_sections": true,
   "sideBar": true,
   "skip_h1_title": false,
   "title_cell": "Table of Contents",
   "title_sidebar": "Contents",
   "toc_cell": false,
   "toc_position": {},
   "toc_section_display": true,
   "toc_window_display": false
  }
 },
 "nbformat": 4,
 "nbformat_minor": 4
}
