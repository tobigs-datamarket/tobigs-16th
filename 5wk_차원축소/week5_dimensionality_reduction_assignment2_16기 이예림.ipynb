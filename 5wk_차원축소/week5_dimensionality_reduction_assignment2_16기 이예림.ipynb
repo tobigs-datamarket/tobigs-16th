{
 "cells": [
  {
   "cell_type": "markdown",
   "metadata": {},
   "source": [
    "# 차원축소 Assignment2"
   ]
  },
  {
   "cell_type": "markdown",
   "metadata": {},
   "source": [
    "## MNIST data에 적용을 해보기\n",
    "\n",
    "mnist-original.mat 파일과 같은 위치에서 주피터 노트북을 열어주세요"
   ]
  },
  {
   "cell_type": "code",
   "execution_count": 1,
   "metadata": {},
   "outputs": [],
   "source": [
    "import numpy as np\n",
    "import numpy.linalg as lin\n",
    "import matplotlib.pyplot as plt\n",
    "import pandas as pd\n",
    "from sklearn.datasets import fetch_openml\n",
    "from scipy import io\n",
    "%matplotlib inline\n",
    "from mpl_toolkits.mplot3d import Axes3D"
   ]
  },
  {
   "cell_type": "code",
   "execution_count": 2,
   "metadata": {},
   "outputs": [],
   "source": [
    "mnist = io.loadmat('mnist-original.mat') #mnist 손글씨 데이터를 불러옵니다\n",
    "X = mnist['data'].T\n",
    "y = mnist['label'].T"
   ]
  },
  {
   "cell_type": "markdown",
   "metadata": {},
   "source": [
    "# 데이터 정보!\n",
    "- 7만개의 작은 숫자 이미지\n",
    "- 행 열이 반대로 되어있음 -> 전치\n",
    "- grayscale 28x28 pixel = 784 feature\n",
    "- 각 pixel은 0~255의 값\n",
    "- label = 1~10 label이 총 10개인거에 주목하자"
   ]
  },
  {
   "cell_type": "code",
   "execution_count": 3,
   "metadata": {},
   "outputs": [
    {
     "name": "stdout",
     "output_type": "stream",
     "text": [
      "(70000, 784) (70000, 1)\n"
     ]
    }
   ],
   "source": [
    "print(X.shape, y.shape)"
   ]
  },
  {
   "cell_type": "code",
   "execution_count": 4,
   "metadata": {},
   "outputs": [
    {
     "data": {
      "text/html": [
       "<div>\n",
       "<style scoped>\n",
       "    .dataframe tbody tr th:only-of-type {\n",
       "        vertical-align: middle;\n",
       "    }\n",
       "\n",
       "    .dataframe tbody tr th {\n",
       "        vertical-align: top;\n",
       "    }\n",
       "\n",
       "    .dataframe thead th {\n",
       "        text-align: right;\n",
       "    }\n",
       "</style>\n",
       "<table border=\"1\" class=\"dataframe\">\n",
       "  <thead>\n",
       "    <tr style=\"text-align: right;\">\n",
       "      <th></th>\n",
       "      <th>pixel0</th>\n",
       "      <th>pixel1</th>\n",
       "      <th>pixel2</th>\n",
       "      <th>pixel3</th>\n",
       "      <th>pixel4</th>\n",
       "      <th>pixel5</th>\n",
       "      <th>pixel6</th>\n",
       "      <th>pixel7</th>\n",
       "      <th>pixel8</th>\n",
       "      <th>pixel9</th>\n",
       "      <th>...</th>\n",
       "      <th>pixel774</th>\n",
       "      <th>pixel775</th>\n",
       "      <th>pixel776</th>\n",
       "      <th>pixel777</th>\n",
       "      <th>pixel778</th>\n",
       "      <th>pixel779</th>\n",
       "      <th>pixel780</th>\n",
       "      <th>pixel781</th>\n",
       "      <th>pixel782</th>\n",
       "      <th>pixel783</th>\n",
       "    </tr>\n",
       "  </thead>\n",
       "  <tbody>\n",
       "    <tr>\n",
       "      <th>0</th>\n",
       "      <td>0</td>\n",
       "      <td>0</td>\n",
       "      <td>0</td>\n",
       "      <td>0</td>\n",
       "      <td>0</td>\n",
       "      <td>0</td>\n",
       "      <td>0</td>\n",
       "      <td>0</td>\n",
       "      <td>0</td>\n",
       "      <td>0</td>\n",
       "      <td>...</td>\n",
       "      <td>0</td>\n",
       "      <td>0</td>\n",
       "      <td>0</td>\n",
       "      <td>0</td>\n",
       "      <td>0</td>\n",
       "      <td>0</td>\n",
       "      <td>0</td>\n",
       "      <td>0</td>\n",
       "      <td>0</td>\n",
       "      <td>0</td>\n",
       "    </tr>\n",
       "    <tr>\n",
       "      <th>1</th>\n",
       "      <td>0</td>\n",
       "      <td>0</td>\n",
       "      <td>0</td>\n",
       "      <td>0</td>\n",
       "      <td>0</td>\n",
       "      <td>0</td>\n",
       "      <td>0</td>\n",
       "      <td>0</td>\n",
       "      <td>0</td>\n",
       "      <td>0</td>\n",
       "      <td>...</td>\n",
       "      <td>0</td>\n",
       "      <td>0</td>\n",
       "      <td>0</td>\n",
       "      <td>0</td>\n",
       "      <td>0</td>\n",
       "      <td>0</td>\n",
       "      <td>0</td>\n",
       "      <td>0</td>\n",
       "      <td>0</td>\n",
       "      <td>0</td>\n",
       "    </tr>\n",
       "    <tr>\n",
       "      <th>2</th>\n",
       "      <td>0</td>\n",
       "      <td>0</td>\n",
       "      <td>0</td>\n",
       "      <td>0</td>\n",
       "      <td>0</td>\n",
       "      <td>0</td>\n",
       "      <td>0</td>\n",
       "      <td>0</td>\n",
       "      <td>0</td>\n",
       "      <td>0</td>\n",
       "      <td>...</td>\n",
       "      <td>0</td>\n",
       "      <td>0</td>\n",
       "      <td>0</td>\n",
       "      <td>0</td>\n",
       "      <td>0</td>\n",
       "      <td>0</td>\n",
       "      <td>0</td>\n",
       "      <td>0</td>\n",
       "      <td>0</td>\n",
       "      <td>0</td>\n",
       "    </tr>\n",
       "    <tr>\n",
       "      <th>3</th>\n",
       "      <td>0</td>\n",
       "      <td>0</td>\n",
       "      <td>0</td>\n",
       "      <td>0</td>\n",
       "      <td>0</td>\n",
       "      <td>0</td>\n",
       "      <td>0</td>\n",
       "      <td>0</td>\n",
       "      <td>0</td>\n",
       "      <td>0</td>\n",
       "      <td>...</td>\n",
       "      <td>0</td>\n",
       "      <td>0</td>\n",
       "      <td>0</td>\n",
       "      <td>0</td>\n",
       "      <td>0</td>\n",
       "      <td>0</td>\n",
       "      <td>0</td>\n",
       "      <td>0</td>\n",
       "      <td>0</td>\n",
       "      <td>0</td>\n",
       "    </tr>\n",
       "    <tr>\n",
       "      <th>4</th>\n",
       "      <td>0</td>\n",
       "      <td>0</td>\n",
       "      <td>0</td>\n",
       "      <td>0</td>\n",
       "      <td>0</td>\n",
       "      <td>0</td>\n",
       "      <td>0</td>\n",
       "      <td>0</td>\n",
       "      <td>0</td>\n",
       "      <td>0</td>\n",
       "      <td>...</td>\n",
       "      <td>0</td>\n",
       "      <td>0</td>\n",
       "      <td>0</td>\n",
       "      <td>0</td>\n",
       "      <td>0</td>\n",
       "      <td>0</td>\n",
       "      <td>0</td>\n",
       "      <td>0</td>\n",
       "      <td>0</td>\n",
       "      <td>0</td>\n",
       "    </tr>\n",
       "  </tbody>\n",
       "</table>\n",
       "<p>5 rows × 784 columns</p>\n",
       "</div>"
      ],
      "text/plain": [
       "   pixel0  pixel1  pixel2  pixel3  pixel4  pixel5  pixel6  pixel7  pixel8  \\\n",
       "0       0       0       0       0       0       0       0       0       0   \n",
       "1       0       0       0       0       0       0       0       0       0   \n",
       "2       0       0       0       0       0       0       0       0       0   \n",
       "3       0       0       0       0       0       0       0       0       0   \n",
       "4       0       0       0       0       0       0       0       0       0   \n",
       "\n",
       "   pixel9  ...  pixel774  pixel775  pixel776  pixel777  pixel778  pixel779  \\\n",
       "0       0  ...         0         0         0         0         0         0   \n",
       "1       0  ...         0         0         0         0         0         0   \n",
       "2       0  ...         0         0         0         0         0         0   \n",
       "3       0  ...         0         0         0         0         0         0   \n",
       "4       0  ...         0         0         0         0         0         0   \n",
       "\n",
       "   pixel780  pixel781  pixel782  pixel783  \n",
       "0         0         0         0         0  \n",
       "1         0         0         0         0  \n",
       "2         0         0         0         0  \n",
       "3         0         0         0         0  \n",
       "4         0         0         0         0  \n",
       "\n",
       "[5 rows x 784 columns]"
      ]
     },
     "execution_count": 4,
     "metadata": {},
     "output_type": "execute_result"
    }
   ],
   "source": [
    "# data를 각 픽셀에 이름붙여 표현\n",
    "feat_cols = [ 'pixel'+str(i) for i in range(X.shape[1]) ]\n",
    "df = pd.DataFrame(X,columns=feat_cols)\n",
    "df.head()"
   ]
  },
  {
   "cell_type": "code",
   "execution_count": 5,
   "metadata": {},
   "outputs": [
    {
     "name": "stdout",
     "output_type": "stream",
     "text": [
      "Size of the dataframe: (70000, 785)\n"
     ]
    }
   ],
   "source": [
    "# df에 라벨 y를 붙여서 데이터프레임 생성\n",
    "df['y'] = y\n",
    "print('Size of the dataframe: {}'.format(df.shape))"
   ]
  },
  {
   "cell_type": "code",
   "execution_count": 6,
   "metadata": {},
   "outputs": [
    {
     "data": {
      "text/html": [
       "<div>\n",
       "<style scoped>\n",
       "    .dataframe tbody tr th:only-of-type {\n",
       "        vertical-align: middle;\n",
       "    }\n",
       "\n",
       "    .dataframe tbody tr th {\n",
       "        vertical-align: top;\n",
       "    }\n",
       "\n",
       "    .dataframe thead th {\n",
       "        text-align: right;\n",
       "    }\n",
       "</style>\n",
       "<table border=\"1\" class=\"dataframe\">\n",
       "  <thead>\n",
       "    <tr style=\"text-align: right;\">\n",
       "      <th></th>\n",
       "      <th>pixel0</th>\n",
       "      <th>pixel1</th>\n",
       "      <th>pixel2</th>\n",
       "      <th>pixel3</th>\n",
       "      <th>pixel4</th>\n",
       "      <th>pixel5</th>\n",
       "      <th>pixel6</th>\n",
       "      <th>pixel7</th>\n",
       "      <th>pixel8</th>\n",
       "      <th>pixel9</th>\n",
       "      <th>...</th>\n",
       "      <th>pixel775</th>\n",
       "      <th>pixel776</th>\n",
       "      <th>pixel777</th>\n",
       "      <th>pixel778</th>\n",
       "      <th>pixel779</th>\n",
       "      <th>pixel780</th>\n",
       "      <th>pixel781</th>\n",
       "      <th>pixel782</th>\n",
       "      <th>pixel783</th>\n",
       "      <th>y</th>\n",
       "    </tr>\n",
       "  </thead>\n",
       "  <tbody>\n",
       "    <tr>\n",
       "      <th>0</th>\n",
       "      <td>0</td>\n",
       "      <td>0</td>\n",
       "      <td>0</td>\n",
       "      <td>0</td>\n",
       "      <td>0</td>\n",
       "      <td>0</td>\n",
       "      <td>0</td>\n",
       "      <td>0</td>\n",
       "      <td>0</td>\n",
       "      <td>0</td>\n",
       "      <td>...</td>\n",
       "      <td>0</td>\n",
       "      <td>0</td>\n",
       "      <td>0</td>\n",
       "      <td>0</td>\n",
       "      <td>0</td>\n",
       "      <td>0</td>\n",
       "      <td>0</td>\n",
       "      <td>0</td>\n",
       "      <td>0</td>\n",
       "      <td>0.0</td>\n",
       "    </tr>\n",
       "    <tr>\n",
       "      <th>1</th>\n",
       "      <td>0</td>\n",
       "      <td>0</td>\n",
       "      <td>0</td>\n",
       "      <td>0</td>\n",
       "      <td>0</td>\n",
       "      <td>0</td>\n",
       "      <td>0</td>\n",
       "      <td>0</td>\n",
       "      <td>0</td>\n",
       "      <td>0</td>\n",
       "      <td>...</td>\n",
       "      <td>0</td>\n",
       "      <td>0</td>\n",
       "      <td>0</td>\n",
       "      <td>0</td>\n",
       "      <td>0</td>\n",
       "      <td>0</td>\n",
       "      <td>0</td>\n",
       "      <td>0</td>\n",
       "      <td>0</td>\n",
       "      <td>0.0</td>\n",
       "    </tr>\n",
       "    <tr>\n",
       "      <th>2</th>\n",
       "      <td>0</td>\n",
       "      <td>0</td>\n",
       "      <td>0</td>\n",
       "      <td>0</td>\n",
       "      <td>0</td>\n",
       "      <td>0</td>\n",
       "      <td>0</td>\n",
       "      <td>0</td>\n",
       "      <td>0</td>\n",
       "      <td>0</td>\n",
       "      <td>...</td>\n",
       "      <td>0</td>\n",
       "      <td>0</td>\n",
       "      <td>0</td>\n",
       "      <td>0</td>\n",
       "      <td>0</td>\n",
       "      <td>0</td>\n",
       "      <td>0</td>\n",
       "      <td>0</td>\n",
       "      <td>0</td>\n",
       "      <td>0.0</td>\n",
       "    </tr>\n",
       "    <tr>\n",
       "      <th>3</th>\n",
       "      <td>0</td>\n",
       "      <td>0</td>\n",
       "      <td>0</td>\n",
       "      <td>0</td>\n",
       "      <td>0</td>\n",
       "      <td>0</td>\n",
       "      <td>0</td>\n",
       "      <td>0</td>\n",
       "      <td>0</td>\n",
       "      <td>0</td>\n",
       "      <td>...</td>\n",
       "      <td>0</td>\n",
       "      <td>0</td>\n",
       "      <td>0</td>\n",
       "      <td>0</td>\n",
       "      <td>0</td>\n",
       "      <td>0</td>\n",
       "      <td>0</td>\n",
       "      <td>0</td>\n",
       "      <td>0</td>\n",
       "      <td>0.0</td>\n",
       "    </tr>\n",
       "    <tr>\n",
       "      <th>4</th>\n",
       "      <td>0</td>\n",
       "      <td>0</td>\n",
       "      <td>0</td>\n",
       "      <td>0</td>\n",
       "      <td>0</td>\n",
       "      <td>0</td>\n",
       "      <td>0</td>\n",
       "      <td>0</td>\n",
       "      <td>0</td>\n",
       "      <td>0</td>\n",
       "      <td>...</td>\n",
       "      <td>0</td>\n",
       "      <td>0</td>\n",
       "      <td>0</td>\n",
       "      <td>0</td>\n",
       "      <td>0</td>\n",
       "      <td>0</td>\n",
       "      <td>0</td>\n",
       "      <td>0</td>\n",
       "      <td>0</td>\n",
       "      <td>0.0</td>\n",
       "    </tr>\n",
       "    <tr>\n",
       "      <th>...</th>\n",
       "      <td>...</td>\n",
       "      <td>...</td>\n",
       "      <td>...</td>\n",
       "      <td>...</td>\n",
       "      <td>...</td>\n",
       "      <td>...</td>\n",
       "      <td>...</td>\n",
       "      <td>...</td>\n",
       "      <td>...</td>\n",
       "      <td>...</td>\n",
       "      <td>...</td>\n",
       "      <td>...</td>\n",
       "      <td>...</td>\n",
       "      <td>...</td>\n",
       "      <td>...</td>\n",
       "      <td>...</td>\n",
       "      <td>...</td>\n",
       "      <td>...</td>\n",
       "      <td>...</td>\n",
       "      <td>...</td>\n",
       "      <td>...</td>\n",
       "    </tr>\n",
       "    <tr>\n",
       "      <th>69995</th>\n",
       "      <td>0</td>\n",
       "      <td>0</td>\n",
       "      <td>0</td>\n",
       "      <td>0</td>\n",
       "      <td>0</td>\n",
       "      <td>0</td>\n",
       "      <td>0</td>\n",
       "      <td>0</td>\n",
       "      <td>0</td>\n",
       "      <td>0</td>\n",
       "      <td>...</td>\n",
       "      <td>0</td>\n",
       "      <td>0</td>\n",
       "      <td>0</td>\n",
       "      <td>0</td>\n",
       "      <td>0</td>\n",
       "      <td>0</td>\n",
       "      <td>0</td>\n",
       "      <td>0</td>\n",
       "      <td>0</td>\n",
       "      <td>9.0</td>\n",
       "    </tr>\n",
       "    <tr>\n",
       "      <th>69996</th>\n",
       "      <td>0</td>\n",
       "      <td>0</td>\n",
       "      <td>0</td>\n",
       "      <td>0</td>\n",
       "      <td>0</td>\n",
       "      <td>0</td>\n",
       "      <td>0</td>\n",
       "      <td>0</td>\n",
       "      <td>0</td>\n",
       "      <td>0</td>\n",
       "      <td>...</td>\n",
       "      <td>0</td>\n",
       "      <td>0</td>\n",
       "      <td>0</td>\n",
       "      <td>0</td>\n",
       "      <td>0</td>\n",
       "      <td>0</td>\n",
       "      <td>0</td>\n",
       "      <td>0</td>\n",
       "      <td>0</td>\n",
       "      <td>9.0</td>\n",
       "    </tr>\n",
       "    <tr>\n",
       "      <th>69997</th>\n",
       "      <td>0</td>\n",
       "      <td>0</td>\n",
       "      <td>0</td>\n",
       "      <td>0</td>\n",
       "      <td>0</td>\n",
       "      <td>0</td>\n",
       "      <td>0</td>\n",
       "      <td>0</td>\n",
       "      <td>0</td>\n",
       "      <td>0</td>\n",
       "      <td>...</td>\n",
       "      <td>0</td>\n",
       "      <td>0</td>\n",
       "      <td>0</td>\n",
       "      <td>0</td>\n",
       "      <td>0</td>\n",
       "      <td>0</td>\n",
       "      <td>0</td>\n",
       "      <td>0</td>\n",
       "      <td>0</td>\n",
       "      <td>9.0</td>\n",
       "    </tr>\n",
       "    <tr>\n",
       "      <th>69998</th>\n",
       "      <td>0</td>\n",
       "      <td>0</td>\n",
       "      <td>0</td>\n",
       "      <td>0</td>\n",
       "      <td>0</td>\n",
       "      <td>0</td>\n",
       "      <td>0</td>\n",
       "      <td>0</td>\n",
       "      <td>0</td>\n",
       "      <td>0</td>\n",
       "      <td>...</td>\n",
       "      <td>0</td>\n",
       "      <td>0</td>\n",
       "      <td>0</td>\n",
       "      <td>0</td>\n",
       "      <td>0</td>\n",
       "      <td>0</td>\n",
       "      <td>0</td>\n",
       "      <td>0</td>\n",
       "      <td>0</td>\n",
       "      <td>9.0</td>\n",
       "    </tr>\n",
       "    <tr>\n",
       "      <th>69999</th>\n",
       "      <td>0</td>\n",
       "      <td>0</td>\n",
       "      <td>0</td>\n",
       "      <td>0</td>\n",
       "      <td>0</td>\n",
       "      <td>0</td>\n",
       "      <td>0</td>\n",
       "      <td>0</td>\n",
       "      <td>0</td>\n",
       "      <td>0</td>\n",
       "      <td>...</td>\n",
       "      <td>0</td>\n",
       "      <td>0</td>\n",
       "      <td>0</td>\n",
       "      <td>0</td>\n",
       "      <td>0</td>\n",
       "      <td>0</td>\n",
       "      <td>0</td>\n",
       "      <td>0</td>\n",
       "      <td>0</td>\n",
       "      <td>9.0</td>\n",
       "    </tr>\n",
       "  </tbody>\n",
       "</table>\n",
       "<p>70000 rows × 785 columns</p>\n",
       "</div>"
      ],
      "text/plain": [
       "       pixel0  pixel1  pixel2  pixel3  pixel4  pixel5  pixel6  pixel7  pixel8  \\\n",
       "0           0       0       0       0       0       0       0       0       0   \n",
       "1           0       0       0       0       0       0       0       0       0   \n",
       "2           0       0       0       0       0       0       0       0       0   \n",
       "3           0       0       0       0       0       0       0       0       0   \n",
       "4           0       0       0       0       0       0       0       0       0   \n",
       "...       ...     ...     ...     ...     ...     ...     ...     ...     ...   \n",
       "69995       0       0       0       0       0       0       0       0       0   \n",
       "69996       0       0       0       0       0       0       0       0       0   \n",
       "69997       0       0       0       0       0       0       0       0       0   \n",
       "69998       0       0       0       0       0       0       0       0       0   \n",
       "69999       0       0       0       0       0       0       0       0       0   \n",
       "\n",
       "       pixel9  ...  pixel775  pixel776  pixel777  pixel778  pixel779  \\\n",
       "0           0  ...         0         0         0         0         0   \n",
       "1           0  ...         0         0         0         0         0   \n",
       "2           0  ...         0         0         0         0         0   \n",
       "3           0  ...         0         0         0         0         0   \n",
       "4           0  ...         0         0         0         0         0   \n",
       "...       ...  ...       ...       ...       ...       ...       ...   \n",
       "69995       0  ...         0         0         0         0         0   \n",
       "69996       0  ...         0         0         0         0         0   \n",
       "69997       0  ...         0         0         0         0         0   \n",
       "69998       0  ...         0         0         0         0         0   \n",
       "69999       0  ...         0         0         0         0         0   \n",
       "\n",
       "       pixel780  pixel781  pixel782  pixel783    y  \n",
       "0             0         0         0         0  0.0  \n",
       "1             0         0         0         0  0.0  \n",
       "2             0         0         0         0  0.0  \n",
       "3             0         0         0         0  0.0  \n",
       "4             0         0         0         0  0.0  \n",
       "...         ...       ...       ...       ...  ...  \n",
       "69995         0         0         0         0  9.0  \n",
       "69996         0         0         0         0  9.0  \n",
       "69997         0         0         0         0  9.0  \n",
       "69998         0         0         0         0  9.0  \n",
       "69999         0         0         0         0  9.0  \n",
       "\n",
       "[70000 rows x 785 columns]"
      ]
     },
     "execution_count": 6,
     "metadata": {},
     "output_type": "execute_result"
    }
   ],
   "source": [
    "df"
   ]
  },
  {
   "cell_type": "code",
   "execution_count": 7,
   "metadata": {
    "scrolled": true
   },
   "outputs": [
    {
     "data": {
      "text/plain": [
       "<Figure size 432x288 with 0 Axes>"
      ]
     },
     "metadata": {},
     "output_type": "display_data"
    },
    {
     "data": {
      "image/png": "[encoded data removed]",
      "text/plain": [
       "<Figure size 1152x504 with 15 Axes>"
      ]
     },
     "metadata": {
      "needs_background": "light"
     },
     "output_type": "display_data"
    }
   ],
   "source": [
    "# 데이터 형태 시각화\n",
    "\n",
    "import matplotlib.pyplot as plt\n",
    "\n",
    "rndperm = np.random.permutation(df.shape[0])\n",
    "\n",
    "# Plot the graph\n",
    "plt.gray()\n",
    "fig = plt.figure( figsize=(16,7) )\n",
    "for i in range(0,15):\n",
    "    ax = fig.add_subplot(3,5,i+1, title=\"Digit: {}\".format(str(df.loc[rndperm[i],'y'])) )\n",
    "    ax.matshow(df.loc[rndperm[i],feat_cols].values.reshape((28,28)).astype(float))\n",
    "plt.show()"
   ]
  },
  {
   "cell_type": "markdown",
   "metadata": {},
   "source": [
    "# 데이터 축소"
   ]
  },
  {
   "cell_type": "markdown",
   "metadata": {},
   "source": [
    "## 데이터 스케일링"
   ]
  },
  {
   "cell_type": "code",
   "execution_count": 8,
   "metadata": {
    "scrolled": true
   },
   "outputs": [
    {
     "data": {
      "text/html": [
       "<div>\n",
       "<style scoped>\n",
       "    .dataframe tbody tr th:only-of-type {\n",
       "        vertical-align: middle;\n",
       "    }\n",
       "\n",
       "    .dataframe tbody tr th {\n",
       "        vertical-align: top;\n",
       "    }\n",
       "\n",
       "    .dataframe thead th {\n",
       "        text-align: right;\n",
       "    }\n",
       "</style>\n",
       "<table border=\"1\" class=\"dataframe\">\n",
       "  <thead>\n",
       "    <tr style=\"text-align: right;\">\n",
       "      <th></th>\n",
       "      <th>pixel0</th>\n",
       "      <th>pixel1</th>\n",
       "      <th>pixel2</th>\n",
       "      <th>pixel3</th>\n",
       "      <th>pixel4</th>\n",
       "      <th>pixel5</th>\n",
       "      <th>pixel6</th>\n",
       "      <th>pixel7</th>\n",
       "      <th>pixel8</th>\n",
       "      <th>pixel9</th>\n",
       "      <th>...</th>\n",
       "      <th>pixel775</th>\n",
       "      <th>pixel776</th>\n",
       "      <th>pixel777</th>\n",
       "      <th>pixel778</th>\n",
       "      <th>pixel779</th>\n",
       "      <th>pixel780</th>\n",
       "      <th>pixel781</th>\n",
       "      <th>pixel782</th>\n",
       "      <th>pixel783</th>\n",
       "      <th>y</th>\n",
       "    </tr>\n",
       "  </thead>\n",
       "  <tbody>\n",
       "    <tr>\n",
       "      <th>count</th>\n",
       "      <td>70000.0</td>\n",
       "      <td>70000.0</td>\n",
       "      <td>70000.0</td>\n",
       "      <td>70000.0</td>\n",
       "      <td>70000.0</td>\n",
       "      <td>70000.0</td>\n",
       "      <td>70000.0</td>\n",
       "      <td>70000.0</td>\n",
       "      <td>70000.0</td>\n",
       "      <td>70000.0</td>\n",
       "      <td>...</td>\n",
       "      <td>70000.000000</td>\n",
       "      <td>70000.000000</td>\n",
       "      <td>70000.000000</td>\n",
       "      <td>70000.000000</td>\n",
       "      <td>70000.000000</td>\n",
       "      <td>70000.0</td>\n",
       "      <td>70000.0</td>\n",
       "      <td>70000.0</td>\n",
       "      <td>70000.0</td>\n",
       "      <td>70000.000000</td>\n",
       "    </tr>\n",
       "    <tr>\n",
       "      <th>mean</th>\n",
       "      <td>0.0</td>\n",
       "      <td>0.0</td>\n",
       "      <td>0.0</td>\n",
       "      <td>0.0</td>\n",
       "      <td>0.0</td>\n",
       "      <td>0.0</td>\n",
       "      <td>0.0</td>\n",
       "      <td>0.0</td>\n",
       "      <td>0.0</td>\n",
       "      <td>0.0</td>\n",
       "      <td>...</td>\n",
       "      <td>0.099543</td>\n",
       "      <td>0.046629</td>\n",
       "      <td>0.016614</td>\n",
       "      <td>0.012957</td>\n",
       "      <td>0.001714</td>\n",
       "      <td>0.0</td>\n",
       "      <td>0.0</td>\n",
       "      <td>0.0</td>\n",
       "      <td>0.0</td>\n",
       "      <td>4.452429</td>\n",
       "    </tr>\n",
       "    <tr>\n",
       "      <th>std</th>\n",
       "      <td>0.0</td>\n",
       "      <td>0.0</td>\n",
       "      <td>0.0</td>\n",
       "      <td>0.0</td>\n",
       "      <td>0.0</td>\n",
       "      <td>0.0</td>\n",
       "      <td>0.0</td>\n",
       "      <td>0.0</td>\n",
       "      <td>0.0</td>\n",
       "      <td>0.0</td>\n",
       "      <td>...</td>\n",
       "      <td>4.256304</td>\n",
       "      <td>2.783732</td>\n",
       "      <td>1.561822</td>\n",
       "      <td>1.553796</td>\n",
       "      <td>0.320889</td>\n",
       "      <td>0.0</td>\n",
       "      <td>0.0</td>\n",
       "      <td>0.0</td>\n",
       "      <td>0.0</td>\n",
       "      <td>2.890195</td>\n",
       "    </tr>\n",
       "    <tr>\n",
       "      <th>min</th>\n",
       "      <td>0.0</td>\n",
       "      <td>0.0</td>\n",
       "      <td>0.0</td>\n",
       "      <td>0.0</td>\n",
       "      <td>0.0</td>\n",
       "      <td>0.0</td>\n",
       "      <td>0.0</td>\n",
       "      <td>0.0</td>\n",
       "      <td>0.0</td>\n",
       "      <td>0.0</td>\n",
       "      <td>...</td>\n",
       "      <td>0.000000</td>\n",
       "      <td>0.000000</td>\n",
       "      <td>0.000000</td>\n",
       "      <td>0.000000</td>\n",
       "      <td>0.000000</td>\n",
       "      <td>0.0</td>\n",
       "      <td>0.0</td>\n",
       "      <td>0.0</td>\n",
       "      <td>0.0</td>\n",
       "      <td>0.000000</td>\n",
       "    </tr>\n",
       "    <tr>\n",
       "      <th>25%</th>\n",
       "      <td>0.0</td>\n",
       "      <td>0.0</td>\n",
       "      <td>0.0</td>\n",
       "      <td>0.0</td>\n",
       "      <td>0.0</td>\n",
       "      <td>0.0</td>\n",
       "      <td>0.0</td>\n",
       "      <td>0.0</td>\n",
       "      <td>0.0</td>\n",
       "      <td>0.0</td>\n",
       "      <td>...</td>\n",
       "      <td>0.000000</td>\n",
       "      <td>0.000000</td>\n",
       "      <td>0.000000</td>\n",
       "      <td>0.000000</td>\n",
       "      <td>0.000000</td>\n",
       "      <td>0.0</td>\n",
       "      <td>0.0</td>\n",
       "      <td>0.0</td>\n",
       "      <td>0.0</td>\n",
       "      <td>2.000000</td>\n",
       "    </tr>\n",
       "    <tr>\n",
       "      <th>50%</th>\n",
       "      <td>0.0</td>\n",
       "      <td>0.0</td>\n",
       "      <td>0.0</td>\n",
       "      <td>0.0</td>\n",
       "      <td>0.0</td>\n",
       "      <td>0.0</td>\n",
       "      <td>0.0</td>\n",
       "      <td>0.0</td>\n",
       "      <td>0.0</td>\n",
       "      <td>0.0</td>\n",
       "      <td>...</td>\n",
       "      <td>0.000000</td>\n",
       "      <td>0.000000</td>\n",
       "      <td>0.000000</td>\n",
       "      <td>0.000000</td>\n",
       "      <td>0.000000</td>\n",
       "      <td>0.0</td>\n",
       "      <td>0.0</td>\n",
       "      <td>0.0</td>\n",
       "      <td>0.0</td>\n",
       "      <td>4.000000</td>\n",
       "    </tr>\n",
       "    <tr>\n",
       "      <th>75%</th>\n",
       "      <td>0.0</td>\n",
       "      <td>0.0</td>\n",
       "      <td>0.0</td>\n",
       "      <td>0.0</td>\n",
       "      <td>0.0</td>\n",
       "      <td>0.0</td>\n",
       "      <td>0.0</td>\n",
       "      <td>0.0</td>\n",
       "      <td>0.0</td>\n",
       "      <td>0.0</td>\n",
       "      <td>...</td>\n",
       "      <td>0.000000</td>\n",
       "      <td>0.000000</td>\n",
       "      <td>0.000000</td>\n",
       "      <td>0.000000</td>\n",
       "      <td>0.000000</td>\n",
       "      <td>0.0</td>\n",
       "      <td>0.0</td>\n",
       "      <td>0.0</td>\n",
       "      <td>0.0</td>\n",
       "      <td>7.000000</td>\n",
       "    </tr>\n",
       "    <tr>\n",
       "      <th>max</th>\n",
       "      <td>0.0</td>\n",
       "      <td>0.0</td>\n",
       "      <td>0.0</td>\n",
       "      <td>0.0</td>\n",
       "      <td>0.0</td>\n",
       "      <td>0.0</td>\n",
       "      <td>0.0</td>\n",
       "      <td>0.0</td>\n",
       "      <td>0.0</td>\n",
       "      <td>0.0</td>\n",
       "      <td>...</td>\n",
       "      <td>254.000000</td>\n",
       "      <td>253.000000</td>\n",
       "      <td>253.000000</td>\n",
       "      <td>254.000000</td>\n",
       "      <td>62.000000</td>\n",
       "      <td>0.0</td>\n",
       "      <td>0.0</td>\n",
       "      <td>0.0</td>\n",
       "      <td>0.0</td>\n",
       "      <td>9.000000</td>\n",
       "    </tr>\n",
       "  </tbody>\n",
       "</table>\n",
       "<p>8 rows × 785 columns</p>\n",
       "</div>"
      ],
      "text/plain": [
       "        pixel0   pixel1   pixel2   pixel3   pixel4   pixel5   pixel6   pixel7  \\\n",
       "count  70000.0  70000.0  70000.0  70000.0  70000.0  70000.0  70000.0  70000.0   \n",
       "mean       0.0      0.0      0.0      0.0      0.0      0.0      0.0      0.0   \n",
       "std        0.0      0.0      0.0      0.0      0.0      0.0      0.0      0.0   \n",
       "min        0.0      0.0      0.0      0.0      0.0      0.0      0.0      0.0   \n",
       "25%        0.0      0.0      0.0      0.0      0.0      0.0      0.0      0.0   \n",
       "50%        0.0      0.0      0.0      0.0      0.0      0.0      0.0      0.0   \n",
       "75%        0.0      0.0      0.0      0.0      0.0      0.0      0.0      0.0   \n",
       "max        0.0      0.0      0.0      0.0      0.0      0.0      0.0      0.0   \n",
       "\n",
       "        pixel8   pixel9  ...      pixel775      pixel776      pixel777  \\\n",
       "count  70000.0  70000.0  ...  70000.000000  70000.000000  70000.000000   \n",
       "mean       0.0      0.0  ...      0.099543      0.046629      0.016614   \n",
       "std        0.0      0.0  ...      4.256304      2.783732      1.561822   \n",
       "min        0.0      0.0  ...      0.000000      0.000000      0.000000   \n",
       "25%        0.0      0.0  ...      0.000000      0.000000      0.000000   \n",
       "50%        0.0      0.0  ...      0.000000      0.000000      0.000000   \n",
       "75%        0.0      0.0  ...      0.000000      0.000000      0.000000   \n",
       "max        0.0      0.0  ...    254.000000    253.000000    253.000000   \n",
       "\n",
       "           pixel778      pixel779  pixel780  pixel781  pixel782  pixel783  \\\n",
       "count  70000.000000  70000.000000   70000.0   70000.0   70000.0   70000.0   \n",
       "mean       0.012957      0.001714       0.0       0.0       0.0       0.0   \n",
       "std        1.553796      0.320889       0.0       0.0       0.0       0.0   \n",
       "min        0.000000      0.000000       0.0       0.0       0.0       0.0   \n",
       "25%        0.000000      0.000000       0.0       0.0       0.0       0.0   \n",
       "50%        0.000000      0.000000       0.0       0.0       0.0       0.0   \n",
       "75%        0.000000      0.000000       0.0       0.0       0.0       0.0   \n",
       "max      254.000000     62.000000       0.0       0.0       0.0       0.0   \n",
       "\n",
       "                  y  \n",
       "count  70000.000000  \n",
       "mean       4.452429  \n",
       "std        2.890195  \n",
       "min        0.000000  \n",
       "25%        2.000000  \n",
       "50%        4.000000  \n",
       "75%        7.000000  \n",
       "max        9.000000  \n",
       "\n",
       "[8 rows x 785 columns]"
      ]
     },
     "execution_count": 8,
     "metadata": {},
     "output_type": "execute_result"
    }
   ],
   "source": [
    "df.describe()     # df의 요약통계량 확인"
   ]
  },
  {
   "cell_type": "markdown",
   "metadata": {},
   "source": [
    "* Column별로 분산과 최댓값 차이가 크기 때문에, 왜곡을 방지하기 위해서 스케일링이 필요해보인다.\n",
    "* 이때, `StandardScaler`의 경우 결과에 음수값을 포함하기 때문에 적절하지 않고, `MinMaxScaler`는 각 Column의 최댓값을 1로 변환하기 때문에 왜곡이 생길 우려가 있다. 따라서, 각 pixel이 0에서 255 사이의 값을 갖는다는 점을 고려하여 전체 데이터를 255로 나누는 방법으로 스케일링을 진행하겠다."
   ]
  },
  {
   "cell_type": "code",
   "execution_count": 9,
   "metadata": {},
   "outputs": [],
   "source": [
    "X_scaled = X / 255     # 데이터 스케일링"
   ]
  },
  {
   "cell_type": "code",
   "execution_count": 10,
   "metadata": {},
   "outputs": [
    {
     "data": {
      "text/html": [
       "<div>\n",
       "<style scoped>\n",
       "    .dataframe tbody tr th:only-of-type {\n",
       "        vertical-align: middle;\n",
       "    }\n",
       "\n",
       "    .dataframe tbody tr th {\n",
       "        vertical-align: top;\n",
       "    }\n",
       "\n",
       "    .dataframe thead th {\n",
       "        text-align: right;\n",
       "    }\n",
       "</style>\n",
       "<table border=\"1\" class=\"dataframe\">\n",
       "  <thead>\n",
       "    <tr style=\"text-align: right;\">\n",
       "      <th></th>\n",
       "      <th>0</th>\n",
       "      <th>1</th>\n",
       "      <th>2</th>\n",
       "      <th>3</th>\n",
       "      <th>4</th>\n",
       "      <th>5</th>\n",
       "      <th>6</th>\n",
       "      <th>7</th>\n",
       "      <th>8</th>\n",
       "      <th>9</th>\n",
       "      <th>...</th>\n",
       "      <th>774</th>\n",
       "      <th>775</th>\n",
       "      <th>776</th>\n",
       "      <th>777</th>\n",
       "      <th>778</th>\n",
       "      <th>779</th>\n",
       "      <th>780</th>\n",
       "      <th>781</th>\n",
       "      <th>782</th>\n",
       "      <th>783</th>\n",
       "    </tr>\n",
       "  </thead>\n",
       "  <tbody>\n",
       "    <tr>\n",
       "      <th>count</th>\n",
       "      <td>70000.0</td>\n",
       "      <td>70000.0</td>\n",
       "      <td>70000.0</td>\n",
       "      <td>70000.0</td>\n",
       "      <td>70000.0</td>\n",
       "      <td>70000.0</td>\n",
       "      <td>70000.0</td>\n",
       "      <td>70000.0</td>\n",
       "      <td>70000.0</td>\n",
       "      <td>70000.0</td>\n",
       "      <td>...</td>\n",
       "      <td>70000.000000</td>\n",
       "      <td>70000.000000</td>\n",
       "      <td>70000.000000</td>\n",
       "      <td>70000.000000</td>\n",
       "      <td>70000.000000</td>\n",
       "      <td>70000.000000</td>\n",
       "      <td>70000.0</td>\n",
       "      <td>70000.0</td>\n",
       "      <td>70000.0</td>\n",
       "      <td>70000.0</td>\n",
       "    </tr>\n",
       "    <tr>\n",
       "      <th>mean</th>\n",
       "      <td>0.0</td>\n",
       "      <td>0.0</td>\n",
       "      <td>0.0</td>\n",
       "      <td>0.0</td>\n",
       "      <td>0.0</td>\n",
       "      <td>0.0</td>\n",
       "      <td>0.0</td>\n",
       "      <td>0.0</td>\n",
       "      <td>0.0</td>\n",
       "      <td>0.0</td>\n",
       "      <td>...</td>\n",
       "      <td>0.000774</td>\n",
       "      <td>0.000390</td>\n",
       "      <td>0.000183</td>\n",
       "      <td>0.000065</td>\n",
       "      <td>0.000051</td>\n",
       "      <td>0.000007</td>\n",
       "      <td>0.0</td>\n",
       "      <td>0.0</td>\n",
       "      <td>0.0</td>\n",
       "      <td>0.0</td>\n",
       "    </tr>\n",
       "    <tr>\n",
       "      <th>std</th>\n",
       "      <td>0.0</td>\n",
       "      <td>0.0</td>\n",
       "      <td>0.0</td>\n",
       "      <td>0.0</td>\n",
       "      <td>0.0</td>\n",
       "      <td>0.0</td>\n",
       "      <td>0.0</td>\n",
       "      <td>0.0</td>\n",
       "      <td>0.0</td>\n",
       "      <td>0.0</td>\n",
       "      <td>...</td>\n",
       "      <td>0.023495</td>\n",
       "      <td>0.016691</td>\n",
       "      <td>0.010917</td>\n",
       "      <td>0.006125</td>\n",
       "      <td>0.006093</td>\n",
       "      <td>0.001258</td>\n",
       "      <td>0.0</td>\n",
       "      <td>0.0</td>\n",
       "      <td>0.0</td>\n",
       "      <td>0.0</td>\n",
       "    </tr>\n",
       "    <tr>\n",
       "      <th>min</th>\n",
       "      <td>0.0</td>\n",
       "      <td>0.0</td>\n",
       "      <td>0.0</td>\n",
       "      <td>0.0</td>\n",
       "      <td>0.0</td>\n",
       "      <td>0.0</td>\n",
       "      <td>0.0</td>\n",
       "      <td>0.0</td>\n",
       "      <td>0.0</td>\n",
       "      <td>0.0</td>\n",
       "      <td>...</td>\n",
       "      <td>0.000000</td>\n",
       "      <td>0.000000</td>\n",
       "      <td>0.000000</td>\n",
       "      <td>0.000000</td>\n",
       "      <td>0.000000</td>\n",
       "      <td>0.000000</td>\n",
       "      <td>0.0</td>\n",
       "      <td>0.0</td>\n",
       "      <td>0.0</td>\n",
       "      <td>0.0</td>\n",
       "    </tr>\n",
       "    <tr>\n",
       "      <th>25%</th>\n",
       "      <td>0.0</td>\n",
       "      <td>0.0</td>\n",
       "      <td>0.0</td>\n",
       "      <td>0.0</td>\n",
       "      <td>0.0</td>\n",
       "      <td>0.0</td>\n",
       "      <td>0.0</td>\n",
       "      <td>0.0</td>\n",
       "      <td>0.0</td>\n",
       "      <td>0.0</td>\n",
       "      <td>...</td>\n",
       "      <td>0.000000</td>\n",
       "      <td>0.000000</td>\n",
       "      <td>0.000000</td>\n",
       "      <td>0.000000</td>\n",
       "      <td>0.000000</td>\n",
       "      <td>0.000000</td>\n",
       "      <td>0.0</td>\n",
       "      <td>0.0</td>\n",
       "      <td>0.0</td>\n",
       "      <td>0.0</td>\n",
       "    </tr>\n",
       "    <tr>\n",
       "      <th>50%</th>\n",
       "      <td>0.0</td>\n",
       "      <td>0.0</td>\n",
       "      <td>0.0</td>\n",
       "      <td>0.0</td>\n",
       "      <td>0.0</td>\n",
       "      <td>0.0</td>\n",
       "      <td>0.0</td>\n",
       "      <td>0.0</td>\n",
       "      <td>0.0</td>\n",
       "      <td>0.0</td>\n",
       "      <td>...</td>\n",
       "      <td>0.000000</td>\n",
       "      <td>0.000000</td>\n",
       "      <td>0.000000</td>\n",
       "      <td>0.000000</td>\n",
       "      <td>0.000000</td>\n",
       "      <td>0.000000</td>\n",
       "      <td>0.0</td>\n",
       "      <td>0.0</td>\n",
       "      <td>0.0</td>\n",
       "      <td>0.0</td>\n",
       "    </tr>\n",
       "    <tr>\n",
       "      <th>75%</th>\n",
       "      <td>0.0</td>\n",
       "      <td>0.0</td>\n",
       "      <td>0.0</td>\n",
       "      <td>0.0</td>\n",
       "      <td>0.0</td>\n",
       "      <td>0.0</td>\n",
       "      <td>0.0</td>\n",
       "      <td>0.0</td>\n",
       "      <td>0.0</td>\n",
       "      <td>0.0</td>\n",
       "      <td>...</td>\n",
       "      <td>0.000000</td>\n",
       "      <td>0.000000</td>\n",
       "      <td>0.000000</td>\n",
       "      <td>0.000000</td>\n",
       "      <td>0.000000</td>\n",
       "      <td>0.000000</td>\n",
       "      <td>0.0</td>\n",
       "      <td>0.0</td>\n",
       "      <td>0.0</td>\n",
       "      <td>0.0</td>\n",
       "    </tr>\n",
       "    <tr>\n",
       "      <th>max</th>\n",
       "      <td>0.0</td>\n",
       "      <td>0.0</td>\n",
       "      <td>0.0</td>\n",
       "      <td>0.0</td>\n",
       "      <td>0.0</td>\n",
       "      <td>0.0</td>\n",
       "      <td>0.0</td>\n",
       "      <td>0.0</td>\n",
       "      <td>0.0</td>\n",
       "      <td>0.0</td>\n",
       "      <td>...</td>\n",
       "      <td>0.996078</td>\n",
       "      <td>0.996078</td>\n",
       "      <td>0.992157</td>\n",
       "      <td>0.992157</td>\n",
       "      <td>0.996078</td>\n",
       "      <td>0.243137</td>\n",
       "      <td>0.0</td>\n",
       "      <td>0.0</td>\n",
       "      <td>0.0</td>\n",
       "      <td>0.0</td>\n",
       "    </tr>\n",
       "  </tbody>\n",
       "</table>\n",
       "<p>8 rows × 784 columns</p>\n",
       "</div>"
      ],
      "text/plain": [
       "           0        1        2        3        4        5        6        7    \\\n",
       "count  70000.0  70000.0  70000.0  70000.0  70000.0  70000.0  70000.0  70000.0   \n",
       "mean       0.0      0.0      0.0      0.0      0.0      0.0      0.0      0.0   \n",
       "std        0.0      0.0      0.0      0.0      0.0      0.0      0.0      0.0   \n",
       "min        0.0      0.0      0.0      0.0      0.0      0.0      0.0      0.0   \n",
       "25%        0.0      0.0      0.0      0.0      0.0      0.0      0.0      0.0   \n",
       "50%        0.0      0.0      0.0      0.0      0.0      0.0      0.0      0.0   \n",
       "75%        0.0      0.0      0.0      0.0      0.0      0.0      0.0      0.0   \n",
       "max        0.0      0.0      0.0      0.0      0.0      0.0      0.0      0.0   \n",
       "\n",
       "           8        9    ...           774           775           776  \\\n",
       "count  70000.0  70000.0  ...  70000.000000  70000.000000  70000.000000   \n",
       "mean       0.0      0.0  ...      0.000774      0.000390      0.000183   \n",
       "std        0.0      0.0  ...      0.023495      0.016691      0.010917   \n",
       "min        0.0      0.0  ...      0.000000      0.000000      0.000000   \n",
       "25%        0.0      0.0  ...      0.000000      0.000000      0.000000   \n",
       "50%        0.0      0.0  ...      0.000000      0.000000      0.000000   \n",
       "75%        0.0      0.0  ...      0.000000      0.000000      0.000000   \n",
       "max        0.0      0.0  ...      0.996078      0.996078      0.992157   \n",
       "\n",
       "                777           778           779      780      781      782  \\\n",
       "count  70000.000000  70000.000000  70000.000000  70000.0  70000.0  70000.0   \n",
       "mean       0.000065      0.000051      0.000007      0.0      0.0      0.0   \n",
       "std        0.006125      0.006093      0.001258      0.0      0.0      0.0   \n",
       "min        0.000000      0.000000      0.000000      0.0      0.0      0.0   \n",
       "25%        0.000000      0.000000      0.000000      0.0      0.0      0.0   \n",
       "50%        0.000000      0.000000      0.000000      0.0      0.0      0.0   \n",
       "75%        0.000000      0.000000      0.000000      0.0      0.0      0.0   \n",
       "max        0.992157      0.996078      0.243137      0.0      0.0      0.0   \n",
       "\n",
       "           783  \n",
       "count  70000.0  \n",
       "mean       0.0  \n",
       "std        0.0  \n",
       "min        0.0  \n",
       "25%        0.0  \n",
       "50%        0.0  \n",
       "75%        0.0  \n",
       "max        0.0  \n",
       "\n",
       "[8 rows x 784 columns]"
      ]
     },
     "execution_count": 10,
     "metadata": {},
     "output_type": "execute_result"
    }
   ],
   "source": [
    "pd.DataFrame(X_scaled).describe()     # 스케일링 결과 확인"
   ]
  },
  {
   "cell_type": "markdown",
   "metadata": {},
   "source": [
    "스케일링이 적절하게 수행된 것으로 보인다."
   ]
  },
  {
   "cell_type": "markdown",
   "metadata": {},
   "source": [
    "## Train Data / Test Data 분리 (train_size = 0.8, test_size = 0.2)"
   ]
  },
  {
   "cell_type": "code",
   "execution_count": 11,
   "metadata": {},
   "outputs": [],
   "source": [
    "from sklearn.model_selection import train_test_split\n",
    "\n",
    "X_train, X_test, y_train, y_test = train_test_split(X_scaled, y,\n",
    "                                                    test_size = 0.2,     # train_size 0.8, test_size 0.2\n",
    "                                                    random_state = 22)     # 재현성을 위해 시드값 고정"
   ]
  },
  {
   "cell_type": "code",
   "execution_count": 12,
   "metadata": {},
   "outputs": [
    {
     "name": "stdout",
     "output_type": "stream",
     "text": [
      "(56000, 784)\n",
      "(14000, 784)\n"
     ]
    }
   ],
   "source": [
    "print(X_train.shape)     # train data는 전체 70000개의 데이터 중 80% (70000*0.8 = 56000)\n",
    "print(X_test.shape)     # test data는 전체 70000개의 데이터 중 20% (70000*0.2 = 14000)"
   ]
  },
  {
   "cell_type": "markdown",
   "metadata": {},
   "source": [
    "## 원본 데이터 & PCA 축소 데이터 & LDA 축소 데이터 비교"
   ]
  },
  {
   "cell_type": "markdown",
   "metadata": {},
   "source": [
    "### 주성분 개수 결정 1. PCA - Scree Plot 활용\n",
    "* Scree Plot : a line plot of the eigenvalues of factors or principal components in an analysis\n",
    "    * **used to determine the number of** factors to retain in an exploratory factor analysis (FA) or **principal components to keep in a principal component analysis (PCA)**\n",
    "    * 참고 : https://en.wikipedia.org/wiki/Scree_plot"
   ]
  },
  {
   "cell_type": "code",
   "execution_count": 13,
   "metadata": {},
   "outputs": [],
   "source": [
    "from sklearn.decomposition import PCA"
   ]
  },
  {
   "cell_type": "code",
   "execution_count": 14,
   "metadata": {},
   "outputs": [],
   "source": [
    "pca = PCA()     # n_components 설정 안 한 경우 - 모든 components 사용!\n",
    "X_pca = pca.fit_transform(X_train)"
   ]
  },
  {
   "cell_type": "code",
   "execution_count": 15,
   "metadata": {},
   "outputs": [
    {
     "name": "stdout",
     "output_type": "stream",
     "text": [
      "[9.72613657e-02 7.15435955e-02 6.15383598e-02 5.42543488e-02\n",
      " 4.87802769e-02 4.29483082e-02 3.26930196e-02 2.89292917e-02\n",
      " 2.75510269e-02 2.33702649e-02 2.10829743e-02 2.04229983e-02\n",
      " 1.71474168e-02 1.68961454e-02 1.58307922e-02 1.48158717e-02\n",
      " 1.31761295e-02 1.28691547e-02 1.18637264e-02 1.15334095e-02\n",
      " 1.06196326e-02 1.01057062e-02 9.61408276e-03 9.13797135e-03\n",
      " 8.83835626e-03 8.38028333e-03 8.13774840e-03 7.86936516e-03\n",
      " 7.44809689e-03 6.88064220e-03 6.57216443e-03 6.47790849e-03\n",
      " 6.00745814e-03 5.86026975e-03 5.67338018e-03 5.43108154e-03\n",
      " 5.05844128e-03 4.89156451e-03 4.78492544e-03 4.66592361e-03\n",
      " 4.54738302e-03 4.46010889e-03 4.19192156e-03 3.96825408e-03\n",
      " 3.84658547e-03 3.76011002e-03 3.61377371e-03 3.50763890e-03\n",
      " 3.38780886e-03 3.19578051e-03 3.16522488e-03 3.12035312e-03\n",
      " 2.96456596e-03 2.87206038e-03 2.81792455e-03 2.70151046e-03\n",
      " 2.67417129e-03 2.56229465e-03 2.53158229e-03 2.44943499e-03\n",
      " 2.39582152e-03 2.38949199e-03 2.29276416e-03 2.21436058e-03\n",
      " 2.13043116e-03 2.06405156e-03 2.02733146e-03 1.95515478e-03\n",
      " 1.90787313e-03 1.88471736e-03 1.86956564e-03 1.80197858e-03\n",
      " 1.77219149e-03 1.73788235e-03 1.64844047e-03 1.62950999e-03\n",
      " 1.61270374e-03 1.53998580e-03 1.46414768e-03 1.42342677e-03\n",
      " 1.41317666e-03 1.40845851e-03 1.39710582e-03 1.36033563e-03\n",
      " 1.32240697e-03 1.31565667e-03 1.29308926e-03 1.25256141e-03\n",
      " 1.22046679e-03 1.20129667e-03 1.15672294e-03 1.14319662e-03\n",
      " 1.12668586e-03 1.09985531e-03 1.08282163e-03 1.06969073e-03\n",
      " 1.03917255e-03 1.03566701e-03 1.00414757e-03 9.96563048e-04\n",
      " 9.79971608e-04 9.41900753e-04 9.37241498e-04 9.13178287e-04\n",
      " 9.03397149e-04 8.87245357e-04 8.62184403e-04 8.54280126e-04\n",
      " 8.41703953e-04 8.15879400e-04 7.84041114e-04 7.78009493e-04\n",
      " 7.69930317e-04 7.65984999e-04 7.62644343e-04 7.45555352e-04\n",
      " 7.29321764e-04 7.28189772e-04 7.13332432e-04 7.04875394e-04\n",
      " 6.91288437e-04 6.87800432e-04 6.78063067e-04 6.71394462e-04\n",
      " 6.60959637e-04 6.42765774e-04 6.31015903e-04 6.26204031e-04\n",
      " 6.21794191e-04 6.04579956e-04 6.02672152e-04 5.96315432e-04\n",
      " 5.86224067e-04 5.85186976e-04 5.75350881e-04 5.73870672e-04\n",
      " 5.61607650e-04 5.53756136e-04 5.35959156e-04 5.26109089e-04\n",
      " 5.20781209e-04 5.10426031e-04 4.99751871e-04 4.98390943e-04\n",
      " 4.95422855e-04 4.93406739e-04 4.83537720e-04 4.80518854e-04\n",
      " 4.72308606e-04 4.68590648e-04 4.64100141e-04 4.58654483e-04\n",
      " 4.57819908e-04 4.48017288e-04 4.46447908e-04 4.40836992e-04\n",
      " 4.39191974e-04 4.27498753e-04 4.21225178e-04 4.16812365e-04\n",
      " 4.12570673e-04 4.09075674e-04 3.97905950e-04 3.93521602e-04\n",
      " 3.92387235e-04 3.89950211e-04 3.83181900e-04 3.80454564e-04\n",
      " 3.76732574e-04 3.71125962e-04 3.68012759e-04 3.63757441e-04\n",
      " 3.63579377e-04 3.56771845e-04 3.53314340e-04 3.51097082e-04\n",
      " 3.47764006e-04 3.44048297e-04 3.42023023e-04 3.36942909e-04\n",
      " 3.34072265e-04 3.30454109e-04 3.29405287e-04 3.24651118e-04\n",
      " 3.22737163e-04 3.21554986e-04 3.16690814e-04 3.15106441e-04\n",
      " 3.09723024e-04 3.08038347e-04 3.05027995e-04 3.02369670e-04\n",
      " 3.00811119e-04 2.99059286e-04 2.95616713e-04 2.95159321e-04\n",
      " 2.92633905e-04 2.91938193e-04 2.86437973e-04 2.82553936e-04\n",
      " 2.81282647e-04 2.78085848e-04 2.75808195e-04 2.71095779e-04\n",
      " 2.69100451e-04 2.65714381e-04 2.63308262e-04 2.63138437e-04\n",
      " 2.60953125e-04 2.58231232e-04 2.57306486e-04 2.55740685e-04\n",
      " 2.53994275e-04 2.52714819e-04 2.51065520e-04 2.48458792e-04\n",
      " 2.47234989e-04 2.43881149e-04 2.42702530e-04 2.41212888e-04\n",
      " 2.39887314e-04 2.38012962e-04 2.36547727e-04 2.35190666e-04\n",
      " 2.31504523e-04 2.30424290e-04 2.29350134e-04 2.27055361e-04\n",
      " 2.26633138e-04 2.24251012e-04 2.21845153e-04 2.20310287e-04\n",
      " 2.16660503e-04 2.16124137e-04 2.14408141e-04 2.13641325e-04\n",
      " 2.11598665e-04 2.09617531e-04 2.09317533e-04 2.06981134e-04\n",
      " 2.04422730e-04 2.02773485e-04 2.01685019e-04 2.01173683e-04\n",
      " 1.98328586e-04 1.96626648e-04 1.95059972e-04 1.92713821e-04\n",
      " 1.91687224e-04 1.90827349e-04 1.90026524e-04 1.88454524e-04\n",
      " 1.87194453e-04 1.85752407e-04 1.85373762e-04 1.84938813e-04\n",
      " 1.83724562e-04 1.81999622e-04 1.81619971e-04 1.79610838e-04\n",
      " 1.77498042e-04 1.76606615e-04 1.75265693e-04 1.72999334e-04\n",
      " 1.72821040e-04 1.71864276e-04 1.71025212e-04 1.69495990e-04\n",
      " 1.68489721e-04 1.67263677e-04 1.66108168e-04 1.65500338e-04\n",
      " 1.63728874e-04 1.63643820e-04 1.62893363e-04 1.61548803e-04\n",
      " 1.59865630e-04 1.59536313e-04 1.58653791e-04 1.56830096e-04\n",
      " 1.56448118e-04 1.53947656e-04 1.53897440e-04 1.52678273e-04\n",
      " 1.51410793e-04 1.50116008e-04 1.49188838e-04 1.48241586e-04\n",
      " 1.46949228e-04 1.46217021e-04 1.43901171e-04 1.43532809e-04\n",
      " 1.42310494e-04 1.41724996e-04 1.40986817e-04 1.40220104e-04\n",
      " 1.37440332e-04 1.37250697e-04 1.36095758e-04 1.35913689e-04\n",
      " 1.34863334e-04 1.33760386e-04 1.33009423e-04 1.32398731e-04\n",
      " 1.30638456e-04 1.29259376e-04 1.28410283e-04 1.27590423e-04\n",
      " 1.27091784e-04 1.26272920e-04 1.25891269e-04 1.25733177e-04\n",
      " 1.24509810e-04 1.22978357e-04 1.22075418e-04 1.21363437e-04\n",
      " 1.20974463e-04 1.19500145e-04 1.19294375e-04 1.18741852e-04\n",
      " 1.17218232e-04 1.16931703e-04 1.15742898e-04 1.15496004e-04\n",
      " 1.14895250e-04 1.13498849e-04 1.11949930e-04 1.11200002e-04\n",
      " 1.10570440e-04 1.10183476e-04 1.09818347e-04 1.08717749e-04\n",
      " 1.07998974e-04 1.07472162e-04 1.06670656e-04 1.05876796e-04\n",
      " 1.05330963e-04 1.04419226e-04 1.03485069e-04 1.02505282e-04\n",
      " 1.01161163e-04 1.00380839e-04 9.93854152e-05 9.90700208e-05\n",
      " 9.87127648e-05 9.81537383e-05 9.73193254e-05 9.66696630e-05\n",
      " 9.46916830e-05 9.38224671e-05 9.35806748e-05 9.30646155e-05\n",
      " 9.24523934e-05 9.17060907e-05 9.09686934e-05 9.02265821e-05\n",
      " 8.97900243e-05 8.91344713e-05 8.87303370e-05 8.80535769e-05\n",
      " 8.68855141e-05 8.64786668e-05 8.57533203e-05 8.49933274e-05\n",
      " 8.43222867e-05 8.38264979e-05 8.26420804e-05 8.21109251e-05\n",
      " 8.19212663e-05 8.06333769e-05 8.04513674e-05 7.93988824e-05\n",
      " 7.92509509e-05 7.87408445e-05 7.77798990e-05 7.64218923e-05\n",
      " 7.62021637e-05 7.61051022e-05 7.39453378e-05 7.35555069e-05\n",
      " 7.32603699e-05 7.29465161e-05 7.20162535e-05 7.19255423e-05\n",
      " 7.11418488e-05 7.02487662e-05 6.92509445e-05 6.90675932e-05\n",
      " 6.78948646e-05 6.71786005e-05 6.63847489e-05 6.59094584e-05\n",
      " 6.46958987e-05 6.36266287e-05 6.29168909e-05 6.26895220e-05\n",
      " 6.16632975e-05 6.07102500e-05 6.03198765e-05 5.97244663e-05\n",
      " 5.91298577e-05 5.86266153e-05 5.80441658e-05 5.71981816e-05\n",
      " 5.61105357e-05 5.59406514e-05 5.51266366e-05 5.46777131e-05\n",
      " 5.44212287e-05 5.39462575e-05 5.25736577e-05 5.23284086e-05\n",
      " 5.20984302e-05 5.17067085e-05 5.11804417e-05 5.05887907e-05\n",
      " 4.95998543e-05 4.88790841e-05 4.86126670e-05 4.81211314e-05\n",
      " 4.79475787e-05 4.68673448e-05 4.62765244e-05 4.59157407e-05\n",
      " 4.53021985e-05 4.45933412e-05 4.32286751e-05 4.24468845e-05\n",
      " 4.21785236e-05 4.21145011e-05 4.16292119e-05 4.14060033e-05\n",
      " 4.07524010e-05 4.05435291e-05 4.01803187e-05 3.88197089e-05\n",
      " 3.84637152e-05 3.79726121e-05 3.76099113e-05 3.71415912e-05\n",
      " 3.68006891e-05 3.65909379e-05 3.52594297e-05 3.50547571e-05\n",
      " 3.49064207e-05 3.45984693e-05 3.44111609e-05 3.41514723e-05\n",
      " 3.29595545e-05 3.25810635e-05 3.20031184e-05 3.15780986e-05\n",
      " 3.12045346e-05 3.06002008e-05 3.01247963e-05 2.95629356e-05\n",
      " 2.91186771e-05 2.89527728e-05 2.88020954e-05 2.84168005e-05\n",
      " 2.76495324e-05 2.75702365e-05 2.71105959e-05 2.68820481e-05\n",
      " 2.55682348e-05 2.50989141e-05 2.49777851e-05 2.47445884e-05\n",
      " 2.44463612e-05 2.44135109e-05 2.41547794e-05 2.40530663e-05\n",
      " 2.35406587e-05 2.33885004e-05 2.33113592e-05 2.22915301e-05\n",
      " 2.20030860e-05 2.19501445e-05 2.15757727e-05 2.13577055e-05\n",
      " 2.09358954e-05 2.07645868e-05 2.04226752e-05 1.99206909e-05\n",
      " 1.97580130e-05 1.96311934e-05 1.92628937e-05 1.91423738e-05\n",
      " 1.87821577e-05 1.84139863e-05 1.81281957e-05 1.78694500e-05\n",
      " 1.72578207e-05 1.69203720e-05 1.63809602e-05 1.60689095e-05\n",
      " 1.57823144e-05 1.57305508e-05 1.57129745e-05 1.54065286e-05\n",
      " 1.53089453e-05 1.48592308e-05 1.47361530e-05 1.43715784e-05\n",
      " 1.40883703e-05 1.38514219e-05 1.36047529e-05 1.34936350e-05\n",
      " 1.34014219e-05 1.31706815e-05 1.27470992e-05 1.26762676e-05\n",
      " 1.23727190e-05 1.22737091e-05 1.21266001e-05 1.18956831e-05\n",
      " 1.16997737e-05 1.15083647e-05 1.13354877e-05 1.13242750e-05\n",
      " 1.11169580e-05 1.09245299e-05 1.08087851e-05 1.05632267e-05\n",
      " 1.05220545e-05 1.02147333e-05 1.00610912e-05 9.52114381e-06\n",
      " 9.36645516e-06 9.32484150e-06 9.13855628e-06 8.91400206e-06\n",
      " 8.74898847e-06 8.65230804e-06 8.25949806e-06 7.90014319e-06\n",
      " 7.86778120e-06 7.83153670e-06 7.77214935e-06 7.67061478e-06\n",
      " 7.62506301e-06 7.40514498e-06 7.31665142e-06 7.22893808e-06\n",
      " 7.14845262e-06 7.08353831e-06 6.98850387e-06 6.70828138e-06\n",
      " 6.53774217e-06 6.32464261e-06 6.06157632e-06 5.93658524e-06\n",
      " 5.76388410e-06 5.63987362e-06 5.47069149e-06 5.37334882e-06\n",
      " 5.18561513e-06 5.13674573e-06 4.97542818e-06 4.86729218e-06\n",
      " 4.82037281e-06 4.79425410e-06 4.57998419e-06 4.54586174e-06\n",
      " 4.53510486e-06 4.51170605e-06 4.37674697e-06 4.24942332e-06\n",
      " 3.97849807e-06 3.94702843e-06 3.92532342e-06 3.90851723e-06\n",
      " 3.84666342e-06 3.40368567e-06 3.35045917e-06 3.30400788e-06\n",
      " 3.20572020e-06 3.20316805e-06 3.10376616e-06 3.06499095e-06\n",
      " 3.05674237e-06 2.95251321e-06 2.90640515e-06 2.88251682e-06\n",
      " 2.79320817e-06 2.63161019e-06 2.43061678e-06 2.36082305e-06\n",
      " 2.25696264e-06 2.24862757e-06 2.21441095e-06 2.20008562e-06\n",
      " 2.12523472e-06 2.12007525e-06 2.09805733e-06 2.06020926e-06\n",
      " 2.03371270e-06 1.90464738e-06 1.86122751e-06 1.83491364e-06\n",
      " 1.75045567e-06 1.70216611e-06 1.66567891e-06 1.58651888e-06\n",
      " 1.56808397e-06 1.51788166e-06 1.49777671e-06 1.37572386e-06\n",
      " 1.33221357e-06 1.26454280e-06 1.24041131e-06 1.21551741e-06\n",
      " 1.17170540e-06 1.15789069e-06 1.14108946e-06 1.13922019e-06\n",
      " 1.12257626e-06 1.06518233e-06 1.05614286e-06 9.55198191e-07\n",
      " 9.37139900e-07 8.89810425e-07 8.50027057e-07 7.98420349e-07\n",
      " 7.95947911e-07 7.89984821e-07 7.36993771e-07 7.19886666e-07\n",
      " 7.05568759e-07 6.75366997e-07 6.75051469e-07 6.50725051e-07\n",
      " 6.48486771e-07 6.46850878e-07 6.19662631e-07 5.91909298e-07\n",
      " 5.39090511e-07 5.19280067e-07 5.13266920e-07 4.99054585e-07\n",
      " 4.93026912e-07 4.21472914e-07 4.16752028e-07 4.07585602e-07\n",
      " 4.07171922e-07 3.97903241e-07 3.82270359e-07 3.20623936e-07\n",
      " 3.13231630e-07 2.92663486e-07 2.91089614e-07 2.88940433e-07\n",
      " 2.75656880e-07 2.69200620e-07 2.65533666e-07 2.57007744e-07\n",
      " 2.44903178e-07 2.26038212e-07 2.18672656e-07 2.07918299e-07\n",
      " 1.90180621e-07 1.86681872e-07 1.77406685e-07 1.65890950e-07\n",
      " 1.59471108e-07 1.48884154e-07 1.45425540e-07 1.44625804e-07\n",
      " 1.42447699e-07 1.38035155e-07 1.17826717e-07 1.15384307e-07\n",
      " 1.06108948e-07 9.77599765e-08 9.45490131e-08 9.35030236e-08\n",
      " 9.15156441e-08 7.32738903e-08 6.74934451e-08 6.56024774e-08\n",
      " 5.91993830e-08 4.88735723e-08 4.32287149e-08 3.95077506e-08\n",
      " 3.30079312e-08 3.07666972e-08 1.86526670e-08 1.61590516e-08\n",
      " 1.35257638e-08 1.28796582e-08 1.25242205e-08 1.23534114e-08\n",
      " 9.39432712e-09 9.13502492e-09 7.39544635e-09 6.36299295e-09\n",
      " 5.31566356e-09 5.06162060e-09 4.27805870e-09 4.06800494e-09\n",
      " 2.09759652e-09 1.35699862e-09 1.00330398e-09 7.66706947e-10\n",
      " 4.77348126e-10 2.70811476e-10 2.56260954e-10 1.16713141e-10\n",
      " 1.91946567e-32 5.11911603e-33 3.95020952e-33 3.19414813e-33\n",
      " 2.97071505e-33 1.93461508e-33 1.71744136e-33 1.28664998e-33\n",
      " 1.06095381e-33 1.04581873e-33 9.79462273e-34 9.71254110e-34\n",
      " 7.56839552e-34 4.06539899e-34 3.12546526e-34 3.12546526e-34\n",
      " 3.12546526e-34 3.12546526e-34 3.12546526e-34 3.12546526e-34\n",
      " 3.12546526e-34 3.12546526e-34 3.12546526e-34 3.12546526e-34\n",
      " 3.12546526e-34 3.12546526e-34 3.12546526e-34 3.12546526e-34\n",
      " 3.12546526e-34 3.12546526e-34 3.12546526e-34 3.12546526e-34\n",
      " 3.12546526e-34 3.12546526e-34 3.12546526e-34 3.12546526e-34\n",
      " 3.12546526e-34 3.12546526e-34 3.12546526e-34 3.12546526e-34\n",
      " 3.12546526e-34 3.12546526e-34 3.12546526e-34 3.12546526e-34\n",
      " 3.12546526e-34 3.12546526e-34 3.12546526e-34 3.12546526e-34\n",
      " 3.12546526e-34 3.12546526e-34 3.12546526e-34 3.12546526e-34\n",
      " 3.12546526e-34 3.12546526e-34 3.12546526e-34 3.12546526e-34\n",
      " 3.12546526e-34 3.12546526e-34 3.12546526e-34 3.12546526e-34\n",
      " 3.12546526e-34 3.12546526e-34 3.12546526e-34 3.12546526e-34\n",
      " 3.12546526e-34 3.12546526e-34 3.12546526e-34 3.12546526e-34\n",
      " 3.12546526e-34 3.08363048e-34 2.81754965e-34 1.22809298e-34\n",
      " 1.07459055e-34 1.00576492e-34 7.65939583e-35 5.30962041e-36]\n",
      "\n",
      "784\n"
     ]
    }
   ],
   "source": [
    "# explained_variance_ratio_ : Percentage of variance explained by each of the selected components.\n",
    "# 각 성분이 총 분산의 몇 퍼센트를 설명하는가?\n",
    "# 공식 문서 : If n_components is not set then all components are stored and the sum of the ratios is equal to 1.0.\n",
    "\n",
    "exp_var_ratio = pca.explained_variance_ratio_\n",
    "print(exp_var_ratio)     # 각 성분별 설명 비중 확인\n",
    "print()\n",
    "print(len(exp_var_ratio))"
   ]
  },
  {
   "cell_type": "code",
   "execution_count": 16,
   "metadata": {},
   "outputs": [
    {
     "data": {
      "image/png": "[encoded data removed]",
      "text/plain": [
       "<Figure size 432x288 with 1 Axes>"
      ]
     },
     "metadata": {
      "needs_background": "light"
     },
     "output_type": "display_data"
    }
   ],
   "source": [
    "# Scree plot 그려보기\n",
    "\n",
    "plt.plot(range(len(exp_var_ratio)), exp_var_ratio, marker = 'o')\n",
    "plt.title(\"Scree plot\")\n",
    "plt.xlabel(\"Factor Number\")\n",
    "plt.ylabel(\"Eigenvalue\")\n",
    "\n",
    "from kneed import KneeLocator\n",
    "kn = KneeLocator(range(len(exp_var_ratio)), exp_var_ratio, curve = 'convex', direction = 'decreasing')     # Elbow Point 찾기\n",
    "plt.vlines(kn.knee, plt.ylim()[0], plt.ylim()[1], linestyles = 'dashed', colors = 'r')     # Elbow Point를 수직선으로 표시\n",
    "\n",
    "plt.show()"
   ]
  },
  {
   "cell_type": "code",
   "execution_count": 17,
   "metadata": {},
   "outputs": [
    {
     "name": "stdout",
     "output_type": "stream",
     "text": [
      "Elbow Point : 49\n"
     ]
    }
   ],
   "source": [
    "print(\"Elbow Point :\", kn.knee)     # Elbow Point 확인"
   ]
  },
  {
   "cell_type": "markdown",
   "metadata": {},
   "source": [
    "* Scree plot을 그려보니, Elbow Point는 Factor Number가 49일 때로 나타났다."
   ]
  },
  {
   "cell_type": "markdown",
   "metadata": {},
   "source": [
    "### 주성분 개수 결정 2. PCA - Rule of Thumb\n",
    "* Rule of Thumb : 경험 법칙. 이 경우, 총 분산을 설명하는 비중이 70% ~ 90% 사이가 되는 주성분 개수를 선택한다."
   ]
  },
  {
   "cell_type": "code",
   "execution_count": 18,
   "metadata": {},
   "outputs": [
    {
     "name": "stdout",
     "output_type": "stream",
     "text": [
      "26\n",
      "43\n",
      "87\n"
     ]
    }
   ],
   "source": [
    "# 총 분산을 설명하는 비중이 각각 70%, 80%, 90% 이기 위한 주성분 개수를 확인해보자.\n",
    "# 공식 문서에 따르면, 0 < n_components < 1 이면서 svd_solver = 'full' 인 경우 누적 설명 비중을 구할 수 있다.\n",
    "# 공식 문서 표현 : the number of components such that the amount of variance that needs to be explained\n",
    "#                  is greater than the percentage specified by n_components\n",
    "\n",
    "for value in [0.7, 0.8, 0.9]:\n",
    "    pca = PCA(n_components = value, svd_solver = 'full')\n",
    "    X_pca = pca.fit_transform(X_train)\n",
    "    exp_var_ratio = pca.explained_variance_\n",
    "    print(len(exp_var_ratio))   # len(exp_var_ratio) : pca.explained_variance_의 길이, 즉 변화하는 n_components에 대응하는 주성분 개수"
   ]
  },
  {
   "cell_type": "markdown",
   "metadata": {},
   "source": [
    "출력 결과를 보면 주성분의 개수가 26개일 때 총 분산의 70%를, 43개일 때 총 분산의 80%를, 그리고 87개일 때 총 분산의 90%를 설명할 수 있다."
   ]
  },
  {
   "cell_type": "markdown",
   "metadata": {},
   "source": [
    "### 주성분 개수 결정 3. LDA"
   ]
  },
  {
   "cell_type": "code",
   "execution_count": 19,
   "metadata": {},
   "outputs": [],
   "source": [
    "from sklearn.discriminant_analysis import LinearDiscriminantAnalysis"
   ]
  },
  {
   "cell_type": "code",
   "execution_count": 20,
   "metadata": {},
   "outputs": [],
   "source": [
    "# LDA는 지도 학습 Classification이므로 fit할 때 target(y_train)을 함께 학습시켜야 한다.\n",
    "# 학습 시 y_train은 1D array 형태로 입력! - numpy의 ravel 메서드 활용\n",
    "\n",
    "lda = LinearDiscriminantAnalysis()\n",
    "X_lda = lda.fit_transform(X_train, np.ravel(y_train))"
   ]
  },
  {
   "cell_type": "code",
   "execution_count": 21,
   "metadata": {},
   "outputs": [
    {
     "data": {
      "text/plain": [
       "array([0.2363677 , 0.20366822, 0.1777849 , 0.10633735, 0.09493955,\n",
       "       0.06921094, 0.05012553, 0.03445123, 0.02711456])"
      ]
     },
     "execution_count": 21,
     "metadata": {},
     "output_type": "execute_result"
    }
   ],
   "source": [
    "exp_var_ratio = lda.explained_variance_ratio_     # 각 성분별 설명 비중 확인하기\n",
    "exp_var_ratio"
   ]
  },
  {
   "cell_type": "code",
   "execution_count": 22,
   "metadata": {},
   "outputs": [
    {
     "data": {
      "image/png": "[encoded data removed]",
      "text/plain": [
       "<Figure size 432x288 with 1 Axes>"
      ]
     },
     "metadata": {
      "needs_background": "light"
     },
     "output_type": "display_data"
    },
    {
     "name": "stdout",
     "output_type": "stream",
     "text": [
      "[0.2363677  0.44003592 0.61782083 0.72415818 0.81909774 0.88830868\n",
      " 0.93843421 0.97288544 1.        ]\n"
     ]
    }
   ],
   "source": [
    "# 누적 설명 비중(Cumulated Sum of Explained Variance Ratio) 그래프 그려보기\n",
    "\n",
    "exp_var_ratio_cumsum = np.cumsum(exp_var_ratio)     # 누적 설명 비중\n",
    "\n",
    "# 주성분 개수에 대응하는 누적 설명 비중을 확인하는 것이 목적이므로, X축에는 index에 1을 더한 값을 배치('개수'를 뜻함)\n",
    "plt.plot(list(range(1, 1+len(exp_var_ratio_cumsum))), exp_var_ratio_cumsum)\n",
    "plt.xlabel(\"Number of Components\")\n",
    "plt.ylabel(\"Cumulated Sum of Explained Variance Ratio\")\n",
    "plt.show()\n",
    "\n",
    "print(exp_var_ratio_cumsum)"
   ]
  },
  {
   "cell_type": "markdown",
   "metadata": {},
   "source": [
    "주성분 개수가 4개일 때 총 분산의 70% 이상을, 5개 이상부터는 총 분산의 80% 이상을 설명함을 알 수 있다."
   ]
  },
  {
   "cell_type": "markdown",
   "metadata": {},
   "source": [
    "### 주성분 개수 최종 결정"
   ]
  },
  {
   "cell_type": "markdown",
   "metadata": {},
   "source": [
    "* **PCA : 50개**\n",
    "    * 이유 : 1. Scree Plot에서 Elbow Point가 Factor Number가 49일 때임을 확인했고, 2. 총 분산 설명력이 큰 순서대로 주성분 개수를 43개 이상, 87개 이하로 설정할 때 총 분산의 80% 이상, 90% 이하를 설명할 수 있음을 확인했다. 따라서, Elbow Point에 대응하는 주성분 개수인 50개를 그대로 선택하면 적절하겠다고 판단하였다.\n",
    "* **LDA : 5개**\n",
    "    * 누적 설명 비중 그래프를 그려보았을 때, 총 분산 설명력이 큰 순서대로 주성분 개수를 5개 이상 선택하면 총 분산의 80% 이상을 설명할 수 있음을 확인하였다. 따라서, 설명 비중이 70%에서 80%로 넘어가는 순간인 5개로 주성분 개수를 결정하였다."
   ]
  },
  {
   "cell_type": "markdown",
   "metadata": {},
   "source": [
    "## Training\n",
    "* Time Stamp 찍어서 Training 시간 비교하기 & Test Accuracy 비교하기"
   ]
  },
  {
   "cell_type": "markdown",
   "metadata": {},
   "source": [
    "**RandomForestClassifier, LGBMClassifier, SVC** 알고리즘으로 학습을 진행한 후 결과를 비교해보고자 한다."
   ]
  },
  {
   "cell_type": "code",
   "execution_count": 26,
   "metadata": {},
   "outputs": [],
   "source": [
    "from sklearn.ensemble import RandomForestClassifier\n",
    "from lightgbm import LGBMClassifier\n",
    "from sklearn.svm import SVC\n",
    "\n",
    "import time     # time() 메서드로 time stamp 찍기\n",
    "from sklearn.metrics import accuracy_score     # Test Accuracy 확인\n",
    "\n",
    "from tqdm import tqdm     # 진행 상황 확인 (원본 데이터, PCA 축소 데이터는 시간이 오래 걸릴 수 있으므로 tqdm을 활용하고자 함)"
   ]
  },
  {
   "cell_type": "code",
   "execution_count": 29,
   "metadata": {},
   "outputs": [],
   "source": [
    "rf_clf = RandomForestClassifier(random_state = 22)     # RandomForestClassifier 객체 생성\n",
    "lgbm_clf = LGBMClassifier(random_state = 22)     # LGBMClassifier 객체 생성\n",
    "svc_clf = SVC(random_state = 22)     # SVC 객체 생성\n",
    "\n",
    "clfs = [rf_clf, lgbm_clf, svc_clf]     # 각 객체를 리스트에 저장"
   ]
  },
  {
   "cell_type": "markdown",
   "metadata": {},
   "source": [
    "### 원본 데이터"
   ]
  },
  {
   "cell_type": "code",
   "execution_count": 30,
   "metadata": {},
   "outputs": [
    {
     "name": "stderr",
     "output_type": "stream",
     "text": [
      "  0%|                                                                                            | 0/3 [00:00<?, ?it/s]"
     ]
    },
    {
     "name": "stdout",
     "output_type": "stream",
     "text": [
      "Classifier : RandomForestClassifier\n",
      "Training 시간 : 116.10233426094055\n"
     ]
    },
    {
     "name": "stderr",
     "output_type": "stream",
     "text": [
      " 33%|███████████████████████████▋                                                       | 1/3 [01:57<03:55, 117.67s/it]"
     ]
    },
    {
     "name": "stdout",
     "output_type": "stream",
     "text": [
      "Test Accuracy : 0.9685714285714285\n",
      "\n",
      "Classifier : LGBMClassifier\n",
      "Training 시간 : 259.1202244758606\n"
     ]
    },
    {
     "name": "stderr",
     "output_type": "stream",
     "text": [
      " 67%|███████████████████████████████████████████████████████▎                           | 2/3 [06:18<02:40, 160.73s/it]"
     ]
    },
    {
     "name": "stdout",
     "output_type": "stream",
     "text": [
      "Test Accuracy : 0.9777142857142858\n",
      "\n",
      "Classifier : SVC\n",
      "Training 시간 : 924.2695066928864\n"
     ]
    },
    {
     "name": "stderr",
     "output_type": "stream",
     "text": [
      "100%|███████████████████████████████████████████████████████████████████████████████████| 3/3 [28:55<00:00, 578.41s/it]"
     ]
    },
    {
     "name": "stdout",
     "output_type": "stream",
     "text": [
      "Test Accuracy : 0.9796428571428571\n",
      "\n"
     ]
    },
    {
     "name": "stderr",
     "output_type": "stream",
     "text": [
      "\n"
     ]
    }
   ],
   "source": [
    "for clf in tqdm(clfs):\n",
    "    start = time.time()     # 시작 시간\n",
    "    clf.fit(X_train, np.ravel(y_train))     # 원본 데이터 Training\n",
    "    end = time.time()     # 완료 시간\n",
    "    elapse_time = end - start     # 경과 시간\n",
    "    \n",
    "    print(\"Classifier :\", clf.__class__.__name__)\n",
    "    print(\"Training 시간 :\", elapse_time)\n",
    "    print(\"Test Accuracy :\", accuracy_score(y_test, clf.predict(X_test)))\n",
    "    print()"
   ]
  },
  {
   "cell_type": "markdown",
   "metadata": {},
   "source": [
    "**원본 데이터 Training 결과**\n",
    "* Training 시간 (빠른 순서대로) : RandomForestClassifier - LGBMClassifier - SVC\n",
    "* Test Accuracy (높은 순서대로) : SVC - LGBMClassifier - RandomForestClassifier"
   ]
  },
  {
   "cell_type": "markdown",
   "metadata": {},
   "source": [
    "### PCA 축소 데이터 (주성분 개수 : 50개)"
   ]
  },
  {
   "cell_type": "code",
   "execution_count": 31,
   "metadata": {},
   "outputs": [],
   "source": [
    "pca = PCA(n_components = 50)\n",
    "X_train_pca = pca.fit_transform(X_train)\n",
    "X_test_pca = pca.transform(X_test)     # Test Data는 transform만!"
   ]
  },
  {
   "cell_type": "code",
   "execution_count": 32,
   "metadata": {},
   "outputs": [
    {
     "name": "stderr",
     "output_type": "stream",
     "text": [
      "  0%|                                                                                            | 0/3 [00:00<?, ?it/s]"
     ]
    },
    {
     "name": "stdout",
     "output_type": "stream",
     "text": [
      "Classifier : RandomForestClassifier\n",
      "Training 시간 : 171.53003692626953\n"
     ]
    },
    {
     "name": "stderr",
     "output_type": "stream",
     "text": [
      " 33%|███████████████████████████▋                                                       | 1/3 [02:52<05:45, 172.70s/it]"
     ]
    },
    {
     "name": "stdout",
     "output_type": "stream",
     "text": [
      "Test Accuracy : 0.9561428571428572\n",
      "\n",
      "Classifier : LGBMClassifier\n",
      "Training 시간 : 51.10163688659668\n"
     ]
    },
    {
     "name": "stderr",
     "output_type": "stream",
     "text": [
      " 67%|███████████████████████████████████████████████████████▎                           | 2/3 [03:46<02:16, 136.92s/it]"
     ]
    },
    {
     "name": "stdout",
     "output_type": "stream",
     "text": [
      "Test Accuracy : 0.9657857142857142\n",
      "\n",
      "Classifier : SVC\n",
      "Training 시간 : 107.32633829116821\n"
     ]
    },
    {
     "name": "stderr",
     "output_type": "stream",
     "text": [
      "100%|███████████████████████████████████████████████████████████████████████████████████| 3/3 [06:04<00:00, 121.40s/it]"
     ]
    },
    {
     "name": "stdout",
     "output_type": "stream",
     "text": [
      "Test Accuracy : 0.9835714285714285\n",
      "\n"
     ]
    },
    {
     "name": "stderr",
     "output_type": "stream",
     "text": [
      "\n"
     ]
    }
   ],
   "source": [
    "for clf in tqdm(clfs):\n",
    "    start = time.time()     # 시작 시간\n",
    "    clf.fit(X_train_pca, np.ravel(y_train))     # PCA 축소 데이터 Training\n",
    "    end = time.time()     # 완료 시간\n",
    "    elapse_time = end - start     # 경과 시간\n",
    "    \n",
    "    print(\"Classifier :\", clf.__class__.__name__)\n",
    "    print(\"Training 시간 :\", elapse_time)\n",
    "    print(\"Test Accuracy :\", accuracy_score(y_test, clf.predict(X_test_pca)))\n",
    "    print()"
   ]
  },
  {
   "cell_type": "markdown",
   "metadata": {},
   "source": [
    "**PCA 축소 데이터 Training 결과**\n",
    "* Training 시간 (빠른 순서대로) : LGBMClassifier - RandomForestClassifier - SVC\n",
    "* Test Accuracy (높은 순서대로) : SVC - LGBMClassifier - RandomForestClassifier"
   ]
  },
  {
   "cell_type": "markdown",
   "metadata": {},
   "source": [
    "### LDA 축소 데이터 (주성분 개수 : 5개)"
   ]
  },
  {
   "cell_type": "code",
   "execution_count": 34,
   "metadata": {},
   "outputs": [],
   "source": [
    "lda = LinearDiscriminantAnalysis(n_components = 5)\n",
    "X_train_lda = lda.fit_transform(X_train, np.ravel(y_train))\n",
    "X_test_lda = lda.transform(X_test)     # Test Data는 transform만!"
   ]
  },
  {
   "cell_type": "code",
   "execution_count": 37,
   "metadata": {},
   "outputs": [
    {
     "name": "stdout",
     "output_type": "stream",
     "text": [
      "Classifier : RandomForestClassifier\n",
      "Training 시간 : 49.58066701889038\n",
      "Test Accuracy : 0.8455\n",
      "\n",
      "Classifier : LGBMClassifier\n",
      "Training 시간 : 9.044942617416382\n",
      "Test Accuracy : 0.8444285714285714\n",
      "\n",
      "Classifier : SVC\n",
      "Training 시간 : 58.10084247589111\n",
      "Test Accuracy : 0.8485714285714285\n",
      "\n"
     ]
    }
   ],
   "source": [
    "for clf in clfs:\n",
    "    start = time.time()     # 시작 시간\n",
    "    clf.fit(X_train_lda, np.ravel(y_train))     # LDA 축소 데이터 Training\n",
    "    end = time.time()     # 완료 시간\n",
    "    elapse_time = end - start     # 경과 시간\n",
    "\n",
    "    print(\"Classifier :\", clf.__class__.__name__)\n",
    "    print(\"Training 시간 :\", elapse_time)\n",
    "    print(\"Test Accuracy :\", accuracy_score(y_test, clf.predict(X_test_lda)))\n",
    "    print()"
   ]
  },
  {
   "cell_type": "markdown",
   "metadata": {},
   "source": [
    "**LDA 축소 데이터 Training 결과**\n",
    "* Training 시간 (빠른 순서대로) : LGBMClassifier - RandomForestClassifier - SVC\n",
    "* Test Accuracy (높은 순서대로) : SVC - RandomForestClassifier - LGBMClassifier"
   ]
  },
  {
   "cell_type": "markdown",
   "metadata": {},
   "source": [
    "### Training 결과 비교"
   ]
  },
  {
   "cell_type": "markdown",
   "metadata": {},
   "source": [
    "* **Training 시간** : Training 시간은 차원이 줄어들수록(원본 데이터 784, PCA 50, LDA 5) 함께 줄어드는 것을 확인할 수 있다. 세 종류의 Training에서 가장 빠르게 Training이 진행된 LGBMClassifier의 경우를 보면, 원본 데이터에서 약 260초(4분 20초), PCA 축소 데이터에서 약 51초, LDA 축소 데이터에서 약 9초로 극적인 속도 향상을 확인할 수 있다.\n",
    "* **Test Accuracy** : Test Accuracy는 차원이 줄어들수록 함께 낮아지지만, 원본 데이터와 PDA 축소 데이터의 경우 유의미하게 차이가 나지는 않는다. PCA에서 선택된 50개의 주성분이 총 분산의 80% 이상을 설명하기 때문에, 정확도가 거의 유사하게 나온 것이다.\n",
    "* 최종 모델은 Training 시간이 적게 들면서도, 비교적 높은 Test Accuracy를 도출한 LGBMClassifier가, 차원 축소 기법으로는 PCA가 가장 효율적일 것으로 생각된다."
   ]
  },
  {
   "cell_type": "markdown",
   "metadata": {},
   "source": [
    "### 최종 모델"
   ]
  },
  {
   "cell_type": "code",
   "execution_count": 44,
   "metadata": {},
   "outputs": [
    {
     "name": "stdout",
     "output_type": "stream",
     "text": [
      "Max Depth : 2\n",
      "Number of Leaves : 2\n",
      "Test Accuracy : 0.8359285714285715\n",
      "\n",
      "Max Depth : 3\n",
      "Number of Leaves : 5\n",
      "Test Accuracy : 0.9196428571428571\n",
      "\n",
      "Max Depth : 4\n",
      "Number of Leaves : 10\n",
      "Test Accuracy : 0.943\n",
      "\n",
      "Max Depth : 5\n",
      "Number of Leaves : 21\n",
      "Test Accuracy : 0.954\n",
      "\n",
      "Max Depth : 6\n",
      "Number of Leaves : 42\n",
      "Test Accuracy : 0.9616428571428571\n",
      "\n",
      "Max Depth : 7\n",
      "Number of Leaves : 85\n",
      "Test Accuracy : 0.9647142857142857\n",
      "\n",
      "Max Depth : 8\n",
      "Number of Leaves : 170\n",
      "Test Accuracy : 0.9656428571428571\n",
      "\n",
      "Max Depth : 9\n",
      "Number of Leaves : 341\n",
      "Test Accuracy : 0.9671428571428572\n",
      "\n"
     ]
    }
   ],
   "source": [
    "# LGBMClassifier 하이퍼파라미터 튜닝\n",
    "# max_depth와 num_leaves를 조정하면서 정확도가 어떻게 달라지는지 확인하자!\n",
    "\n",
    "# max_depth는 2부터 9까지 차례대로 바꿔보기 (default : -1)\n",
    "max_depth = [*range(2, 10)]     \n",
    "# num_leaves는 2^(max_depth)보다는 작으면서 적절히 크도록(해당 값의 2/3) 설정 - Overfitting 방지 (공식문서 참고)\n",
    "num_leaves = list(map(lambda x : int((2**x)*(2/3)), max_depth))\n",
    "\n",
    "for max_depth, num_leaves in zip(max_depth, num_leaves):\n",
    "    lgbm_clf_temp = LGBMClassifier(random_state = 22,\n",
    "                                   max_depth = max_depth, num_leaves = num_leaves)   # max_depth, num_leaves 변화에 따른 성능 변화 체크\n",
    "    lgbm_clf_temp.fit(X_train_pca, np.ravel(y_train))\n",
    "    y_pred = lgbm_clf_temp.predict(X_test_pca)\n",
    "    print(\"Max Depth :\", max_depth)\n",
    "    print(\"Number of Leaves :\", num_leaves)\n",
    "    print(\"Test Accuracy :\", accuracy_score(y_test, y_pred))\n",
    "    print()"
   ]
  },
  {
   "cell_type": "markdown",
   "metadata": {},
   "source": [
    "* 하이퍼파라미터 튜닝 결과, max_depth = 9, num_leaves = 341일 때 Test Accuracy가 가장 높은 것으로 확인되었다.\n",
    "* 튜닝 결과대로 하이퍼파라미터를 설정한 후, 다시 한번 3.4.2에서와 마찬가지로 학습을 진행해보았다."
   ]
  },
  {
   "cell_type": "code",
   "execution_count": 46,
   "metadata": {},
   "outputs": [
    {
     "name": "stdout",
     "output_type": "stream",
     "text": [
      "Classifier : LGBMClassifier\n",
      "Training 시간 : 80.46940016746521\n",
      "Test Accuracy : 0.9671428571428572\n"
     ]
    }
   ],
   "source": [
    "lgbm_clf_final = LGBMClassifier(random_state = 22, max_depth = 9, num_leaves = 341)     # LGBMClassifier 객체 생성\n",
    "\n",
    "start = time.time()     # 시작 시간\n",
    "lgbm_clf_final.fit(X_train_pca, np.ravel(y_train))     # PCA 축소 데이터 Training\n",
    "end = time.time()     # 완료 시간\n",
    "elapse_time = end - start     # 경과 시간\n",
    "    \n",
    "print(\"Classifier :\", lgbm_clf_final.__class__.__name__)\n",
    "print(\"Training 시간 :\", elapse_time)\n",
    "print(\"Test Accuracy :\", accuracy_score(y_test, lgbm_clf_final.predict(X_test_pca)))"
   ]
  },
  {
   "cell_type": "markdown",
   "metadata": {},
   "source": [
    "하이퍼파라미터 튜닝 후 Test Accuracy는 살짝 높아졌지만(튜닝 전 : 0.9657857142857142 VS 튜닝 후 : 0.9671428571428572), Training 시간이 늘어난 것에 비해 유의미한 변화라고 생각되지는 않는다. 따라서, 전반적인 성능을 고려하면 기본 세팅으로 차원 축소를 진행하는 것이 더 효율적이라고 생각된다."
   ]
  }
 ],
 "metadata": {
  "kernelspec": {
   "display_name": "Python 3",
   "language": "python",
   "name": "python3"
  },
  "language_info": {
   "codemirror_mode": {
    "name": "ipython",
    "version": 3
   },
   "file_extension": ".py",
   "mimetype": "text/x-python",
   "name": "python",
   "nbconvert_exporter": "python",
   "pygments_lexer": "ipython3",
   "version": "3.8.5"
  },
  "toc": {
   "base_numbering": 1,
   "nav_menu": {},
   "number_sections": true,
   "sideBar": true,
   "skip_h1_title": false,
   "title_cell": "Table of Contents",
   "title_sidebar": "Contents",
   "toc_cell": false,
   "toc_position": {
    "height": "calc(100% - 180px)",
    "left": "10px",
    "top": "150px",
    "width": "298px"
   },
   "toc_section_display": true,
   "toc_window_display": true
  }
 },
 "nbformat": 4,
 "nbformat_minor": 2
}
