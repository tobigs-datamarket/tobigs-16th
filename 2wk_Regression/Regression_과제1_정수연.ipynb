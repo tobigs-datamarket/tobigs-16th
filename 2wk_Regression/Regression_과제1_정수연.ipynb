{
 "cells": [
  {
   "cell_type": "markdown",
   "metadata": {
    "id": "HtloJibI_5uB"
   },
   "source": [
    "# Assignment1 "
   ]
  },
  {
   "cell_type": "markdown",
   "metadata": {
    "id": "poKqKrLb_5uH"
   },
   "source": [
    "## Matrix 구현 \n",
    "1. Linear Regression 에서 쓰이는 **정규방정식**을 행렬로 구현하고, sklearn 혹은 OLS 패키지를 통해 구한 **실제 값과 비교**해 주세요 \n",
    "2. LSE에서 쓰이는 Loss Function, **MSE**를 행렬로 구현해 출력해 주세요 "
   ]
  },
  {
   "cell_type": "markdown",
   "metadata": {
    "id": "MaVCkq3g_5uJ"
   },
   "source": [
    "### Data Load "
   ]
  },
  {
   "cell_type": "code",
   "execution_count": 1,
   "metadata": {
    "id": "lX6_aNNU_5uK"
   },
   "outputs": [],
   "source": [
    "import pandas as pd \n",
    "data = pd.read_csv(\"assignment1.csv\")"
   ]
  },
  {
   "cell_type": "code",
   "execution_count": 2,
   "metadata": {
    "id": "PJVRecL-_5uM",
    "outputId": "78c70b21-ad58-4a1f-b5b3-f90a6f55d1c7"
   },
   "outputs": [
    {
     "data": {
      "text/html": [
       "<div>\n",
       "<style scoped>\n",
       "    .dataframe tbody tr th:only-of-type {\n",
       "        vertical-align: middle;\n",
       "    }\n",
       "\n",
       "    .dataframe tbody tr th {\n",
       "        vertical-align: top;\n",
       "    }\n",
       "\n",
       "    .dataframe thead th {\n",
       "        text-align: right;\n",
       "    }\n",
       "</style>\n",
       "<table border=\"1\" class=\"dataframe\">\n",
       "  <thead>\n",
       "    <tr style=\"text-align: right;\">\n",
       "      <th></th>\n",
       "      <th>y</th>\n",
       "      <th>x1</th>\n",
       "      <th>x2</th>\n",
       "      <th>x3</th>\n",
       "      <th>x4</th>\n",
       "      <th>x5</th>\n",
       "    </tr>\n",
       "  </thead>\n",
       "  <tbody>\n",
       "    <tr>\n",
       "      <th>0</th>\n",
       "      <td>10</td>\n",
       "      <td>38.9</td>\n",
       "      <td>64.7</td>\n",
       "      <td>4</td>\n",
       "      <td>868</td>\n",
       "      <td>59.7</td>\n",
       "    </tr>\n",
       "    <tr>\n",
       "      <th>1</th>\n",
       "      <td>13</td>\n",
       "      <td>41.6</td>\n",
       "      <td>45.3</td>\n",
       "      <td>-4</td>\n",
       "      <td>957</td>\n",
       "      <td>61.4</td>\n",
       "    </tr>\n",
       "    <tr>\n",
       "      <th>2</th>\n",
       "      <td>11</td>\n",
       "      <td>39.7</td>\n",
       "      <td>74.1</td>\n",
       "      <td>8</td>\n",
       "      <td>786</td>\n",
       "      <td>61.0</td>\n",
       "    </tr>\n",
       "    <tr>\n",
       "      <th>3</th>\n",
       "      <td>7</td>\n",
       "      <td>37.3</td>\n",
       "      <td>48.0</td>\n",
       "      <td>19</td>\n",
       "      <td>984</td>\n",
       "      <td>67.5</td>\n",
       "    </tr>\n",
       "    <tr>\n",
       "      <th>4</th>\n",
       "      <td>10</td>\n",
       "      <td>39.5</td>\n",
       "      <td>51.9</td>\n",
       "      <td>6</td>\n",
       "      <td>700</td>\n",
       "      <td>57.2</td>\n",
       "    </tr>\n",
       "  </tbody>\n",
       "</table>\n",
       "</div>"
      ],
      "text/plain": [
       "    y    x1    x2  x3   x4    x5\n",
       "0  10  38.9  64.7   4  868  59.7\n",
       "1  13  41.6  45.3  -4  957  61.4\n",
       "2  11  39.7  74.1   8  786  61.0\n",
       "3   7  37.3  48.0  19  984  67.5\n",
       "4  10  39.5  51.9   6  700  57.2"
      ]
     },
     "execution_count": 2,
     "metadata": {},
     "output_type": "execute_result"
    }
   ],
   "source": [
    "data.head()"
   ]
  },
  {
   "cell_type": "code",
   "execution_count": 3,
   "metadata": {
    "id": "Cdf4C5No_5uP",
    "outputId": "28e40fcd-7aed-40be-b449-38b4c9937e5c"
   },
   "outputs": [
    {
     "data": {
      "text/plain": [
       "(9, 6)"
      ]
     },
     "execution_count": 3,
     "metadata": {},
     "output_type": "execute_result"
    }
   ],
   "source": [
    "data.shape # y:(9,1), X:(9,5)"
   ]
  },
  {
   "cell_type": "code",
   "execution_count": 4,
   "metadata": {
    "id": "rZuPCz_9_5uQ"
   },
   "outputs": [],
   "source": [
    "X = data.drop([\"y\"], axis=1)\n",
    "y = data.y"
   ]
  },
  {
   "cell_type": "code",
   "execution_count": 5,
   "metadata": {
    "id": "sI24Ruws_5uQ"
   },
   "outputs": [],
   "source": [
    "# matrix 계산을 위해 numpy 형태로 바꾸어 줍니다 \n",
    "X = X.to_numpy()\n",
    "y = y.to_numpy()"
   ]
  },
  {
   "cell_type": "code",
   "execution_count": 6,
   "metadata": {
    "id": "oIEx1Gk5_5uR",
    "outputId": "af2ee5f2-5512-404c-91b7-a0afcfdbed01",
    "scrolled": true
   },
   "outputs": [
    {
     "data": {
      "text/plain": [
       "array([[  38.9,   64.7,    4. ,  868. ,   59.7],\n",
       "       [  41.6,   45.3,   -4. ,  957. ,   61.4],\n",
       "       [  39.7,   74.1,    8. ,  786. ,   61. ],\n",
       "       [  37.3,   48. ,   19. ,  984. ,   67.5],\n",
       "       [  39.5,   51.9,    6. ,  700. ,   57.2],\n",
       "       [  37.4,   53.6,   -5. , 1037. ,   58.8],\n",
       "       [  35.1,   71.4,    3. ,  986. ,   58.6],\n",
       "       [  38.8,   58.3,    6. ,  819. ,   59.2],\n",
       "       [  36.6,   52.6,  -19. ,  791. ,   54.4]])"
      ]
     },
     "execution_count": 6,
     "metadata": {},
     "output_type": "execute_result"
    }
   ],
   "source": [
    "X"
   ]
  },
  {
   "cell_type": "code",
   "execution_count": 7,
   "metadata": {
    "id": "8xH58zzD_5uS",
    "outputId": "353a1f50-ddc0-4f27-9c69-ec6b1b2f2046"
   },
   "outputs": [
    {
     "data": {
      "text/plain": [
       "array([10, 13, 11,  7, 10,  9,  9,  6,  5], dtype=int64)"
      ]
     },
     "execution_count": 7,
     "metadata": {},
     "output_type": "execute_result"
    }
   ],
   "source": [
    "y"
   ]
  },
  {
   "cell_type": "markdown",
   "metadata": {
    "id": "F3JfJR95_5uT"
   },
   "source": [
    "### 1. Normal Equation"
   ]
  },
  {
   "cell_type": "code",
   "execution_count": 8,
   "metadata": {
    "id": "Fs3H6XKI_5uX"
   },
   "outputs": [],
   "source": [
    "import numpy as np\n",
    "from numpy.linalg import inv "
   ]
  },
  {
   "attachments": {
    "image.png": {
     "image/png": "[encoded data removed]"
    }
   },
   "cell_type": "markdown",
   "metadata": {},
   "source": [
    "![image.png](attachment:image.png)"
   ]
  },
  {
   "cell_type": "markdown",
   "metadata": {},
   "source": [
    "`정규방정식`을 구현하는 6단계 과정을 아래에서 설명하고, 코드로 구현하겠습니다."
   ]
  },
  {
   "cell_type": "markdown",
   "metadata": {},
   "source": [
    "$$X =\\begin{pmatrix}\n",
    " 38.9 &  64.7 &   4 & 868 &  59.7 \\\\\n",
    " 41.6 &  45.3 &  -4 & 957 &  61.4 \\\\\n",
    " 39.7 &  74.1 &   8 & 786 &  61 \\\\\n",
    " 37.3 &  48 &  19 & 984 &  67.5 \\\\\n",
    " 39.5 &  51.9 &   6 & 700 &  57.2 \\\\\n",
    " 37.4 &  53.6 &  -5 & 1037 &  58.8 \\\\\n",
    " 35.1 &  71.4 &   3 & 986 &  58.6 \\\\\n",
    " 38.8 &  58.3 &   6 & 819 &  59.2 \\\\\n",
    " 36.6 &  52.6 & -19 & 791 &  54.4\n",
    " \\end{pmatrix} $$ , $$y =\n",
    " \\begin{pmatrix}\n",
    " 10 \\\\ 13 \\\\ 11 \\\\  7 \\\\ 10 \\\\  9 \\\\  9 \\\\  6 \\\\  5\n",
    " \\end{pmatrix}$$"
   ]
  },
  {
   "cell_type": "markdown",
   "metadata": {},
   "source": [
    "**1) 절편을 구하기 위해 관측치 개수만큼 1을 넣어 X 행렬을 바꿔줌**"
   ]
  },
  {
   "cell_type": "markdown",
   "metadata": {},
   "source": [
    "$$X =\n",
    " \\begin{pmatrix}\n",
    " 1 & 38.9 &  64.7 &   4 & 868 &  59.7 \\\\\n",
    " 1 & 41.6 &  45.3 &  -4 & 957 &  61.4 \\\\\n",
    " 1 & 39.7 &  74.1 &   8 & 786 &  61 \\\\\n",
    " 1 & 37.3 &  48 &  19 & 984 &  67.5 \\\\\n",
    " 1 & 39.5 &  51.9 &   6 & 700 &  57.2 \\\\\n",
    " 1 & 37.4 &  53.6 &  -5 & 1037 &  58.8 \\\\\n",
    " 1 & 35.1 &  71.4 &   3 & 986 &  58.6 \\\\\n",
    " 1 & 38.8 &  58.3 &   6 & 819 &  59.2 \\\\\n",
    " 1 & 36.6 &  52.6 & -19 & 791 &  54.4\n",
    " \\end{pmatrix}$$\n",
    "    "
   ]
  },
  {
   "cell_type": "code",
   "execution_count": 9,
   "metadata": {},
   "outputs": [],
   "source": [
    "designX = np.concatenate([np.ones((len(y), 1)), X], axis=1)"
   ]
  },
  {
   "cell_type": "markdown",
   "metadata": {},
   "source": [
    "**2) $X$의 전치행렬 구하기**"
   ]
  },
  {
   "cell_type": "markdown",
   "metadata": {},
   "source": [
    "$$X^T=\n",
    "\\begin{pmatrix}\n",
    "1&1&1&1&1&1&1&1&1\\\\\n",
    "38.9&41.6&39.7&37.3&39.5&37.4&35.1&38.8&\n",
    "36.6\\\\\n",
    "64.7&45.3&74.1&48&51.9&53.6&71.4&58.3&\n",
    "52.6\\\\\n",
    "4&-4&8&19&6&-5&3&6&\n",
    "-19\\\\\n",
    "868&957&786&984&700&1037&986&819&\n",
    "791\\\\\n",
    "59.7&61.4&61&67.5&57.2&58.8&58.6&59.2&\n",
    "54.4\n",
    "\\end{pmatrix}$$"
   ]
  },
  {
   "cell_type": "code",
   "execution_count": 10,
   "metadata": {
    "scrolled": false
   },
   "outputs": [
    {
     "data": {
      "text/plain": [
       "array([[ 1.000e+00,  1.000e+00,  1.000e+00,  1.000e+00,  1.000e+00,\n",
       "         1.000e+00,  1.000e+00,  1.000e+00,  1.000e+00],\n",
       "       [ 3.890e+01,  4.160e+01,  3.970e+01,  3.730e+01,  3.950e+01,\n",
       "         3.740e+01,  3.510e+01,  3.880e+01,  3.660e+01],\n",
       "       [ 6.470e+01,  4.530e+01,  7.410e+01,  4.800e+01,  5.190e+01,\n",
       "         5.360e+01,  7.140e+01,  5.830e+01,  5.260e+01],\n",
       "       [ 4.000e+00, -4.000e+00,  8.000e+00,  1.900e+01,  6.000e+00,\n",
       "        -5.000e+00,  3.000e+00,  6.000e+00, -1.900e+01],\n",
       "       [ 8.680e+02,  9.570e+02,  7.860e+02,  9.840e+02,  7.000e+02,\n",
       "         1.037e+03,  9.860e+02,  8.190e+02,  7.910e+02],\n",
       "       [ 5.970e+01,  6.140e+01,  6.100e+01,  6.750e+01,  5.720e+01,\n",
       "         5.880e+01,  5.860e+01,  5.920e+01,  5.440e+01]])"
      ]
     },
     "execution_count": 10,
     "metadata": {},
     "output_type": "execute_result"
    }
   ],
   "source": [
    "designX.T"
   ]
  },
  {
   "cell_type": "markdown",
   "metadata": {},
   "source": [
    "**3) X의 전치행렬과 행렬 $X$의 곱셈**"
   ]
  },
  {
   "cell_type": "markdown",
   "metadata": {},
   "source": [
    "$$X^T \\times X = \n",
    " \\begin{pmatrix}\n",
    " 1 & 1 & 1&1&1&1&1&1&1 \\\\\n",
    " 38.9&   41.6&   39.7&   37.3&   39.5&   37.4&   35.1&   38.8&\n",
    "          36.6\\\\\n",
    "       64.7&   45.3&   74.1&   48&   51.9&   53.6&   71.4&   58.3&\n",
    "          52.6\\\\\n",
    "       4&   -4&    8&   19&    6&   -5&    3&    6&\n",
    "         -19\\\\\n",
    "      868&  957&  786&  984&  700& 1037&  986&  819&\n",
    "         791\\\\\n",
    "       59.7&   61.4&   61&   67.5&   57.2&   58.8&   58.6&   59.2&\n",
    "          54.4\\\\\n",
    " \\end{pmatrix} \\times \\begin{pmatrix}\n",
    " 1 & 38.9 &  64.7 &   4 & 868 &  59.7 \\\\\n",
    " 1 & 41.6 &  45.3 &  -4 & 957 &  61.4 \\\\\n",
    " 1 & 39.7 &  74.1 &   8 & 786 &  61 \\\\\n",
    " 1 & 37.3 &  48 &  19 & 984 &  67.5 \\\\\n",
    " 1 & 39.5 &  51.9 &   6 & 700 &  57.2 \\\\\n",
    " 1 & 37.4 &  53.6 &  -5 & 1037 &  58.8 \\\\\n",
    " 1 & 35.1 &  71.4 &   3 & 986 &  58.6 \\\\\n",
    " 1 & 38.8 &  58.3 &   6 & 819 &  59.2 \\\\\n",
    " 1 & 36.6 &  52.6 & -19 & 791 &  54.4\n",
    " \\end{pmatrix}  = \\begin{pmatrix}\n",
    "    9.00&344.90&519.90&18.00&7928.00&537.80\\\\\n",
    "    344.90&13247.17&19881.51&708.20&303254.00&20619.40\\\\\n",
    "    519.90&19881.51&30863.17&1190.40&456654.20&31021.31\\\\\n",
    "    18.00&708.20&1190.40&924.00&16486.00&1310.30\\\\\n",
    "    7928.00&303254.00&456654.20&16486.00&7089332.00&475255.80\\\\\n",
    "    537.80&20619.40&31021.31&1310.30&475255.80&32238.54\n",
    " \\end{pmatrix} $$"
   ]
  },
  {
   "cell_type": "code",
   "execution_count": 11,
   "metadata": {
    "scrolled": true
   },
   "outputs": [
    {
     "data": {
      "text/plain": [
       "array([[9.000000e+00, 3.449000e+02, 5.199000e+02, 1.800000e+01,\n",
       "        7.928000e+03, 5.378000e+02],\n",
       "       [3.449000e+02, 1.324717e+04, 1.988151e+04, 7.082000e+02,\n",
       "        3.032540e+05, 2.061940e+04],\n",
       "       [5.199000e+02, 1.988151e+04, 3.086317e+04, 1.190400e+03,\n",
       "        4.566542e+05, 3.102131e+04],\n",
       "       [1.800000e+01, 7.082000e+02, 1.190400e+03, 9.240000e+02,\n",
       "        1.648600e+04, 1.310300e+03],\n",
       "       [7.928000e+03, 3.032540e+05, 4.566542e+05, 1.648600e+04,\n",
       "        7.089332e+06, 4.752558e+05],\n",
       "       [5.378000e+02, 2.061940e+04, 3.102131e+04, 1.310300e+03,\n",
       "        4.752558e+05, 3.223854e+04]])"
      ]
     },
     "execution_count": 11,
     "metadata": {},
     "output_type": "execute_result"
    }
   ],
   "source": [
    "np.dot(designX.T, designX)"
   ]
  },
  {
   "cell_type": "markdown",
   "metadata": {},
   "source": [
    "**4. $X^T \\times X$의 역행렬 구하기**"
   ]
  },
  {
   "cell_type": "markdown",
   "metadata": {},
   "source": [
    "$$ {(X^T \\times X)}^{-1} = \\begin{pmatrix}\n",
    "    9.00&344.90&519.90&18.00&7928.00&537.80\\\\\n",
    "    344.90&13247.17&19881.51&708.20&303254.00&20619.40\\\\\n",
    "    519.90&19881.51&30863.17&1190.40&456654.20&31021.31\\\\\n",
    "    18.00&708.20&1190.40&924.00&16486.00&1310.30\\\\\n",
    "    7928.00&303254.00&456654.20&16486.00&7089332.00&475255.80\\\\\n",
    "    537.80&20619.40&31021.31&1310.30&475255.80&32238.54\n",
    " \\end{pmatrix}^{-1}= \\begin{pmatrix}\n",
    "213.11&-1.22&-0.39&0.77&0.01&-2.62\\\\\n",
    "-1.22&0.05&0.00&0.00&0.00&-0.02\\\\\n",
    "-0.39&0.00&0.00&-0.00&-0.00&0.00\\\\\n",
    "0.77&0.00&-0.00&0.01&0.00&-0.02\\\\\n",
    "0.01&0.00&-0.00&0.00&0.00&-0.00\\\\\n",
    "-2.62&-0.02&0.00&-0.02&-0.00&0.07\n",
    " \\end{pmatrix}  $$ "
   ]
  },
  {
   "cell_type": "code",
   "execution_count": 12,
   "metadata": {
    "scrolled": false
   },
   "outputs": [
    {
     "data": {
      "text/plain": [
       "array([[ 2.13111451e+02, -1.21756821e+00, -3.94872253e-01,\n",
       "         7.73629493e-01,  1.31798148e-02, -2.62213574e+00],\n",
       "       [-1.21756821e+00,  5.21038395e-02,  1.50771775e-03,\n",
       "         4.47690658e-03,  6.09118142e-04, -2.36259498e-02],\n",
       "       [-3.94872253e-01,  1.50771775e-03,  1.74725096e-03,\n",
       "        -1.46071042e-03, -2.37466429e-05,  4.35105768e-03],\n",
       "       [ 7.73629493e-01,  4.47690658e-03, -1.46071042e-03,\n",
       "         5.86729294e-03,  2.28092916e-04, -1.79644089e-02],\n",
       "       [ 1.31798148e-02,  6.09118142e-04, -2.37466429e-05,\n",
       "         2.28092916e-04,  2.48514341e-05, -9.62226000e-04],\n",
       "       [-2.62213574e+00, -2.36259498e-02,  4.35105768e-03,\n",
       "        -1.79644089e-02, -9.62226000e-04,  6.96124654e-02]])"
      ]
     },
     "execution_count": 12,
     "metadata": {},
     "output_type": "execute_result"
    }
   ],
   "source": [
    "inv(np.dot(designX.T, designX))"
   ]
  },
  {
   "cell_type": "markdown",
   "metadata": {},
   "source": [
    "**5) $X^T \\times X$에 $X$의 전치 행렬을 곱함**"
   ]
  },
  {
   "cell_type": "markdown",
   "metadata": {},
   "source": [
    "$$ {(X^T \\times X)}^{-1} \\cdot X^T = \\begin{pmatrix}\n",
    "213.11&-1.22&-0.39&0.77&0.01&-2.62\\\\\n",
    "-1.22&0.05&0.00&0.00&0.00&-0.02\\\\\n",
    "-0.39&0.00&0.00&-0.00&-0.00&0.00\\\\\n",
    "0.77&0.00&-0.00&0.01&0.00&-0.02\\\\\n",
    "0.01&0.00&-0.00&0.00&0.00&-0.00\\\\\n",
    "-2.62&-0.02&0.00&-0.02&-0.00&0.07\n",
    " \\end{pmatrix} \\cdot  \\begin{pmatrix}\n",
    "1&1&1&1&1&1&1&1&1\\\\\n",
    "38.9&41.6&39.7&37.3&39.5&37.4&35.1&38.8&\n",
    "36.6\\\\\n",
    "64.7&45.3&74.1&48&51.9&53.6&71.4&58.3&\n",
    "52.6\\\\\n",
    "4&-4&8&19&6&-5&3&6&\n",
    "-19\\\\\n",
    "868&957&786&984&700&1037&986&819&\n",
    "791\\\\\n",
    "59.7&61.4&61&67.5&57.2&58.8&58.6&59.2&\n",
    "54.4\n",
    " \\end{pmatrix} = \\begin{pmatrix}\n",
    "-1.81&-6.91&-7.89&-0.58&8.41&2.03&3.84&3.05&0.86\\\\\n",
    "0.04&0.13&0.04&-0.11&0.02&0.03&-0.05&0.02&-0.12\\\\\n",
    "0.01&-0.00&0.03&-0.01&-0.02&-0.01&0.01&-0.01&-0.00\\\\\n",
    "0.00&-0.01&-0.03&-0.01&0.04&0.01&0.02&0.02&-0.05\\\\\n",
    "0.00&0.00&-0.00&-0.00&-0.00&0.00&0.00&0.00&-0.00\\\\\n",
    "-0.01&0.02&0.11&0.12&-0.13&-0.09&-0.06&-0.06&0.11\n",
    " \\end{pmatrix} $$ "
   ]
  },
  {
   "cell_type": "code",
   "execution_count": 13,
   "metadata": {
    "scrolled": true
   },
   "outputs": [
    {
     "data": {
      "text/plain": [
       "array([[-1.80709367e+00, -6.90766931e+00, -7.88795071e+00,\n",
       "        -5.83975738e-01,  8.40511969e+00,  2.02698606e+00,\n",
       "         3.83995938e+00,  3.05436150e+00,  8.60262782e-01],\n",
       "       [ 4.29734602e-02,  1.32636250e-01,  3.60752826e-02,\n",
       "        -1.12042675e-01,  2.06238165e-02,  3.19941955e-02,\n",
       "        -5.15318422e-02,  1.90336818e-02, -1.19762170e-01],\n",
       "       [ 1.01283207e-02, -2.72847982e-03,  2.95194120e-02,\n",
       "        -1.21901357e-02, -2.11414900e-02, -6.31048235e-03,\n",
       "         9.97801785e-03, -5.13822140e-03, -2.11694126e-03],\n",
       "       [ 2.25180922e-03, -1.45003299e-02, -2.64855223e-02,\n",
       "        -6.17159401e-03,  4.19610447e-02,  1.36603693e-02,\n",
       "         1.62613252e-02,  2.06929027e-02, -4.76700050e-02],\n",
       "       [ 3.76626994e-04,  1.23318096e-03, -1.73563667e-03,\n",
       "        -1.40259580e-03, -2.67235194e-04,  2.73959704e-03,\n",
       "         1.66570046e-03,  1.87272254e-04, -2.79691005e-03],\n",
       "       [-1.08773684e-02,  1.73403962e-02,  1.08662916e-01,\n",
       "         1.16154369e-01, -1.29052490e-01, -8.73229171e-02,\n",
       "        -6.40986438e-02, -5.99475190e-02,  1.09141257e-01]])"
      ]
     },
     "execution_count": 13,
     "metadata": {},
     "output_type": "execute_result"
    }
   ],
   "source": [
    "np.dot(inv(np.dot(designX.T, designX)), designX.T)"
   ]
  },
  {
   "cell_type": "markdown",
   "metadata": {},
   "source": [
    "**6) 5)의 결과에 y를 곱하면 완성**"
   ]
  },
  {
   "cell_type": "markdown",
   "metadata": {},
   "source": [
    "$$ {(X^T \\times X)}^{-1} \\cdot X^T  \\cdot y = \\begin{pmatrix}\n",
    "-1.81&-6.91&-7.89&-0.58&8.41&2.03&3.84&3.05&0.86\\\\\n",
    "0.04&0.13&0.04&-0.11&0.02&0.03&-0.05&0.02&-0.12\\\\\n",
    "0.01&-0.00&0.03&-0.01&-0.02&-0.01&0.01&-0.01&-0.00\\\\\n",
    "0.00&-0.01&-0.03&-0.01&0.04&0.01&0.02&0.02&-0.05\\\\\n",
    "0.00&0.00&-0.00&-0.00&-0.00&0.00&0.00&0.00&-0.00\\\\\n",
    "-0.01&0.02&0.11&0.12&-0.13&-0.09&-0.06&-0.06&0.11\n",
    " \\end{pmatrix} \\cdot \n",
    " \\begin{pmatrix}\n",
    " 10 \\\\ 13 \\\\ 11 \\\\  7 \\\\ 10 \\\\  9 \\\\  9 \\\\  6 \\\\  5\n",
    " \\end{pmatrix} = \\begin{pmatrix}\n",
    "-39.24\\\\ 1.31\\\\ 0.09\\\\ 0.07\\\\ 0.02\\\\ -0.34\n",
    " \\end{pmatrix}$$"
   ]
  },
  {
   "cell_type": "code",
   "execution_count": 14,
   "metadata": {},
   "outputs": [
    {
     "data": {
      "text/plain": [
       "array([-3.92447368e+01,  1.31232583e+00,  8.53744361e-02,  7.41849897e-02,\n",
       "        1.50018573e-02, -3.42273652e-01])"
      ]
     },
     "execution_count": 14,
     "metadata": {},
     "output_type": "execute_result"
    }
   ],
   "source": [
    "np.dot(np.dot(inv(np.dot(designX.T, designX)), designX.T), y)"
   ]
  },
  {
   "cell_type": "markdown",
   "metadata": {},
   "source": [
    "$$\\hat{y} = -39.24 + 1.31 x_1 + 0.09 x_2 + 0.07 x_3 - 0.02 x_4 - 0.34 x_5$$"
   ]
  },
  {
   "cell_type": "markdown",
   "metadata": {},
   "source": [
    "위 과정들을 정리하여 함수로 나타내면, 아래와 같습니다."
   ]
  },
  {
   "cell_type": "code",
   "execution_count": 15,
   "metadata": {
    "id": "oEiAbw86_5uX"
   },
   "outputs": [],
   "source": [
    "def estimate_beta(X, y):\n",
    "    designX = np.concatenate([np.ones((len(y), 1)), X], axis=1)\n",
    "    beta_hat = np.dot(np.dot(inv(np.dot(designX.T, designX)), designX.T), y)\n",
    "    \n",
    "    return beta_hat"
   ]
  },
  {
   "cell_type": "code",
   "execution_count": 16,
   "metadata": {
    "id": "MLFE-cvl_5uY",
    "outputId": "ee491c4c-c614-4a2c-986f-0d14e2d3bf0c"
   },
   "outputs": [
    {
     "data": {
      "text/plain": [
       "array([-3.92447368e+01,  1.31232583e+00,  8.53744361e-02,  7.41849897e-02,\n",
       "        1.50018573e-02, -3.42273652e-01])"
      ]
     },
     "execution_count": 16,
     "metadata": {},
     "output_type": "execute_result"
    }
   ],
   "source": [
    "beta_hat = estimate_beta(X, y)\n",
    "beta_hat"
   ]
  },
  {
   "cell_type": "markdown",
   "metadata": {
    "id": "Kr4KXjl9_5uZ"
   },
   "source": [
    "#### 실제 값과 비교"
   ]
  },
  {
   "cell_type": "code",
   "execution_count": 17,
   "metadata": {
    "id": "Ef3Ggqo8_5uZ"
   },
   "outputs": [],
   "source": [
    "from sklearn.linear_model import LinearRegression"
   ]
  },
  {
   "cell_type": "code",
   "execution_count": 18,
   "metadata": {
    "id": "6Parv6ui_5uZ"
   },
   "outputs": [],
   "source": [
    "model = LinearRegression()\n",
    "model.fit(X, y)\n",
    "\n",
    "pred = model.predict(X)"
   ]
  },
  {
   "cell_type": "code",
   "execution_count": 19,
   "metadata": {
    "id": "B2ANlaBa_5ua",
    "outputId": "66492b5d-4e30-4a93-b778-fc9b7ff58161"
   },
   "outputs": [
    {
     "name": "stdout",
     "output_type": "stream",
     "text": [
      "-39.24473678135658\n",
      "[ 1.31232583  0.08537444  0.07418499  0.01500186 -0.34227365]\n"
     ]
    }
   ],
   "source": [
    "print(model.intercept_) # intercept\n",
    "print(model.coef_) # 추정된 회귀계수 (intercept제외)"
   ]
  },
  {
   "cell_type": "markdown",
   "metadata": {},
   "source": [
    "sklearn 패키지를 통해 구한 실제 값과 행렬로 구한 값이 유사함을 확인하였습니다."
   ]
  },
  {
   "cell_type": "markdown",
   "metadata": {},
   "source": [
    "----"
   ]
  },
  {
   "cell_type": "markdown",
   "metadata": {
    "id": "Csj01bXd_5ua"
   },
   "source": [
    "### 2. MSE"
   ]
  },
  {
   "attachments": {
    "image.png": {
     "image/png": "[encoded data removed]"
    }
   },
   "cell_type": "markdown",
   "metadata": {},
   "source": [
    "![image.png](attachment:image.png)"
   ]
  },
  {
   "cell_type": "markdown",
   "metadata": {},
   "source": [
    "**MSE를 구하는 방법은 다음과 같습니다**\n",
    "\n",
    "\n",
    "1) 실제 값에서 예측 값을 빼 잔차를 구한다: $y - \\bar{y}$2)\n",
    "- `y - y_pred`\n",
    "\n",
    "2) 1)의 값에 제곱을 한다: $(y - \\bar{y})^2$\n",
    "- `(y - y_pred)**2)`\n",
    "\n",
    "3) 2)의 값의 합을 구한다: $\\Sigma{(y - \\bar{y})^2}$\n",
    "- `np.sum((y - y_pred)**2)`\n",
    "\n",
    "4) 3)의 값을 자유도(관측치의 개수 - 설명변수의 개수)로 나눈다: $\\frac{\\Sigma{(y - \\bar{y})^2}}{n-k}$\n",
    "- `np.sum((y - y_pred)**2) / (len(y) - len(designX.T))`"
   ]
  },
  {
   "cell_type": "markdown",
   "metadata": {},
   "source": [
    "이를 함수로 나타내면 아래와 같습니다."
   ]
  },
  {
   "cell_type": "code",
   "execution_count": 20,
   "metadata": {
    "id": "ADYxjyQ9_5ub"
   },
   "outputs": [],
   "source": [
    "def MSE(X, y, beta_hat):\n",
    "    designX = np.concatenate([np.ones((len(y), 1)), X], axis=1)\n",
    "    y_pred = np.dot(designX, beta_hat)\n",
    "    mse = np.sum((y - y_pred)**2) / (len(y) - len(designX.T))\n",
    "    return mse"
   ]
  },
  {
   "cell_type": "code",
   "execution_count": 21,
   "metadata": {
    "id": "Q4OB-8Oa_5ub",
    "outputId": "d7baf8ce-860a-41ca-93a3-f669853c733b"
   },
   "outputs": [
    {
     "data": {
      "text/plain": [
       "4.846793168705752"
      ]
     },
     "execution_count": 21,
     "metadata": {},
     "output_type": "execute_result"
    }
   ],
   "source": [
    "MSE(X, y, estimate_beta(X, y))"
   ]
  }
 ],
 "metadata": {
  "colab": {
   "name": "Regression_과제1",
   "provenance": []
  },
  "kernelspec": {
   "display_name": "Python 3",
   "language": "python",
   "name": "python3"
  },
  "language_info": {
   "codemirror_mode": {
    "name": "ipython",
    "version": 3
   },
   "file_extension": ".py",
   "mimetype": "text/x-python",
   "name": "python",
   "nbconvert_exporter": "python",
   "pygments_lexer": "ipython3",
   "version": "3.8.3"
  }
 },
 "nbformat": 4,
 "nbformat_minor": 1
}
