{
 "cells": [
  {
   "cell_type": "markdown",
   "metadata": {
    "id": "yCl3oyYT5ynJ"
   },
   "source": [
    "# NLP 기초 Assignment - 16기 주지훈\n",
    "## NLP 맛보기 - spam.csv를 가지고 유의미한 해석을 도출해주세요!"
   ]
  },
  {
   "cell_type": "code",
   "execution_count": 1,
   "metadata": {
    "colab": {
     "base_uri": "https://localhost:8080/"
    },
    "executionInfo": {
     "elapsed": 22931,
     "status": "ok",
     "timestamp": 1631441931500,
     "user": {
      "displayName": "주지훈",
      "photoUrl": "https://lh3.googleusercontent.com/a-/AOh14GgnjbaDpNhn_mDPYJoIka_vS6AaIKXR_ORlzWo0dg4=s64",
      "userId": "14418915057819099798"
     },
     "user_tz": -540
    },
    "id": "Ng-bqqNx52nK",
    "outputId": "7282b32e-605b-4a41-f2d2-181b443f4a4d"
   },
   "outputs": [
    {
     "name": "stdout",
     "output_type": "stream",
     "text": [
      "Mounted at /gdrive\n"
     ]
    }
   ],
   "source": [
    "from google.colab import drive\n",
    "drive.mount('/gdrive', force_remount=True)"
   ]
  },
  {
   "cell_type": "code",
   "execution_count": 2,
   "metadata": {
    "executionInfo": {
     "elapsed": 812,
     "status": "ok",
     "timestamp": 1631441934908,
     "user": {
      "displayName": "주지훈",
      "photoUrl": "https://lh3.googleusercontent.com/a-/AOh14GgnjbaDpNhn_mDPYJoIka_vS6AaIKXR_ORlzWo0dg4=s64",
      "userId": "14418915057819099798"
     },
     "user_tz": -540
    },
    "id": "ryXPPhyZ5ynN"
   },
   "outputs": [],
   "source": [
    "# 필요한 모듈 불러오기\n",
    "import pandas as pd\n",
    "import numpy as np\n",
    "import matplotlib.pyplot as plt\n",
    "import seaborn as sns"
   ]
  },
  {
   "cell_type": "markdown",
   "metadata": {
    "id": "ddNKoTso5ynO"
   },
   "source": [
    "## Load Data\n",
    "- 보시면 아시다시피 spam.csv는 라벨이 있는 데이터입니다. 물론 8주차 주제가 텍스트 기초인만큼 텍스트만 활용하셔도 되고, 라벨까지 활용하셔서 모델을 돌려보셔도 좋습니다 :)"
   ]
  },
  {
   "cell_type": "code",
   "execution_count": 3,
   "metadata": {
    "executionInfo": {
     "elapsed": 1168,
     "status": "ok",
     "timestamp": 1631441938582,
     "user": {
      "displayName": "주지훈",
      "photoUrl": "https://lh3.googleusercontent.com/a-/AOh14GgnjbaDpNhn_mDPYJoIka_vS6AaIKXR_ORlzWo0dg4=s64",
      "userId": "14418915057819099798"
     },
     "user_tz": -540
    },
    "id": "krkLzUSV5ynO"
   },
   "outputs": [],
   "source": [
    "spam = pd.read_csv('/gdrive/MyDrive/Colab Notebooks/nlp/spam.csv')"
   ]
  },
  {
   "cell_type": "code",
   "execution_count": 4,
   "metadata": {
    "colab": {
     "base_uri": "https://localhost:8080/",
     "height": 52
    },
    "executionInfo": {
     "elapsed": 361,
     "status": "ok",
     "timestamp": 1631441940439,
     "user": {
      "displayName": "주지훈",
      "photoUrl": "https://lh3.googleusercontent.com/a-/AOh14GgnjbaDpNhn_mDPYJoIka_vS6AaIKXR_ORlzWo0dg4=s64",
      "userId": "14418915057819099798"
     },
     "user_tz": -540
    },
    "id": "lsyD_Ak15ynO",
    "outputId": "0f7f2425-c879-46ae-a96a-34049d683104"
   },
   "outputs": [
    {
     "data": {
      "application/vnd.google.colaboratory.intrinsic+json": {
       "type": "string"
      },
      "text/plain": [
       "\"FreeMsg Hey there darling it's been 3 week's now and no word back! I'd like some fun you up for it still? Tb ok! XxX std chgs to send, å£1.50 to rcv\""
      ]
     },
     "execution_count": 4,
     "metadata": {},
     "output_type": "execute_result"
    }
   ],
   "source": [
    "spam.iloc[5]['v2']"
   ]
  },
  {
   "cell_type": "code",
   "execution_count": 5,
   "metadata": {
    "colab": {
     "base_uri": "https://localhost:8080/",
     "height": 408
    },
    "executionInfo": {
     "elapsed": 340,
     "status": "ok",
     "timestamp": 1631441942830,
     "user": {
      "displayName": "주지훈",
      "photoUrl": "https://lh3.googleusercontent.com/a-/AOh14GgnjbaDpNhn_mDPYJoIka_vS6AaIKXR_ORlzWo0dg4=s64",
      "userId": "14418915057819099798"
     },
     "user_tz": -540
    },
    "id": "xfx4cU6j5ynP",
    "outputId": "6ce93325-90cc-4737-efb8-cd91bb24d174"
   },
   "outputs": [
    {
     "data": {
      "text/html": [
       "<div>\n",
       "<style scoped>\n",
       "    .dataframe tbody tr th:only-of-type {\n",
       "        vertical-align: middle;\n",
       "    }\n",
       "\n",
       "    .dataframe tbody tr th {\n",
       "        vertical-align: top;\n",
       "    }\n",
       "\n",
       "    .dataframe thead th {\n",
       "        text-align: right;\n",
       "    }\n",
       "</style>\n",
       "<table border=\"1\" class=\"dataframe\">\n",
       "  <thead>\n",
       "    <tr style=\"text-align: right;\">\n",
       "      <th></th>\n",
       "      <th>v1</th>\n",
       "      <th>v2</th>\n",
       "    </tr>\n",
       "  </thead>\n",
       "  <tbody>\n",
       "    <tr>\n",
       "      <th>0</th>\n",
       "      <td>0</td>\n",
       "      <td>Go until jurong point, crazy.. Available only ...</td>\n",
       "    </tr>\n",
       "    <tr>\n",
       "      <th>1</th>\n",
       "      <td>0</td>\n",
       "      <td>Ok lar... Joking wif u oni...</td>\n",
       "    </tr>\n",
       "    <tr>\n",
       "      <th>2</th>\n",
       "      <td>1</td>\n",
       "      <td>Free entry in 2 a wkly comp to win FA Cup fina...</td>\n",
       "    </tr>\n",
       "    <tr>\n",
       "      <th>3</th>\n",
       "      <td>0</td>\n",
       "      <td>U dun say so early hor... U c already then say...</td>\n",
       "    </tr>\n",
       "    <tr>\n",
       "      <th>4</th>\n",
       "      <td>0</td>\n",
       "      <td>Nah I don't think he goes to usf, he lives aro...</td>\n",
       "    </tr>\n",
       "    <tr>\n",
       "      <th>...</th>\n",
       "      <td>...</td>\n",
       "      <td>...</td>\n",
       "    </tr>\n",
       "    <tr>\n",
       "      <th>5567</th>\n",
       "      <td>1</td>\n",
       "      <td>This is the 2nd time we have tried 2 contact u...</td>\n",
       "    </tr>\n",
       "    <tr>\n",
       "      <th>5568</th>\n",
       "      <td>0</td>\n",
       "      <td>Will Ì_ b going to esplanade fr home?</td>\n",
       "    </tr>\n",
       "    <tr>\n",
       "      <th>5569</th>\n",
       "      <td>0</td>\n",
       "      <td>Pity, * was in mood for that. So...any other s...</td>\n",
       "    </tr>\n",
       "    <tr>\n",
       "      <th>5570</th>\n",
       "      <td>0</td>\n",
       "      <td>The guy did some bitching but I acted like i'd...</td>\n",
       "    </tr>\n",
       "    <tr>\n",
       "      <th>5571</th>\n",
       "      <td>0</td>\n",
       "      <td>Rofl. Its true to its name</td>\n",
       "    </tr>\n",
       "  </tbody>\n",
       "</table>\n",
       "<p>5572 rows × 2 columns</p>\n",
       "</div>"
      ],
      "text/plain": [
       "      v1                                                 v2\n",
       "0      0  Go until jurong point, crazy.. Available only ...\n",
       "1      0                      Ok lar... Joking wif u oni...\n",
       "2      1  Free entry in 2 a wkly comp to win FA Cup fina...\n",
       "3      0  U dun say so early hor... U c already then say...\n",
       "4      0  Nah I don't think he goes to usf, he lives aro...\n",
       "...   ..                                                ...\n",
       "5567   1  This is the 2nd time we have tried 2 contact u...\n",
       "5568   0              Will Ì_ b going to esplanade fr home?\n",
       "5569   0  Pity, * was in mood for that. So...any other s...\n",
       "5570   0  The guy did some bitching but I acted like i'd...\n",
       "5571   0                         Rofl. Its true to its name\n",
       "\n",
       "[5572 rows x 2 columns]"
      ]
     },
     "execution_count": 5,
     "metadata": {},
     "output_type": "execute_result"
    }
   ],
   "source": [
    "# spam -> 0, ham -> 1로 바꾸기\n",
    "spam.v1 = spam.v1.replace(['ham','spam'],[0,1])\n",
    "spam"
   ]
  },
  {
   "cell_type": "code",
   "execution_count": 6,
   "metadata": {
    "colab": {
     "base_uri": "https://localhost:8080/"
    },
    "executionInfo": {
     "elapsed": 350,
     "status": "ok",
     "timestamp": 1631441974579,
     "user": {
      "displayName": "주지훈",
      "photoUrl": "https://lh3.googleusercontent.com/a-/AOh14GgnjbaDpNhn_mDPYJoIka_vS6AaIKXR_ORlzWo0dg4=s64",
      "userId": "14418915057819099798"
     },
     "user_tz": -540
    },
    "id": "HXkfdJ_v5ynP",
    "outputId": "2d2adc21-645d-42a5-c7ba-fa94a4b78d15"
   },
   "outputs": [
    {
     "name": "stdout",
     "output_type": "stream",
     "text": [
      "<class 'pandas.core.frame.DataFrame'>\n",
      "RangeIndex: 5572 entries, 0 to 5571\n",
      "Data columns (total 2 columns):\n",
      " #   Column  Non-Null Count  Dtype \n",
      "---  ------  --------------  ----- \n",
      " 0   v1      5572 non-null   int64 \n",
      " 1   v2      5572 non-null   object\n",
      "dtypes: int64(1), object(1)\n",
      "memory usage: 87.2+ KB\n"
     ]
    }
   ],
   "source": [
    "spam.info()"
   ]
  },
  {
   "cell_type": "markdown",
   "metadata": {
    "id": "R2XEkcIU6cjk"
   },
   "source": [
    "null값은 없다."
   ]
  },
  {
   "cell_type": "code",
   "execution_count": 7,
   "metadata": {
    "colab": {
     "base_uri": "https://localhost:8080/"
    },
    "executionInfo": {
     "elapsed": 338,
     "status": "ok",
     "timestamp": 1631441977317,
     "user": {
      "displayName": "주지훈",
      "photoUrl": "https://lh3.googleusercontent.com/a-/AOh14GgnjbaDpNhn_mDPYJoIka_vS6AaIKXR_ORlzWo0dg4=s64",
      "userId": "14418915057819099798"
     },
     "user_tz": -540
    },
    "id": "CQIDlBmq6fG7",
    "outputId": "8cff39fc-85d0-42ba-d9b9-e57e2755fe3b"
   },
   "outputs": [
    {
     "data": {
      "text/plain": [
       "5169"
      ]
     },
     "execution_count": 7,
     "metadata": {},
     "output_type": "execute_result"
    }
   ],
   "source": [
    "# 중복 데이터 확인\n",
    "spam['v2'].nunique()"
   ]
  },
  {
   "cell_type": "markdown",
   "metadata": {
    "id": "vymfl92X6kkh"
   },
   "source": [
    "총 데이터의 개수는 5572개이기 때문에 총 403개의 중복값이 존재한다."
   ]
  },
  {
   "cell_type": "code",
   "execution_count": 8,
   "metadata": {
    "colab": {
     "base_uri": "https://localhost:8080/"
    },
    "executionInfo": {
     "elapsed": 327,
     "status": "ok",
     "timestamp": 1631441979693,
     "user": {
      "displayName": "주지훈",
      "photoUrl": "https://lh3.googleusercontent.com/a-/AOh14GgnjbaDpNhn_mDPYJoIka_vS6AaIKXR_ORlzWo0dg4=s64",
      "userId": "14418915057819099798"
     },
     "user_tz": -540
    },
    "id": "2x9YDCxT6mpj",
    "outputId": "1f224e4d-430d-4e36-ec9d-f35f6e96f9de"
   },
   "outputs": [
    {
     "data": {
      "text/plain": [
       "5169"
      ]
     },
     "execution_count": 8,
     "metadata": {},
     "output_type": "execute_result"
    }
   ],
   "source": [
    "# 중복 데이터 제거\n",
    "spam.drop_duplicates(subset=['v2'], inplace=True)\n",
    "len(spam)"
   ]
  },
  {
   "cell_type": "code",
   "execution_count": 9,
   "metadata": {
    "colab": {
     "base_uri": "https://localhost:8080/",
     "height": 408
    },
    "executionInfo": {
     "elapsed": 349,
     "status": "ok",
     "timestamp": 1631441982233,
     "user": {
      "displayName": "주지훈",
      "photoUrl": "https://lh3.googleusercontent.com/a-/AOh14GgnjbaDpNhn_mDPYJoIka_vS6AaIKXR_ORlzWo0dg4=s64",
      "userId": "14418915057819099798"
     },
     "user_tz": -540
    },
    "id": "PxoUkimP6r0-",
    "outputId": "6ad69f00-f910-47be-80b4-5ea71e84f995"
   },
   "outputs": [
    {
     "data": {
      "text/html": [
       "<div>\n",
       "<style scoped>\n",
       "    .dataframe tbody tr th:only-of-type {\n",
       "        vertical-align: middle;\n",
       "    }\n",
       "\n",
       "    .dataframe tbody tr th {\n",
       "        vertical-align: top;\n",
       "    }\n",
       "\n",
       "    .dataframe thead th {\n",
       "        text-align: right;\n",
       "    }\n",
       "</style>\n",
       "<table border=\"1\" class=\"dataframe\">\n",
       "  <thead>\n",
       "    <tr style=\"text-align: right;\">\n",
       "      <th></th>\n",
       "      <th>index</th>\n",
       "      <th>v1</th>\n",
       "      <th>v2</th>\n",
       "    </tr>\n",
       "  </thead>\n",
       "  <tbody>\n",
       "    <tr>\n",
       "      <th>0</th>\n",
       "      <td>0</td>\n",
       "      <td>0</td>\n",
       "      <td>Go until jurong point, crazy.. Available only ...</td>\n",
       "    </tr>\n",
       "    <tr>\n",
       "      <th>1</th>\n",
       "      <td>1</td>\n",
       "      <td>0</td>\n",
       "      <td>Ok lar... Joking wif u oni...</td>\n",
       "    </tr>\n",
       "    <tr>\n",
       "      <th>2</th>\n",
       "      <td>2</td>\n",
       "      <td>1</td>\n",
       "      <td>Free entry in 2 a wkly comp to win FA Cup fina...</td>\n",
       "    </tr>\n",
       "    <tr>\n",
       "      <th>3</th>\n",
       "      <td>3</td>\n",
       "      <td>0</td>\n",
       "      <td>U dun say so early hor... U c already then say...</td>\n",
       "    </tr>\n",
       "    <tr>\n",
       "      <th>4</th>\n",
       "      <td>4</td>\n",
       "      <td>0</td>\n",
       "      <td>Nah I don't think he goes to usf, he lives aro...</td>\n",
       "    </tr>\n",
       "    <tr>\n",
       "      <th>...</th>\n",
       "      <td>...</td>\n",
       "      <td>...</td>\n",
       "      <td>...</td>\n",
       "    </tr>\n",
       "    <tr>\n",
       "      <th>5164</th>\n",
       "      <td>5567</td>\n",
       "      <td>1</td>\n",
       "      <td>This is the 2nd time we have tried 2 contact u...</td>\n",
       "    </tr>\n",
       "    <tr>\n",
       "      <th>5165</th>\n",
       "      <td>5568</td>\n",
       "      <td>0</td>\n",
       "      <td>Will Ì_ b going to esplanade fr home?</td>\n",
       "    </tr>\n",
       "    <tr>\n",
       "      <th>5166</th>\n",
       "      <td>5569</td>\n",
       "      <td>0</td>\n",
       "      <td>Pity, * was in mood for that. So...any other s...</td>\n",
       "    </tr>\n",
       "    <tr>\n",
       "      <th>5167</th>\n",
       "      <td>5570</td>\n",
       "      <td>0</td>\n",
       "      <td>The guy did some bitching but I acted like i'd...</td>\n",
       "    </tr>\n",
       "    <tr>\n",
       "      <th>5168</th>\n",
       "      <td>5571</td>\n",
       "      <td>0</td>\n",
       "      <td>Rofl. Its true to its name</td>\n",
       "    </tr>\n",
       "  </tbody>\n",
       "</table>\n",
       "<p>5169 rows × 3 columns</p>\n",
       "</div>"
      ],
      "text/plain": [
       "      index  v1                                                 v2\n",
       "0         0   0  Go until jurong point, crazy.. Available only ...\n",
       "1         1   0                      Ok lar... Joking wif u oni...\n",
       "2         2   1  Free entry in 2 a wkly comp to win FA Cup fina...\n",
       "3         3   0  U dun say so early hor... U c already then say...\n",
       "4         4   0  Nah I don't think he goes to usf, he lives aro...\n",
       "...     ...  ..                                                ...\n",
       "5164   5567   1  This is the 2nd time we have tried 2 contact u...\n",
       "5165   5568   0              Will Ì_ b going to esplanade fr home?\n",
       "5166   5569   0  Pity, * was in mood for that. So...any other s...\n",
       "5167   5570   0  The guy did some bitching but I acted like i'd...\n",
       "5168   5571   0                         Rofl. Its true to its name\n",
       "\n",
       "[5169 rows x 3 columns]"
      ]
     },
     "execution_count": 9,
     "metadata": {},
     "output_type": "execute_result"
    }
   ],
   "source": [
    "spam = spam.reset_index()\n",
    "spam"
   ]
  },
  {
   "cell_type": "code",
   "execution_count": 10,
   "metadata": {
    "colab": {
     "base_uri": "https://localhost:8080/",
     "height": 280
    },
    "executionInfo": {
     "elapsed": 355,
     "status": "ok",
     "timestamp": 1631441984533,
     "user": {
      "displayName": "주지훈",
      "photoUrl": "https://lh3.googleusercontent.com/a-/AOh14GgnjbaDpNhn_mDPYJoIka_vS6AaIKXR_ORlzWo0dg4=s64",
      "userId": "14418915057819099798"
     },
     "user_tz": -540
    },
    "id": "8Chx6csg6zgW",
    "outputId": "44315af4-73fe-4ca6-8e90-57b8e9240b1d"
   },
   "outputs": [
    {
     "data": {
      "text/plain": [
       "<matplotlib.axes._subplots.AxesSubplot at 0x7f29ab8aa9d0>"
      ]
     },
     "execution_count": 10,
     "metadata": {},
     "output_type": "execute_result"
    },
    {
     "data": {
      "image/png": "[encoded data removed]",
      "text/plain": [
       "<Figure size 432x288 with 1 Axes>"
      ]
     },
     "metadata": {
      "needs_background": "light"
     },
     "output_type": "display_data"
    }
   ],
   "source": [
    "# 데이터의 분포 확인\n",
    "spam['v1'].value_counts().plot(kind='bar')"
   ]
  },
  {
   "cell_type": "code",
   "execution_count": 11,
   "metadata": {
    "executionInfo": {
     "elapsed": 350,
     "status": "ok",
     "timestamp": 1631441990218,
     "user": {
      "displayName": "주지훈",
      "photoUrl": "https://lh3.googleusercontent.com/a-/AOh14GgnjbaDpNhn_mDPYJoIka_vS6AaIKXR_ORlzWo0dg4=s64",
      "userId": "14418915057819099798"
     },
     "user_tz": -540
    },
    "id": "FmNyVFXu63pL"
   },
   "outputs": [],
   "source": [
    "# 특수 문자 제거 및 소문자로 변경\n",
    "import re\n",
    "\n",
    "def cleanText(data):\n",
    "  text = re.sub('[^a-zA-Z]', ' ', data).lower()\n",
    "  return text\n",
    "\n",
    "spam.v2 = spam.v2.apply(cleanText)"
   ]
  },
  {
   "cell_type": "code",
   "execution_count": 12,
   "metadata": {
    "colab": {
     "base_uri": "https://localhost:8080/",
     "height": 52
    },
    "executionInfo": {
     "elapsed": 377,
     "status": "ok",
     "timestamp": 1631441993165,
     "user": {
      "displayName": "주지훈",
      "photoUrl": "https://lh3.googleusercontent.com/a-/AOh14GgnjbaDpNhn_mDPYJoIka_vS6AaIKXR_ORlzWo0dg4=s64",
      "userId": "14418915057819099798"
     },
     "user_tz": -540
    },
    "id": "uooFSIXP7CBW",
    "outputId": "d7015c62-4a03-4f81-f13a-653ed80727a6"
   },
   "outputs": [
    {
     "data": {
      "application/vnd.google.colaboratory.intrinsic+json": {
       "type": "string"
      },
      "text/plain": [
       "'freemsg hey there darling it s been   week s now and no word back  i d like some fun you up for it still  tb ok  xxx std chgs to send         to rcv'"
      ]
     },
     "execution_count": 12,
     "metadata": {},
     "output_type": "execute_result"
    }
   ],
   "source": [
    "# 확인\n",
    "spam.iloc[5]['v2']"
   ]
  },
  {
   "cell_type": "markdown",
   "metadata": {
    "id": "ZbRLf2-B5ynQ"
   },
   "source": [
    "## Tokenizing\n"
   ]
  },
  {
   "cell_type": "code",
   "execution_count": 13,
   "metadata": {
    "executionInfo": {
     "elapsed": 1229,
     "status": "ok",
     "timestamp": 1631441996896,
     "user": {
      "displayName": "주지훈",
      "photoUrl": "https://lh3.googleusercontent.com/a-/AOh14GgnjbaDpNhn_mDPYJoIka_vS6AaIKXR_ORlzWo0dg4=s64",
      "userId": "14418915057819099798"
     },
     "user_tz": -540
    },
    "id": "nNe_8-5X5ynQ"
   },
   "outputs": [],
   "source": [
    "import nltk"
   ]
  },
  {
   "cell_type": "code",
   "execution_count": 14,
   "metadata": {
    "colab": {
     "base_uri": "https://localhost:8080/"
    },
    "executionInfo": {
     "elapsed": 930,
     "status": "ok",
     "timestamp": 1631441998866,
     "user": {
      "displayName": "주지훈",
      "photoUrl": "https://lh3.googleusercontent.com/a-/AOh14GgnjbaDpNhn_mDPYJoIka_vS6AaIKXR_ORlzWo0dg4=s64",
      "userId": "14418915057819099798"
     },
     "user_tz": -540
    },
    "id": "j29IgED55ynQ",
    "outputId": "48aabf97-41e3-4ade-d186-ae6377b80e5e"
   },
   "outputs": [
    {
     "name": "stdout",
     "output_type": "stream",
     "text": [
      "[nltk_data] Downloading package punkt to /root/nltk_data...\n",
      "[nltk_data]   Unzipping tokenizers/punkt.zip.\n"
     ]
    },
    {
     "data": {
      "text/plain": [
       "['freemsg',\n",
       " 'hey',\n",
       " 'there',\n",
       " 'darling',\n",
       " 'it',\n",
       " 's',\n",
       " 'been',\n",
       " 'week',\n",
       " 's',\n",
       " 'now',\n",
       " 'and',\n",
       " 'no',\n",
       " 'word',\n",
       " 'back',\n",
       " 'i',\n",
       " 'd',\n",
       " 'like',\n",
       " 'some',\n",
       " 'fun',\n",
       " 'you',\n",
       " 'up',\n",
       " 'for',\n",
       " 'it',\n",
       " 'still',\n",
       " 'tb',\n",
       " 'ok',\n",
       " 'xxx',\n",
       " 'std',\n",
       " 'chgs',\n",
       " 'to',\n",
       " 'send',\n",
       " 'to',\n",
       " 'rcv']"
      ]
     },
     "execution_count": 14,
     "metadata": {},
     "output_type": "execute_result"
    }
   ],
   "source": [
    "# 예시 코드 코드\n",
    "from nltk.tokenize import word_tokenize\n",
    "\n",
    "nltk.download('punkt')\n",
    "word_tokenize(spam.iloc[5]['v2'])"
   ]
  },
  {
   "cell_type": "code",
   "execution_count": 15,
   "metadata": {
    "colab": {
     "base_uri": "https://localhost:8080/"
    },
    "executionInfo": {
     "elapsed": 315,
     "status": "ok",
     "timestamp": 1631442002372,
     "user": {
      "displayName": "주지훈",
      "photoUrl": "https://lh3.googleusercontent.com/a-/AOh14GgnjbaDpNhn_mDPYJoIka_vS6AaIKXR_ORlzWo0dg4=s64",
      "userId": "14418915057819099798"
     },
     "user_tz": -540
    },
    "id": "X_T52JNU5ynR",
    "outputId": "97724e41-d593-4cb1-9cd8-62e82aee24f2"
   },
   "outputs": [
    {
     "name": "stdout",
     "output_type": "stream",
     "text": [
      "[nltk_data] Downloading package stopwords to /root/nltk_data...\n",
      "[nltk_data]   Unzipping corpora/stopwords.zip.\n",
      "{'again', 'when', 'not', 'hasn', 'did', 'will', 'y', 'nor', 'does', 'few', 'do', 'wouldn', 'was', 'above', 'myself', 'her', 'that', 'further', \"wasn't\", 'against', 'can', 'until', 'herself', 'other', \"isn't\", 'off', \"mightn't\", 'them', 'doing', \"wouldn't\", 'how', 'by', \"won't\", 'into', 't', 'each', 'couldn', 'too', 'at', 'ours', \"you'd\", 'theirs', 'shouldn', 'isn', \"shouldn't\", 'during', 'mightn', 'wasn', 'm', 'own', 'o', 'below', 'be', 'ourselves', 'yourselves', 'between', 'its', 'has', 'here', 'won', 'with', 'is', \"didn't\", 'same', 'from', 'having', \"hasn't\", 'haven', 'out', 'this', 'mustn', 'being', 'which', 'his', 'were', 'about', 'both', \"hadn't\", \"aren't\", 'after', 'yours', 'some', 'himself', 'but', 'me', 'most', 've', 'needn', 'then', 'or', 'hadn', 'have', 'to', 'before', 'didn', 'ma', 'who', 'any', 'what', \"she's\", 'doesn', \"haven't\", \"doesn't\", 'd', 'in', 'i', 's', 'down', 'my', 'through', 'had', 'it', 'why', 'those', 'all', 'itself', 'and', 'we', 'he', 'of', 'more', \"it's\", 'these', 'are', 'our', \"needn't\", 'hers', \"couldn't\", 'such', 'so', 'their', 'as', 'they', 'if', 'for', 'him', 'over', 'don', 'while', 're', 'very', 'she', 'ain', 'no', 'been', 'under', \"that'll\", \"should've\", 'up', \"don't\", \"you've\", 'than', 'should', 'there', 'you', 'once', 'your', 'll', 'just', 'yourself', 'aren', 'because', 'an', \"shan't\", 'weren', \"mustn't\", 'am', 'shan', 'on', 'themselves', \"you'll\", 'whom', 'the', \"you're\", 'now', 'a', \"weren't\", 'where', 'only'}\n"
     ]
    }
   ],
   "source": [
    "# 영어 불용어 리스트\n",
    "nltk.download('stopwords')\n",
    "from nltk.corpus import stopwords\n",
    "\n",
    "stop_words = set(stopwords.words('english')) \n",
    "print(stop_words)"
   ]
  },
  {
   "cell_type": "markdown",
   "metadata": {
    "id": "wes0eLJt7VoV"
   },
   "source": [
    "### word_tokenize"
   ]
  },
  {
   "cell_type": "code",
   "execution_count": 16,
   "metadata": {
    "colab": {
     "base_uri": "https://localhost:8080/",
     "height": 408
    },
    "executionInfo": {
     "elapsed": 867,
     "status": "ok",
     "timestamp": 1631442008186,
     "user": {
      "displayName": "주지훈",
      "photoUrl": "https://lh3.googleusercontent.com/a-/AOh14GgnjbaDpNhn_mDPYJoIka_vS6AaIKXR_ORlzWo0dg4=s64",
      "userId": "14418915057819099798"
     },
     "user_tz": -540
    },
    "id": "YJLQgAOk5ynR",
    "outputId": "62100134-e660-46ed-9945-4883fe8e9d62"
   },
   "outputs": [
    {
     "data": {
      "text/html": [
       "<div>\n",
       "<style scoped>\n",
       "    .dataframe tbody tr th:only-of-type {\n",
       "        vertical-align: middle;\n",
       "    }\n",
       "\n",
       "    .dataframe tbody tr th {\n",
       "        vertical-align: top;\n",
       "    }\n",
       "\n",
       "    .dataframe thead th {\n",
       "        text-align: right;\n",
       "    }\n",
       "</style>\n",
       "<table border=\"1\" class=\"dataframe\">\n",
       "  <thead>\n",
       "    <tr style=\"text-align: right;\">\n",
       "      <th></th>\n",
       "      <th>index</th>\n",
       "      <th>v1</th>\n",
       "      <th>v2</th>\n",
       "    </tr>\n",
       "  </thead>\n",
       "  <tbody>\n",
       "    <tr>\n",
       "      <th>0</th>\n",
       "      <td>0</td>\n",
       "      <td>0</td>\n",
       "      <td>[go, jurong, point, crazy, available, bugis, n...</td>\n",
       "    </tr>\n",
       "    <tr>\n",
       "      <th>1</th>\n",
       "      <td>1</td>\n",
       "      <td>0</td>\n",
       "      <td>[ok, lar, joking, wif, u, oni]</td>\n",
       "    </tr>\n",
       "    <tr>\n",
       "      <th>2</th>\n",
       "      <td>2</td>\n",
       "      <td>1</td>\n",
       "      <td>[free, entry, wkly, comp, win, fa, cup, final,...</td>\n",
       "    </tr>\n",
       "    <tr>\n",
       "      <th>3</th>\n",
       "      <td>3</td>\n",
       "      <td>0</td>\n",
       "      <td>[u, dun, say, early, hor, u, c, already, say]</td>\n",
       "    </tr>\n",
       "    <tr>\n",
       "      <th>4</th>\n",
       "      <td>4</td>\n",
       "      <td>0</td>\n",
       "      <td>[nah, think, goes, usf, lives, around, though]</td>\n",
       "    </tr>\n",
       "    <tr>\n",
       "      <th>...</th>\n",
       "      <td>...</td>\n",
       "      <td>...</td>\n",
       "      <td>...</td>\n",
       "    </tr>\n",
       "    <tr>\n",
       "      <th>5164</th>\n",
       "      <td>5567</td>\n",
       "      <td>1</td>\n",
       "      <td>[nd, time, tried, contact, u, u, pound, prize,...</td>\n",
       "    </tr>\n",
       "    <tr>\n",
       "      <th>5165</th>\n",
       "      <td>5568</td>\n",
       "      <td>0</td>\n",
       "      <td>[b, going, esplanade, fr, home]</td>\n",
       "    </tr>\n",
       "    <tr>\n",
       "      <th>5166</th>\n",
       "      <td>5569</td>\n",
       "      <td>0</td>\n",
       "      <td>[pity, mood, suggestions]</td>\n",
       "    </tr>\n",
       "    <tr>\n",
       "      <th>5167</th>\n",
       "      <td>5570</td>\n",
       "      <td>0</td>\n",
       "      <td>[guy, bitching, acted, like, interested, buyin...</td>\n",
       "    </tr>\n",
       "    <tr>\n",
       "      <th>5168</th>\n",
       "      <td>5571</td>\n",
       "      <td>0</td>\n",
       "      <td>[rofl, true, name]</td>\n",
       "    </tr>\n",
       "  </tbody>\n",
       "</table>\n",
       "<p>5169 rows × 3 columns</p>\n",
       "</div>"
      ],
      "text/plain": [
       "      index  v1                                                 v2\n",
       "0         0   0  [go, jurong, point, crazy, available, bugis, n...\n",
       "1         1   0                     [ok, lar, joking, wif, u, oni]\n",
       "2         2   1  [free, entry, wkly, comp, win, fa, cup, final,...\n",
       "3         3   0      [u, dun, say, early, hor, u, c, already, say]\n",
       "4         4   0     [nah, think, goes, usf, lives, around, though]\n",
       "...     ...  ..                                                ...\n",
       "5164   5567   1  [nd, time, tried, contact, u, u, pound, prize,...\n",
       "5165   5568   0                    [b, going, esplanade, fr, home]\n",
       "5166   5569   0                          [pity, mood, suggestions]\n",
       "5167   5570   0  [guy, bitching, acted, like, interested, buyin...\n",
       "5168   5571   0                                 [rofl, true, name]\n",
       "\n",
       "[5169 rows x 3 columns]"
      ]
     },
     "execution_count": 16,
     "metadata": {},
     "output_type": "execute_result"
    }
   ],
   "source": [
    "wd_test = spam.copy()\n",
    "result=[]\n",
    "for row in wd_test.v2:\n",
    "  tokenize = word_tokenize(row)\n",
    "  words = [word for word in tokenize if word not in stop_words] # 불용어 제거\n",
    "  result.append(words)\n",
    "\n",
    "wd_test.v2 = result\n",
    "wd_test"
   ]
  },
  {
   "cell_type": "code",
   "execution_count": 17,
   "metadata": {
    "executionInfo": {
     "elapsed": 333,
     "status": "ok",
     "timestamp": 1631442009991,
     "user": {
      "displayName": "주지훈",
      "photoUrl": "https://lh3.googleusercontent.com/a-/AOh14GgnjbaDpNhn_mDPYJoIka_vS6AaIKXR_ORlzWo0dg4=s64",
      "userId": "14418915057819099798"
     },
     "user_tz": -540
    },
    "id": "cttFBHaz7v4m"
   },
   "outputs": [],
   "source": [
    "def tokenizing(tokenizer):\n",
    "  result=[]\n",
    "  for row in spam.v2:\n",
    "    tokenize = tokenizer.tokenize(row)\n",
    "    words = [word for word in tokenize if word not in stop_words] # 불용어 제거\n",
    "    result.append(words)\n",
    "  return result"
   ]
  },
  {
   "cell_type": "markdown",
   "metadata": {
    "id": "Mi_fnqs47jbz"
   },
   "source": [
    "### TreebankWordTokenizer"
   ]
  },
  {
   "cell_type": "code",
   "execution_count": 18,
   "metadata": {
    "colab": {
     "base_uri": "https://localhost:8080/"
    },
    "executionInfo": {
     "elapsed": 458,
     "status": "ok",
     "timestamp": 1631442013117,
     "user": {
      "displayName": "주지훈",
      "photoUrl": "https://lh3.googleusercontent.com/a-/AOh14GgnjbaDpNhn_mDPYJoIka_vS6AaIKXR_ORlzWo0dg4=s64",
      "userId": "14418915057819099798"
     },
     "user_tz": -540
    },
    "id": "1lbAejbG7l9H",
    "outputId": "d7bf1a89-e3ed-4791-b8d6-67c9b2fc1926"
   },
   "outputs": [
    {
     "name": "stdout",
     "output_type": "stream",
     "text": [
      "      index  v1                                                 v2\n",
      "0         0   0  [go, jurong, point, crazy, available, bugis, n...\n",
      "1         1   0                     [ok, lar, joking, wif, u, oni]\n",
      "2         2   1  [free, entry, wkly, comp, win, fa, cup, final,...\n",
      "3         3   0      [u, dun, say, early, hor, u, c, already, say]\n",
      "4         4   0     [nah, think, goes, usf, lives, around, though]\n",
      "...     ...  ..                                                ...\n",
      "5164   5567   1  [nd, time, tried, contact, u, u, pound, prize,...\n",
      "5165   5568   0                    [b, going, esplanade, fr, home]\n",
      "5166   5569   0                          [pity, mood, suggestions]\n",
      "5167   5570   0  [guy, bitching, acted, like, interested, buyin...\n",
      "5168   5571   0                                 [rofl, true, name]\n",
      "\n",
      "[5169 rows x 3 columns]\n"
     ]
    }
   ],
   "source": [
    "from nltk.tokenize import TreebankWordTokenizer\n",
    "\n",
    "tb_test = spam.copy()\n",
    "tb_test.v2 = tokenizing(TreebankWordTokenizer())\n",
    "print(tb_test)"
   ]
  },
  {
   "cell_type": "markdown",
   "metadata": {
    "id": "6IXmNQee71Nl"
   },
   "source": [
    "### WordPunctTokenizer"
   ]
  },
  {
   "cell_type": "code",
   "execution_count": 19,
   "metadata": {
    "colab": {
     "base_uri": "https://localhost:8080/"
    },
    "executionInfo": {
     "elapsed": 312,
     "status": "ok",
     "timestamp": 1631442032460,
     "user": {
      "displayName": "주지훈",
      "photoUrl": "https://lh3.googleusercontent.com/a-/AOh14GgnjbaDpNhn_mDPYJoIka_vS6AaIKXR_ORlzWo0dg4=s64",
      "userId": "14418915057819099798"
     },
     "user_tz": -540
    },
    "id": "DeNWSSvL735D",
    "outputId": "a264ce6d-be04-413f-dcc7-defdbfe9f1c6"
   },
   "outputs": [
    {
     "name": "stdout",
     "output_type": "stream",
     "text": [
      "      index  v1                                                 v2\n",
      "0         0   0  [go, jurong, point, crazy, available, bugis, n...\n",
      "1         1   0                     [ok, lar, joking, wif, u, oni]\n",
      "2         2   1  [free, entry, wkly, comp, win, fa, cup, final,...\n",
      "3         3   0      [u, dun, say, early, hor, u, c, already, say]\n",
      "4         4   0     [nah, think, goes, usf, lives, around, though]\n",
      "...     ...  ..                                                ...\n",
      "5164   5567   1  [nd, time, tried, contact, u, u, pound, prize,...\n",
      "5165   5568   0                    [b, going, esplanade, fr, home]\n",
      "5166   5569   0                          [pity, mood, suggestions]\n",
      "5167   5570   0  [guy, bitching, acted, like, interested, buyin...\n",
      "5168   5571   0                                 [rofl, true, name]\n",
      "\n",
      "[5169 rows x 3 columns]\n"
     ]
    }
   ],
   "source": [
    "from nltk.tokenize import WordPunctTokenizer\n",
    "\n",
    "wp_test = spam.copy()\n",
    "wp_test.v2 = tokenizing(WordPunctTokenizer())\n",
    "print(wp_test)"
   ]
  },
  {
   "cell_type": "markdown",
   "metadata": {
    "id": "17q9i76x77bk"
   },
   "source": [
    "### MosesTokenizer"
   ]
  },
  {
   "cell_type": "code",
   "execution_count": 20,
   "metadata": {
    "colab": {
     "base_uri": "https://localhost:8080/"
    },
    "executionInfo": {
     "elapsed": 1087,
     "status": "ok",
     "timestamp": 1631442035252,
     "user": {
      "displayName": "주지훈",
      "photoUrl": "https://lh3.googleusercontent.com/a-/AOh14GgnjbaDpNhn_mDPYJoIka_vS6AaIKXR_ORlzWo0dg4=s64",
      "userId": "14418915057819099798"
     },
     "user_tz": -540
    },
    "id": "7nB7mOeh79Qn",
    "outputId": "29ce6665-3d54-4f66-ecff-62dd1dfe1392"
   },
   "outputs": [
    {
     "name": "stdout",
     "output_type": "stream",
     "text": [
      "[nltk_data] Downloading package perluniprops to /root/nltk_data...\n",
      "[nltk_data]   Unzipping misc/perluniprops.zip.\n",
      "[nltk_data] Downloading package nonbreaking_prefixes to\n",
      "[nltk_data]     /root/nltk_data...\n",
      "[nltk_data]   Unzipping corpora/nonbreaking_prefixes.zip.\n",
      "      index  v1                                                 v2\n",
      "0         0   0  [go, jurong, point, crazy, available, bugis, n...\n",
      "1         1   0                     [ok, lar, joking, wif, u, oni]\n",
      "2         2   1  [free, entry, wkly, comp, win, fa, cup, final,...\n",
      "3         3   0      [u, dun, say, early, hor, u, c, already, say]\n",
      "4         4   0     [nah, think, goes, usf, lives, around, though]\n",
      "...     ...  ..                                                ...\n",
      "5164   5567   1  [nd, time, tried, contact, u, u, pound, prize,...\n",
      "5165   5568   0                    [b, going, esplanade, fr, home]\n",
      "5166   5569   0                          [pity, mood, suggestions]\n",
      "5167   5570   0  [guy, bitching, acted, like, interested, buyin...\n",
      "5168   5571   0                                 [rofl, true, name]\n",
      "\n",
      "[5169 rows x 3 columns]\n"
     ]
    }
   ],
   "source": [
    "nltk.download('perluniprops')\n",
    "nltk.download('nonbreaking_prefixes')\n",
    "from nltk.tokenize.moses import MosesTokenizer\n",
    "\n",
    "mt_test = spam.copy()\n",
    "mt_test.v2 = tokenizing(MosesTokenizer())\n",
    "print(mt_test)"
   ]
  },
  {
   "cell_type": "markdown",
   "metadata": {
    "id": "rfPWUY9v8A8T"
   },
   "source": [
    "### 결과 비교"
   ]
  },
  {
   "cell_type": "code",
   "execution_count": 21,
   "metadata": {
    "colab": {
     "base_uri": "https://localhost:8080/",
     "height": 225
    },
    "executionInfo": {
     "elapsed": 6,
     "status": "ok",
     "timestamp": 1631442037580,
     "user": {
      "displayName": "주지훈",
      "photoUrl": "https://lh3.googleusercontent.com/a-/AOh14GgnjbaDpNhn_mDPYJoIka_vS6AaIKXR_ORlzWo0dg4=s64",
      "userId": "14418915057819099798"
     },
     "user_tz": -540
    },
    "id": "_ZgeAGgwBnKi",
    "outputId": "7a0d0450-84c5-4427-9b13-54b0871d3d0a"
   },
   "outputs": [
    {
     "name": "stderr",
     "output_type": "stream",
     "text": [
      "/usr/local/lib/python3.7/dist-packages/ipykernel_launcher.py:1: FutureWarning: Passing a negative integer is deprecated in version 1.0 and will not be supported in future version. Instead, use None to not limit the column width.\n",
      "  \"\"\"Entry point for launching an IPython kernel.\n"
     ]
    },
    {
     "data": {
      "text/html": [
       "<div>\n",
       "<style scoped>\n",
       "    .dataframe tbody tr th:only-of-type {\n",
       "        vertical-align: middle;\n",
       "    }\n",
       "\n",
       "    .dataframe tbody tr th {\n",
       "        vertical-align: top;\n",
       "    }\n",
       "\n",
       "    .dataframe thead th {\n",
       "        text-align: right;\n",
       "    }\n",
       "</style>\n",
       "<table border=\"1\" class=\"dataframe\">\n",
       "  <thead>\n",
       "    <tr style=\"text-align: right;\">\n",
       "      <th></th>\n",
       "      <th>Tokenizer</th>\n",
       "      <th>result</th>\n",
       "    </tr>\n",
       "  </thead>\n",
       "  <tbody>\n",
       "    <tr>\n",
       "      <th>0</th>\n",
       "      <td>word_tokenize</td>\n",
       "      <td>[freemsg, hey, darling, week, word, back, like, fun, still, tb, ok, xxx, std, chgs, send, rcv]</td>\n",
       "    </tr>\n",
       "    <tr>\n",
       "      <th>1</th>\n",
       "      <td>TreebankWordTokenizer</td>\n",
       "      <td>[freemsg, hey, darling, week, word, back, like, fun, still, tb, ok, xxx, std, chgs, send, rcv]</td>\n",
       "    </tr>\n",
       "    <tr>\n",
       "      <th>2</th>\n",
       "      <td>WordPunctTokenizer</td>\n",
       "      <td>[freemsg, hey, darling, week, word, back, like, fun, still, tb, ok, xxx, std, chgs, send, rcv]</td>\n",
       "    </tr>\n",
       "    <tr>\n",
       "      <th>3</th>\n",
       "      <td>MosesTokenizer</td>\n",
       "      <td>[freemsg, hey, darling, week, word, back, like, fun, still, tb, ok, xxx, std, chgs, send, rcv]</td>\n",
       "    </tr>\n",
       "  </tbody>\n",
       "</table>\n",
       "</div>"
      ],
      "text/plain": [
       "               Tokenizer                                                                                          result\n",
       "0  word_tokenize          [freemsg, hey, darling, week, word, back, like, fun, still, tb, ok, xxx, std, chgs, send, rcv]\n",
       "1  TreebankWordTokenizer  [freemsg, hey, darling, week, word, back, like, fun, still, tb, ok, xxx, std, chgs, send, rcv]\n",
       "2  WordPunctTokenizer     [freemsg, hey, darling, week, word, back, like, fun, still, tb, ok, xxx, std, chgs, send, rcv]\n",
       "3  MosesTokenizer         [freemsg, hey, darling, week, word, back, like, fun, still, tb, ok, xxx, std, chgs, send, rcv]"
      ]
     },
     "execution_count": 21,
     "metadata": {},
     "output_type": "execute_result"
    }
   ],
   "source": [
    "pd.set_option('display.max_colwidth', -1) # 전체 출력\n",
    "\n",
    "result_tokenizing = pd.DataFrame([['word_tokenize', wd_test.iloc[5]['v2']],\n",
    "                      ['TreebankWordTokenizer', tb_test.iloc[5]['v2']],\n",
    "                      ['WordPunctTokenizer', wp_test.iloc[5]['v2']],\n",
    "                      ['MosesTokenizer', mt_test.iloc[5]['v2']]], columns = ['Tokenizer', 'result'])\n",
    "result_tokenizing"
   ]
  },
  {
   "cell_type": "markdown",
   "metadata": {
    "id": "d_UKU12vEk94"
   },
   "source": [
    "이외에도 여러 행을 비교해봤지만 결과는 모두 같았다. 특수문자와 불용어를 제거했기 때문에 결과에 큰 차이가 없는 것으로 보인다. \n",
    "따라서 MosesTokenizer로 선택했다."
   ]
  },
  {
   "cell_type": "markdown",
   "metadata": {
    "id": "KAmQ9gEy5ynR"
   },
   "source": [
    "## Embedding\n",
    "\n",
    "- 수업에서 다룬 임베딩 방법에는 One-hot encoding, CBOW, Skip-gram, GloVe, FastText가 있었습니다. 다양한 시도와 '비교' 결과를 함께 적어주세요! 파라미터를 조정해가는 과정도 해석에 도움이 될 수 있겠죠 :)"
   ]
  },
  {
   "cell_type": "markdown",
   "metadata": {
    "id": "6E7I9_05VxjB"
   },
   "source": [
    "### 토큰 빈도수"
   ]
  },
  {
   "cell_type": "code",
   "execution_count": 22,
   "metadata": {
    "executionInfo": {
     "elapsed": 465,
     "status": "ok",
     "timestamp": 1631442054637,
     "user": {
      "displayName": "주지훈",
      "photoUrl": "https://lh3.googleusercontent.com/a-/AOh14GgnjbaDpNhn_mDPYJoIka_vS6AaIKXR_ORlzWo0dg4=s64",
      "userId": "14418915057819099798"
     },
     "user_tz": -540
    },
    "id": "ss5etv3NSYUZ"
   },
   "outputs": [],
   "source": [
    "from sklearn.feature_extraction.text import CountVectorizer\n",
    "\n",
    "# 정상 메일 토큰 빈도수\n",
    "ct_vector1 = CountVectorizer(max_features= 500, stop_words = 'english', lowercase= False)\n",
    "corpus_ham = sum(mt_test[mt_test.v1 == 0]['v2'], []) \n",
    "ct_ham = ct_vector1.fit_transform(corpus_ham)"
   ]
  },
  {
   "cell_type": "code",
   "execution_count": 23,
   "metadata": {
    "colab": {
     "base_uri": "https://localhost:8080/",
     "height": 351
    },
    "executionInfo": {
     "elapsed": 651,
     "status": "ok",
     "timestamp": 1631442057121,
     "user": {
      "displayName": "주지훈",
      "photoUrl": "https://lh3.googleusercontent.com/a-/AOh14GgnjbaDpNhn_mDPYJoIka_vS6AaIKXR_ORlzWo0dg4=s64",
      "userId": "14418915057819099798"
     },
     "user_tz": -540
    },
    "id": "LpONaw6SUDN9",
    "outputId": "f69587d3-6ec0-4c29-c716-d99e768bb581"
   },
   "outputs": [
    {
     "data": {
      "text/html": [
       "<div>\n",
       "<style scoped>\n",
       "    .dataframe tbody tr th:only-of-type {\n",
       "        vertical-align: middle;\n",
       "    }\n",
       "\n",
       "    .dataframe tbody tr th {\n",
       "        vertical-align: top;\n",
       "    }\n",
       "\n",
       "    .dataframe thead th {\n",
       "        text-align: right;\n",
       "    }\n",
       "</style>\n",
       "<table border=\"1\" class=\"dataframe\">\n",
       "  <thead>\n",
       "    <tr style=\"text-align: right;\">\n",
       "      <th></th>\n",
       "      <th>word</th>\n",
       "      <th>count</th>\n",
       "    </tr>\n",
       "  </thead>\n",
       "  <tbody>\n",
       "    <tr>\n",
       "      <th>160</th>\n",
       "      <td>gt</td>\n",
       "      <td>288</td>\n",
       "    </tr>\n",
       "    <tr>\n",
       "      <th>245</th>\n",
       "      <td>lt</td>\n",
       "      <td>287</td>\n",
       "    </tr>\n",
       "    <tr>\n",
       "      <th>298</th>\n",
       "      <td>ok</td>\n",
       "      <td>255</td>\n",
       "    </tr>\n",
       "    <tr>\n",
       "      <th>155</th>\n",
       "      <td>got</td>\n",
       "      <td>227</td>\n",
       "    </tr>\n",
       "    <tr>\n",
       "      <th>212</th>\n",
       "      <td>know</td>\n",
       "      <td>225</td>\n",
       "    </tr>\n",
       "    <tr>\n",
       "      <th>229</th>\n",
       "      <td>like</td>\n",
       "      <td>222</td>\n",
       "    </tr>\n",
       "    <tr>\n",
       "      <th>153</th>\n",
       "      <td>good</td>\n",
       "      <td>215</td>\n",
       "    </tr>\n",
       "    <tr>\n",
       "      <th>67</th>\n",
       "      <td>come</td>\n",
       "      <td>212</td>\n",
       "    </tr>\n",
       "    <tr>\n",
       "      <th>450</th>\n",
       "      <td>ur</td>\n",
       "      <td>198</td>\n",
       "    </tr>\n",
       "    <tr>\n",
       "      <th>426</th>\n",
       "      <td>time</td>\n",
       "      <td>192</td>\n",
       "    </tr>\n",
       "  </tbody>\n",
       "</table>\n",
       "</div>"
      ],
      "text/plain": [
       "     word  count\n",
       "160  gt    288  \n",
       "245  lt    287  \n",
       "298  ok    255  \n",
       "155  got   227  \n",
       "212  know  225  \n",
       "229  like  222  \n",
       "153  good  215  \n",
       "67   come  212  \n",
       "450  ur    198  \n",
       "426  time  192  "
      ]
     },
     "execution_count": 23,
     "metadata": {},
     "output_type": "execute_result"
    }
   ],
   "source": [
    "count_ham = pd.DataFrame( {'word' : ct_vector1.get_feature_names(),\n",
    "                           'count' : ct_ham.sum(axis = 0).flat})\n",
    "count_ham.sort_values('count', ascending = False).head(10) # 상위 10개"
   ]
  },
  {
   "cell_type": "code",
   "execution_count": 24,
   "metadata": {
    "executionInfo": {
     "elapsed": 785,
     "status": "ok",
     "timestamp": 1631442060314,
     "user": {
      "displayName": "주지훈",
      "photoUrl": "https://lh3.googleusercontent.com/a-/AOh14GgnjbaDpNhn_mDPYJoIka_vS6AaIKXR_ORlzWo0dg4=s64",
      "userId": "14418915057819099798"
     },
     "user_tz": -540
    },
    "id": "ScWeNqGbUsqo"
   },
   "outputs": [],
   "source": [
    "# spam 메일 토큰 빈도수\n",
    "ct_vector2 = CountVectorizer(max_features= 500, stop_words = 'english', lowercase= False)\n",
    "corpus_spam = sum(mt_test[mt_test.v1 == 1]['v2'], []) \n",
    "ct_spam = ct_vector2.fit_transform(corpus_spam)"
   ]
  },
  {
   "cell_type": "code",
   "execution_count": 25,
   "metadata": {
    "colab": {
     "base_uri": "https://localhost:8080/",
     "height": 351
    },
    "executionInfo": {
     "elapsed": 6,
     "status": "ok",
     "timestamp": 1631442062149,
     "user": {
      "displayName": "주지훈",
      "photoUrl": "https://lh3.googleusercontent.com/a-/AOh14GgnjbaDpNhn_mDPYJoIka_vS6AaIKXR_ORlzWo0dg4=s64",
      "userId": "14418915057819099798"
     },
     "user_tz": -540
    },
    "id": "ZVT_0QFQU0TY",
    "outputId": "2c5fa1b7-7a4b-41af-fa77-468c54727cea"
   },
   "outputs": [
    {
     "data": {
      "text/html": [
       "<div>\n",
       "<style scoped>\n",
       "    .dataframe tbody tr th:only-of-type {\n",
       "        vertical-align: middle;\n",
       "    }\n",
       "\n",
       "    .dataframe tbody tr th {\n",
       "        vertical-align: top;\n",
       "    }\n",
       "\n",
       "    .dataframe thead th {\n",
       "        text-align: right;\n",
       "    }\n",
       "</style>\n",
       "<table border=\"1\" class=\"dataframe\">\n",
       "  <thead>\n",
       "    <tr style=\"text-align: right;\">\n",
       "      <th></th>\n",
       "      <th>word</th>\n",
       "      <th>count</th>\n",
       "    </tr>\n",
       "  </thead>\n",
       "  <tbody>\n",
       "    <tr>\n",
       "      <th>144</th>\n",
       "      <td>free</td>\n",
       "      <td>197</td>\n",
       "    </tr>\n",
       "    <tr>\n",
       "      <th>437</th>\n",
       "      <td>txt</td>\n",
       "      <td>141</td>\n",
       "    </tr>\n",
       "    <tr>\n",
       "      <th>446</th>\n",
       "      <td>ur</td>\n",
       "      <td>119</td>\n",
       "    </tr>\n",
       "    <tr>\n",
       "      <th>396</th>\n",
       "      <td>stop</td>\n",
       "      <td>114</td>\n",
       "    </tr>\n",
       "    <tr>\n",
       "      <th>251</th>\n",
       "      <td>mobile</td>\n",
       "      <td>111</td>\n",
       "    </tr>\n",
       "    <tr>\n",
       "      <th>415</th>\n",
       "      <td>text</td>\n",
       "      <td>109</td>\n",
       "    </tr>\n",
       "    <tr>\n",
       "      <th>61</th>\n",
       "      <td>claim</td>\n",
       "      <td>96</td>\n",
       "    </tr>\n",
       "    <tr>\n",
       "      <th>345</th>\n",
       "      <td>reply</td>\n",
       "      <td>96</td>\n",
       "    </tr>\n",
       "    <tr>\n",
       "      <th>486</th>\n",
       "      <td>www</td>\n",
       "      <td>83</td>\n",
       "    </tr>\n",
       "    <tr>\n",
       "      <th>322</th>\n",
       "      <td>prize</td>\n",
       "      <td>82</td>\n",
       "    </tr>\n",
       "  </tbody>\n",
       "</table>\n",
       "</div>"
      ],
      "text/plain": [
       "       word  count\n",
       "144  free    197  \n",
       "437  txt     141  \n",
       "446  ur      119  \n",
       "396  stop    114  \n",
       "251  mobile  111  \n",
       "415  text    109  \n",
       "61   claim   96   \n",
       "345  reply   96   \n",
       "486  www     83   \n",
       "322  prize   82   "
      ]
     },
     "execution_count": 25,
     "metadata": {},
     "output_type": "execute_result"
    }
   ],
   "source": [
    "count_spam = pd.DataFrame( {'word' : ct_vector2.get_feature_names(),\n",
    "                           'count' : ct_spam.sum(axis = 0).flat})\n",
    "count_spam.sort_values('count', ascending = False).head(10) # 상위 10개"
   ]
  },
  {
   "cell_type": "markdown",
   "metadata": {
    "id": "eWQ_csTHKy-R"
   },
   "source": [
    "### Word2Vec"
   ]
  },
  {
   "cell_type": "markdown",
   "metadata": {
    "id": "ogr7uWgZyxjQ"
   },
   "source": [
    "#### skip-gram"
   ]
  },
  {
   "cell_type": "code",
   "execution_count": 41,
   "metadata": {
    "executionInfo": {
     "elapsed": 3231,
     "status": "ok",
     "timestamp": 1631444826604,
     "user": {
      "displayName": "주지훈",
      "photoUrl": "https://lh3.googleusercontent.com/a-/AOh14GgnjbaDpNhn_mDPYJoIka_vS6AaIKXR_ORlzWo0dg4=s64",
      "userId": "14418915057819099798"
     },
     "user_tz": -540
    },
    "id": "2FFAFwAtLZ_k"
   },
   "outputs": [],
   "source": [
    "# 스팸에 대해 학습\n",
    "model = Word2Vec(mt_test[mt_test.v1 == 1]['v2'], min_count=5, size=100, window=2, iter=200, sg=1) # skip-gram"
   ]
  },
  {
   "cell_type": "code",
   "execution_count": 42,
   "metadata": {
    "executionInfo": {
     "elapsed": 416,
     "status": "ok",
     "timestamp": 1631444829880,
     "user": {
      "displayName": "주지훈",
      "photoUrl": "https://lh3.googleusercontent.com/a-/AOh14GgnjbaDpNhn_mDPYJoIka_vS6AaIKXR_ORlzWo0dg4=s64",
      "userId": "14418915057819099798"
     },
     "user_tz": -540
    },
    "id": "1A-taBAqK2Vn"
   },
   "outputs": [],
   "source": [
    "model.save('w2v_model_spam')"
   ]
  },
  {
   "cell_type": "code",
   "execution_count": 44,
   "metadata": {
    "executionInfo": {
     "elapsed": 606,
     "status": "ok",
     "timestamp": 1631444864183,
     "user": {
      "displayName": "주지훈",
      "photoUrl": "https://lh3.googleusercontent.com/a-/AOh14GgnjbaDpNhn_mDPYJoIka_vS6AaIKXR_ORlzWo0dg4=s64",
      "userId": "14418915057819099798"
     },
     "user_tz": -540
    },
    "id": "TQkmfl4TK2Yd"
   },
   "outputs": [],
   "source": [
    "w2v_model_spam = Word2Vec.load('w2v_model_spam')"
   ]
  },
  {
   "cell_type": "code",
   "execution_count": 45,
   "metadata": {
    "colab": {
     "base_uri": "https://localhost:8080/",
     "height": 90
    },
    "executionInfo": {
     "elapsed": 345,
     "status": "ok",
     "timestamp": 1631444871911,
     "user": {
      "displayName": "주지훈",
      "photoUrl": "https://lh3.googleusercontent.com/a-/AOh14GgnjbaDpNhn_mDPYJoIka_vS6AaIKXR_ORlzWo0dg4=s64",
      "userId": "14418915057819099798"
     },
     "user_tz": -540
    },
    "id": "lwJIqNLaK2d9",
    "outputId": "721d36a6-e6f1-44fd-e5e6-0818b3512d1d"
   },
   "outputs": [
    {
     "name": "stderr",
     "output_type": "stream",
     "text": [
      "/usr/local/lib/python3.7/dist-packages/gensim/models/keyedvectors.py:895: FutureWarning: arrays to stack must be passed as a \"sequence\" type such as list or tuple. Support for non-sequence iterables such as generators is deprecated as of NumPy 1.16 and will raise an error in the future.\n",
      "  vectors = vstack(self.word_vec(word, use_norm=True) for word in used_words).astype(REAL)\n"
     ]
    },
    {
     "data": {
      "application/vnd.google.colaboratory.intrinsic+json": {
       "type": "string"
      },
      "text/plain": [
       "'claim'"
      ]
     },
     "execution_count": 45,
     "metadata": {},
     "output_type": "execute_result"
    }
   ],
   "source": [
    "w2v_model_spam.wv.doesnt_match(\"free txt ut stop mobile text claim reply www prize\".split())"
   ]
  },
  {
   "cell_type": "code",
   "execution_count": 46,
   "metadata": {
    "colab": {
     "base_uri": "https://localhost:8080/"
    },
    "executionInfo": {
     "elapsed": 445,
     "status": "ok",
     "timestamp": 1631444879236,
     "user": {
      "displayName": "주지훈",
      "photoUrl": "https://lh3.googleusercontent.com/a-/AOh14GgnjbaDpNhn_mDPYJoIka_vS6AaIKXR_ORlzWo0dg4=s64",
      "userId": "14418915057819099798"
     },
     "user_tz": -540
    },
    "id": "Qq0K_1g_pcY5",
    "outputId": "b1ef2380-ae28-4ed0-9403-c5dde9282786"
   },
   "outputs": [
    {
     "data": {
      "text/plain": [
       "[('minutes', 0.42549678683280945),\n",
       " ('digital', 0.3763107657432556),\n",
       " ('comp', 0.3654780685901642),\n",
       " ('tomorrow', 0.36542177200317383),\n",
       " ('rental', 0.36523017287254333),\n",
       " ('half', 0.3612120747566223),\n",
       " ('true', 0.35916608572006226),\n",
       " ('tariffs', 0.3575182557106018),\n",
       " ('camera', 0.3469882607460022),\n",
       " ('phones', 0.3457595705986023)]"
      ]
     },
     "execution_count": 46,
     "metadata": {},
     "output_type": "execute_result"
    }
   ],
   "source": [
    "w2v_model_spam.wv.most_similar('free')"
   ]
  },
  {
   "cell_type": "code",
   "execution_count": 98,
   "metadata": {
    "colab": {
     "base_uri": "https://localhost:8080/"
    },
    "executionInfo": {
     "elapsed": 415,
     "status": "ok",
     "timestamp": 1631448714339,
     "user": {
      "displayName": "주지훈",
      "photoUrl": "https://lh3.googleusercontent.com/a-/AOh14GgnjbaDpNhn_mDPYJoIka_vS6AaIKXR_ORlzWo0dg4=s64",
      "userId": "14418915057819099798"
     },
     "user_tz": -540
    },
    "id": "WemiZEPC6m8g",
    "outputId": "bc879b1a-959b-4089-8dbd-acfcf0c0b744"
   },
   "outputs": [
    {
     "name": "stderr",
     "output_type": "stream",
     "text": [
      "/usr/local/lib/python3.7/dist-packages/ipykernel_launcher.py:1: DeprecationWarning: Call to deprecated `most_similar` (Method will be removed in 4.0.0, use self.wv.most_similar() instead).\n",
      "  \"\"\"Entry point for launching an IPython kernel.\n"
     ]
    },
    {
     "data": {
      "text/plain": [
       "[('sony', 0.3760383725166321),\n",
       " ('gr', 0.33551520109176636),\n",
       " ('digital', 0.3228992223739624),\n",
       " ('minute', 0.3177478313446045),\n",
       " ('either', 0.3116297721862793),\n",
       " ('cd', 0.3026931881904602),\n",
       " ('mobiles', 0.2925875186920166),\n",
       " ('th', 0.2763407826423645),\n",
       " ('easy', 0.2746298313140869),\n",
       " ('delivery', 0.2737046182155609)]"
      ]
     },
     "execution_count": 98,
     "metadata": {},
     "output_type": "execute_result"
    }
   ],
   "source": [
    "w2v_model_spam.most_similar(positive=['free', 'prize'], negative= ['ok'], topn=10)"
   ]
  },
  {
   "cell_type": "code",
   "execution_count": 86,
   "metadata": {
    "executionInfo": {
     "elapsed": 8586,
     "status": "ok",
     "timestamp": 1631448062148,
     "user": {
      "displayName": "주지훈",
      "photoUrl": "https://lh3.googleusercontent.com/a-/AOh14GgnjbaDpNhn_mDPYJoIka_vS6AaIKXR_ORlzWo0dg4=s64",
      "userId": "14418915057819099798"
     },
     "user_tz": -540
    },
    "id": "nMMDl3HYtlu0"
   },
   "outputs": [],
   "source": [
    "# ham에 대해 학습\n",
    "model2 = Word2Vec(mt_test[mt_test.v1 == 0]['v2'], min_count=5, size=100, window=2, iter=200, sg=1) # skip-gram"
   ]
  },
  {
   "cell_type": "code",
   "execution_count": 87,
   "metadata": {
    "executionInfo": {
     "elapsed": 405,
     "status": "ok",
     "timestamp": 1631448063886,
     "user": {
      "displayName": "주지훈",
      "photoUrl": "https://lh3.googleusercontent.com/a-/AOh14GgnjbaDpNhn_mDPYJoIka_vS6AaIKXR_ORlzWo0dg4=s64",
      "userId": "14418915057819099798"
     },
     "user_tz": -540
    },
    "id": "iL394WpRtlxF"
   },
   "outputs": [],
   "source": [
    "model2.save('w2v_model_ham')"
   ]
  },
  {
   "cell_type": "code",
   "execution_count": 88,
   "metadata": {
    "executionInfo": {
     "elapsed": 2,
     "status": "ok",
     "timestamp": 1631448066861,
     "user": {
      "displayName": "주지훈",
      "photoUrl": "https://lh3.googleusercontent.com/a-/AOh14GgnjbaDpNhn_mDPYJoIka_vS6AaIKXR_ORlzWo0dg4=s64",
      "userId": "14418915057819099798"
     },
     "user_tz": -540
    },
    "id": "cA8Fd49Kx05A"
   },
   "outputs": [],
   "source": [
    "w2v_model_ham = Word2Vec.load('w2v_model_ham')"
   ]
  },
  {
   "cell_type": "code",
   "execution_count": 89,
   "metadata": {
    "colab": {
     "base_uri": "https://localhost:8080/",
     "height": 90
    },
    "executionInfo": {
     "elapsed": 6,
     "status": "ok",
     "timestamp": 1631448069772,
     "user": {
      "displayName": "주지훈",
      "photoUrl": "https://lh3.googleusercontent.com/a-/AOh14GgnjbaDpNhn_mDPYJoIka_vS6AaIKXR_ORlzWo0dg4=s64",
      "userId": "14418915057819099798"
     },
     "user_tz": -540
    },
    "id": "wXNHmH8Rx071",
    "outputId": "7764d2b2-5779-47c8-d547-31c9b3bf1d95"
   },
   "outputs": [
    {
     "name": "stderr",
     "output_type": "stream",
     "text": [
      "/usr/local/lib/python3.7/dist-packages/gensim/models/keyedvectors.py:895: FutureWarning: arrays to stack must be passed as a \"sequence\" type such as list or tuple. Support for non-sequence iterables such as generators is deprecated as of NumPy 1.16 and will raise an error in the future.\n",
      "  vectors = vstack(self.word_vec(word, use_norm=True) for word in used_words).astype(REAL)\n"
     ]
    },
    {
     "data": {
      "application/vnd.google.colaboratory.intrinsic+json": {
       "type": "string"
      },
      "text/plain": [
       "'good'"
      ]
     },
     "execution_count": 89,
     "metadata": {},
     "output_type": "execute_result"
    }
   ],
   "source": [
    "w2v_model_ham.wv.doesnt_match(\"gt lt ok got know like good come ur time\".split())"
   ]
  },
  {
   "cell_type": "code",
   "execution_count": 90,
   "metadata": {
    "colab": {
     "base_uri": "https://localhost:8080/"
    },
    "executionInfo": {
     "elapsed": 316,
     "status": "ok",
     "timestamp": 1631448071808,
     "user": {
      "displayName": "주지훈",
      "photoUrl": "https://lh3.googleusercontent.com/a-/AOh14GgnjbaDpNhn_mDPYJoIka_vS6AaIKXR_ORlzWo0dg4=s64",
      "userId": "14418915057819099798"
     },
     "user_tz": -540
    },
    "id": "nRZfxAtbx0-Y",
    "outputId": "4b888a3f-6da3-4da8-9a44-a27dcd0f38bd"
   },
   "outputs": [
    {
     "data": {
      "text/plain": [
       "[('pub', 0.399289071559906),\n",
       " ('din', 0.39322471618652344),\n",
       " ('mood', 0.38380372524261475),\n",
       " ('uni', 0.38086122274398804),\n",
       " ('reaching', 0.37773042917251587),\n",
       " ('vikky', 0.37050923705101013),\n",
       " ('anything', 0.3583028316497803),\n",
       " ('ard', 0.35246625542640686),\n",
       " ('mm', 0.34728553891181946),\n",
       " ('etc', 0.34594911336898804)]"
      ]
     },
     "execution_count": 90,
     "metadata": {},
     "output_type": "execute_result"
    }
   ],
   "source": [
    "w2v_model_ham.wv.most_similar('ok')"
   ]
  },
  {
   "cell_type": "code",
   "execution_count": 100,
   "metadata": {
    "colab": {
     "base_uri": "https://localhost:8080/"
    },
    "executionInfo": {
     "elapsed": 368,
     "status": "ok",
     "timestamp": 1631448824415,
     "user": {
      "displayName": "주지훈",
      "photoUrl": "https://lh3.googleusercontent.com/a-/AOh14GgnjbaDpNhn_mDPYJoIka_vS6AaIKXR_ORlzWo0dg4=s64",
      "userId": "14418915057819099798"
     },
     "user_tz": -540
    },
    "id": "yaDGMFri7Mpi",
    "outputId": "c94cfd49-3c8d-447c-c8f3-7e68e28e4556"
   },
   "outputs": [
    {
     "name": "stderr",
     "output_type": "stream",
     "text": [
      "/usr/local/lib/python3.7/dist-packages/ipykernel_launcher.py:1: DeprecationWarning: Call to deprecated `most_similar` (Method will be removed in 4.0.0, use self.wv.most_similar() instead).\n",
      "  \"\"\"Entry point for launching an IPython kernel.\n"
     ]
    },
    {
     "data": {
      "text/plain": [
       "[('body', 0.40533608198165894),\n",
       " ('anything', 0.32272475957870483),\n",
       " ('worries', 0.306276798248291),\n",
       " ('station', 0.3059197664260864),\n",
       " ('house', 0.2768152356147766),\n",
       " ('hour', 0.2764899730682373),\n",
       " ('broke', 0.2710268497467041),\n",
       " ('gentle', 0.2659171223640442),\n",
       " ('reaching', 0.2639482319355011),\n",
       " ('valentine', 0.2561299204826355)]"
      ]
     },
     "execution_count": 100,
     "metadata": {},
     "output_type": "execute_result"
    }
   ],
   "source": [
    "w2v_model_ham.most_similar(positive=['ok', 'like'], negative= ['free'], topn=10)"
   ]
  },
  {
   "cell_type": "markdown",
   "metadata": {
    "id": "1CXN-CBuy1KJ"
   },
   "source": [
    "#### CBOW"
   ]
  },
  {
   "cell_type": "code",
   "execution_count": 75,
   "metadata": {
    "executionInfo": {
     "elapsed": 2224,
     "status": "ok",
     "timestamp": 1631446620444,
     "user": {
      "displayName": "주지훈",
      "photoUrl": "https://lh3.googleusercontent.com/a-/AOh14GgnjbaDpNhn_mDPYJoIka_vS6AaIKXR_ORlzWo0dg4=s64",
      "userId": "14418915057819099798"
     },
     "user_tz": -540
    },
    "id": "pael1TLzx1BN"
   },
   "outputs": [],
   "source": [
    "# 스팸에 대해 학습\n",
    "model = Word2Vec(mt_test[mt_test.v1 == 1]['v2'], min_count=5, size=100, window=2, iter=200, sg=0) # CBOW"
   ]
  },
  {
   "cell_type": "code",
   "execution_count": 76,
   "metadata": {
    "executionInfo": {
     "elapsed": 326,
     "status": "ok",
     "timestamp": 1631446648725,
     "user": {
      "displayName": "주지훈",
      "photoUrl": "https://lh3.googleusercontent.com/a-/AOh14GgnjbaDpNhn_mDPYJoIka_vS6AaIKXR_ORlzWo0dg4=s64",
      "userId": "14418915057819099798"
     },
     "user_tz": -540
    },
    "id": "ANd6NMGix1EE"
   },
   "outputs": [],
   "source": [
    "model.save('w2v_model2_spam')"
   ]
  },
  {
   "cell_type": "code",
   "execution_count": 78,
   "metadata": {
    "executionInfo": {
     "elapsed": 409,
     "status": "ok",
     "timestamp": 1631446668882,
     "user": {
      "displayName": "주지훈",
      "photoUrl": "https://lh3.googleusercontent.com/a-/AOh14GgnjbaDpNhn_mDPYJoIka_vS6AaIKXR_ORlzWo0dg4=s64",
      "userId": "14418915057819099798"
     },
     "user_tz": -540
    },
    "id": "-lpYCeZIx1Gg"
   },
   "outputs": [],
   "source": [
    "w2v_model2_spam = Word2Vec.load('w2v_model2_spam')"
   ]
  },
  {
   "cell_type": "code",
   "execution_count": 79,
   "metadata": {
    "colab": {
     "base_uri": "https://localhost:8080/",
     "height": 90
    },
    "executionInfo": {
     "elapsed": 339,
     "status": "ok",
     "timestamp": 1631446683970,
     "user": {
      "displayName": "주지훈",
      "photoUrl": "https://lh3.googleusercontent.com/a-/AOh14GgnjbaDpNhn_mDPYJoIka_vS6AaIKXR_ORlzWo0dg4=s64",
      "userId": "14418915057819099798"
     },
     "user_tz": -540
    },
    "id": "UQrJO58SzAkk",
    "outputId": "d16e391e-443a-4614-b8d2-967360d7e0c8"
   },
   "outputs": [
    {
     "name": "stderr",
     "output_type": "stream",
     "text": [
      "/usr/local/lib/python3.7/dist-packages/gensim/models/keyedvectors.py:895: FutureWarning: arrays to stack must be passed as a \"sequence\" type such as list or tuple. Support for non-sequence iterables such as generators is deprecated as of NumPy 1.16 and will raise an error in the future.\n",
      "  vectors = vstack(self.word_vec(word, use_norm=True) for word in used_words).astype(REAL)\n"
     ]
    },
    {
     "data": {
      "application/vnd.google.colaboratory.intrinsic+json": {
       "type": "string"
      },
      "text/plain": [
       "'prize'"
      ]
     },
     "execution_count": 79,
     "metadata": {},
     "output_type": "execute_result"
    }
   ],
   "source": [
    "w2v_model2_spam.wv.doesnt_match(\"free txt ut stop mobile text claim reply www prize\".split())"
   ]
  },
  {
   "cell_type": "code",
   "execution_count": 80,
   "metadata": {
    "colab": {
     "base_uri": "https://localhost:8080/"
    },
    "executionInfo": {
     "elapsed": 397,
     "status": "ok",
     "timestamp": 1631446694569,
     "user": {
      "displayName": "주지훈",
      "photoUrl": "https://lh3.googleusercontent.com/a-/AOh14GgnjbaDpNhn_mDPYJoIka_vS6AaIKXR_ORlzWo0dg4=s64",
      "userId": "14418915057819099798"
     },
     "user_tz": -540
    },
    "id": "A-l7yk9MzAnK",
    "outputId": "e68f7aac-ee66-4a93-ecac-952c4fcbbc17"
   },
   "outputs": [
    {
     "data": {
      "text/plain": [
       "[('minutes', 0.4009193181991577),\n",
       " ('phones', 0.39401984214782715),\n",
       " ('latest', 0.3842996656894684),\n",
       " ('colour', 0.3776649832725525),\n",
       " ('get', 0.37309759855270386),\n",
       " ('mths', 0.37264448404312134),\n",
       " ('tomorrow', 0.37079060077667236),\n",
       " ('plus', 0.3611152768135071),\n",
       " ('camera', 0.33692729473114014),\n",
       " ('ringtone', 0.3341505527496338)]"
      ]
     },
     "execution_count": 80,
     "metadata": {},
     "output_type": "execute_result"
    }
   ],
   "source": [
    "w2v_model2_spam.wv.most_similar('free')"
   ]
  },
  {
   "cell_type": "code",
   "execution_count": 91,
   "metadata": {
    "executionInfo": {
     "elapsed": 6148,
     "status": "ok",
     "timestamp": 1631448094508,
     "user": {
      "displayName": "주지훈",
      "photoUrl": "https://lh3.googleusercontent.com/a-/AOh14GgnjbaDpNhn_mDPYJoIka_vS6AaIKXR_ORlzWo0dg4=s64",
      "userId": "14418915057819099798"
     },
     "user_tz": -540
    },
    "id": "h4GB0HCNzAqp"
   },
   "outputs": [],
   "source": [
    "# ham에 대해 학습\n",
    "model2 = Word2Vec(mt_test[mt_test.v1 == 0]['v2'], min_count=5, size=100, window=2, iter=200, sg=0) # CBOW"
   ]
  },
  {
   "cell_type": "code",
   "execution_count": 92,
   "metadata": {
    "executionInfo": {
     "elapsed": 422,
     "status": "ok",
     "timestamp": 1631448096248,
     "user": {
      "displayName": "주지훈",
      "photoUrl": "https://lh3.googleusercontent.com/a-/AOh14GgnjbaDpNhn_mDPYJoIka_vS6AaIKXR_ORlzWo0dg4=s64",
      "userId": "14418915057819099798"
     },
     "user_tz": -540
    },
    "id": "pNXB1X3szU_f"
   },
   "outputs": [],
   "source": [
    "model2.save('w2v_model2_ham')"
   ]
  },
  {
   "cell_type": "code",
   "execution_count": 93,
   "metadata": {
    "executionInfo": {
     "elapsed": 375,
     "status": "ok",
     "timestamp": 1631448098594,
     "user": {
      "displayName": "주지훈",
      "photoUrl": "https://lh3.googleusercontent.com/a-/AOh14GgnjbaDpNhn_mDPYJoIka_vS6AaIKXR_ORlzWo0dg4=s64",
      "userId": "14418915057819099798"
     },
     "user_tz": -540
    },
    "id": "DpO2E-b0zVCG"
   },
   "outputs": [],
   "source": [
    "w2v_model2_ham = Word2Vec.load('w2v_model2_ham')"
   ]
  },
  {
   "cell_type": "code",
   "execution_count": 94,
   "metadata": {
    "colab": {
     "base_uri": "https://localhost:8080/",
     "height": 90
    },
    "executionInfo": {
     "elapsed": 8,
     "status": "ok",
     "timestamp": 1631448102296,
     "user": {
      "displayName": "주지훈",
      "photoUrl": "https://lh3.googleusercontent.com/a-/AOh14GgnjbaDpNhn_mDPYJoIka_vS6AaIKXR_ORlzWo0dg4=s64",
      "userId": "14418915057819099798"
     },
     "user_tz": -540
    },
    "id": "vFNbSfIrzVFy",
    "outputId": "1abbe716-9381-4881-bfa4-173125df5209"
   },
   "outputs": [
    {
     "name": "stderr",
     "output_type": "stream",
     "text": [
      "/usr/local/lib/python3.7/dist-packages/gensim/models/keyedvectors.py:895: FutureWarning: arrays to stack must be passed as a \"sequence\" type such as list or tuple. Support for non-sequence iterables such as generators is deprecated as of NumPy 1.16 and will raise an error in the future.\n",
      "  vectors = vstack(self.word_vec(word, use_norm=True) for word in used_words).astype(REAL)\n"
     ]
    },
    {
     "data": {
      "application/vnd.google.colaboratory.intrinsic+json": {
       "type": "string"
      },
      "text/plain": [
       "'like'"
      ]
     },
     "execution_count": 94,
     "metadata": {},
     "output_type": "execute_result"
    }
   ],
   "source": [
    "w2v_model2_ham.wv.doesnt_match(\"gt lt ok got know like good come ur time\".split())"
   ]
  },
  {
   "cell_type": "code",
   "execution_count": 95,
   "metadata": {
    "colab": {
     "base_uri": "https://localhost:8080/"
    },
    "executionInfo": {
     "elapsed": 5,
     "status": "ok",
     "timestamp": 1631448103942,
     "user": {
      "displayName": "주지훈",
      "photoUrl": "https://lh3.googleusercontent.com/a-/AOh14GgnjbaDpNhn_mDPYJoIka_vS6AaIKXR_ORlzWo0dg4=s64",
      "userId": "14418915057819099798"
     },
     "user_tz": -540
    },
    "id": "zk9KU7VPzAs0",
    "outputId": "3e3c4e51-b8fe-411b-f61f-3750a7358344"
   },
   "outputs": [
    {
     "data": {
      "text/plain": [
       "[('home', 0.35972315073013306),\n",
       " ('ard', 0.35443925857543945),\n",
       " ('anything', 0.32045549154281616),\n",
       " ('mah', 0.28744393587112427),\n",
       " ('din', 0.2870328724384308),\n",
       " ('fren', 0.2510622441768646),\n",
       " ('u', 0.2458082139492035),\n",
       " ('morning', 0.24165180325508118),\n",
       " ('long', 0.23292739689350128),\n",
       " ('thanks', 0.23218059539794922)]"
      ]
     },
     "execution_count": 95,
     "metadata": {},
     "output_type": "execute_result"
    }
   ],
   "source": [
    "w2v_model2_ham.wv.most_similar('ok')"
   ]
  },
  {
   "cell_type": "markdown",
   "metadata": {
    "id": "esjqUpMnz93v"
   },
   "source": [
    "**spam**<br>\n",
    "1. skip-gram\n",
    "- spam 빈도수 상위 10개 단어 중 가장 유사하지 않은 단어: claim\n",
    "- 'free'와 가장 유사한 단어: <br>\n",
    "('minutes', 0.42549678683280945),<br>\n",
    "('digital', 0.3763107657432556),<br>\n",
    " ('comp', 0.3654780685901642),<br>\n",
    " ('tomorrow', 0.36542177200317383),<br>\n",
    " ('rental', 0.36523017287254333),<br>\n",
    " ('half', 0.3612120747566223),<br>\n",
    " ('true', 0.35916608572006226),<br>\n",
    " ('tariffs', 0.3575182557106018),<br>\n",
    " ('camera', 0.3469882607460022),<br>\n",
    " ('phones', 0.3457595705986023)]\n"
   ]
  },
  {
   "cell_type": "markdown",
   "metadata": {
    "id": "I9WyWwMQ1CUC"
   },
   "source": [
    " 2. CBOW<br>\n",
    " - spam 빈도수 상위 10개 단어 중 가장 유사하지 않은 단어: prize\n",
    " - 'free'와 가장 유사한 단어: <br>\n",
    " ('minutes', 0.4009193181991577),<br>\n",
    " ('phones', 0.39401984214782715),<br>\n",
    " ('latest', 0.3842996656894684),<br>\n",
    " ('colour', 0.3776649832725525),<br>\n",
    " ('get', 0.37309759855270386),<br>\n",
    " ('mths', 0.37264448404312134),<br>\n",
    " ('tomorrow', 0.37079060077667236),<br>\n",
    " ('plus', 0.3611152768135071),<br>\n",
    " ('camera', 0.33692729473114014),<br>\n",
    " ('ringtone', 0.3341505527496338)"
   ]
  },
  {
   "cell_type": "markdown",
   "metadata": {
    "id": "M7YrLgsm1XvV"
   },
   "source": [
    "**결과 해석**\n",
    "- spma의 빈도수 상위 10개 단어 중 가장 유사하지 않은 단어로 skip-gram은 'claim', CBOW는 'prize'를 뽑았는데, 상품, 상과 같은 보상은 스팸 메일에 있을 확률이 높기 때문에 skip-gram의 결과가 더 신뢰가 간다.\n",
    "- spam의 경우 몇 분 안남았다(minutes), 내일 마감(tommorrow) 등의 단어가 있을 확률이 높고, 실제로 spam의 빈도수 1위였던 free와 유사한 단어에 이 단어들이 나왔다. 그런데 skip-gram과 CBOW의 결과를 비교해보면 CBOW에는 'mths'와 같은 관련 없는 단어도 있기 때문에 skip-gram의 결과가 더 유용해 보인다. "
   ]
  },
  {
   "cell_type": "markdown",
   "metadata": {
    "id": "cIOJqBc_3fH8"
   },
   "source": [
    "**ham**\n",
    "1. skip-gram\n",
    "- ham 빈도수 상위 10개 단어 중 가장 유사하지 않은 단어: good\n",
    "- 'ok'와 가장 유사한 단어:<br>\n",
    "('pub', 0.399289071559906),<br>\n",
    " ('din', 0.39322471618652344),<br>\n",
    " ('mood', 0.38380372524261475),<br>\n",
    " ('uni', 0.38086122274398804),<br>\n",
    " ('reaching', 0.37773042917251587),<br>\n",
    " ('vikky', 0.37050923705101013),<br>\n",
    " ('anything', 0.3583028316497803),<br>\n",
    " ('ard', 0.35246625542640686),<br>\n",
    " ('mm', 0.34728553891181946),<br>\n",
    " ('etc', 0.34594911336898804)"
   ]
  },
  {
   "cell_type": "markdown",
   "metadata": {
    "id": "RQs7hvDw3fLm"
   },
   "source": [
    "2. CBOW\n",
    "- ham 빈도수 상위 10개 단어 중 가장 유사하지 않은 단어: like\n",
    "- 'ok'와 가장 유사한 단어: <br>\n",
    "('home', 0.35972315073013306),<br>\n",
    " ('ard', 0.35443925857543945),<br>\n",
    " ('anything', 0.32045549154281616),<br>\n",
    " ('mah', 0.28744393587112427),<br>\n",
    " ('din', 0.2870328724384308),<br>\n",
    " ('fren', 0.2510622441768646),<br>\n",
    " ('u', 0.2458082139492035),<br>\n",
    " ('morning', 0.24165180325508118),<br>\n",
    " ('long', 0.23292739689350128),<br>\n",
    " ('thanks', 0.23218059539794922)"
   ]
  },
  {
   "cell_type": "markdown",
   "metadata": {
    "id": "y1T_lGde3fOW"
   },
   "source": [
    "**결과 해석**\n",
    "- ham의 토큰별 빈도수 상위 10개 단어 중 가장 유사하지 않은 단어로 skip-gram은 good, CBOW는 like가 나왔는데, 둘 다 긍정적인 감정을 나타내는 단어이므로 결과는 비슷하다고 볼 수 있다.\n",
    "- ham의 토큰별 빈도수 상위 20개 단어 중 단어로 볼 수 있는 ok와 가장 유사한 단어로 ham은 pub, CBOW는 home으로, 둘 다 장소에 가장 높은 유사도 점수를 줬다. 대체로 skip-gram보다 CBOW가 ard(사람), anything, mah(my), thanks 등 ok와의 유사도가 높아 보이는 단어가 더 많았다."
   ]
  },
  {
   "cell_type": "markdown",
   "metadata": {
    "id": "p6gTm2OQ3fRN"
   },
   "source": [
    "### FastText"
   ]
  },
  {
   "cell_type": "markdown",
   "metadata": {
    "id": "bZfvrZXe3fUK"
   },
   "source": []
  },
  {
   "cell_type": "code",
   "execution_count": 107,
   "metadata": {
    "executionInfo": {
     "elapsed": 987,
     "status": "ok",
     "timestamp": 1631449207534,
     "user": {
      "displayName": "주지훈",
      "photoUrl": "https://lh3.googleusercontent.com/a-/AOh14GgnjbaDpNhn_mDPYJoIka_vS6AaIKXR_ORlzWo0dg4=s64",
      "userId": "14418915057819099798"
     },
     "user_tz": -540
    },
    "id": "_M9SE2G48vyD"
   },
   "outputs": [],
   "source": [
    "from gensim.models import FastText\n",
    "\n",
    "# spam\n",
    "fast_model = FastText(mt_test[mt_test.v1 == 1]['v2'], size=100, window=5, min_count=5, workers=4, sg=1)"
   ]
  },
  {
   "cell_type": "code",
   "execution_count": 108,
   "metadata": {
    "colab": {
     "base_uri": "https://localhost:8080/"
    },
    "executionInfo": {
     "elapsed": 415,
     "status": "ok",
     "timestamp": 1631449242621,
     "user": {
      "displayName": "주지훈",
      "photoUrl": "https://lh3.googleusercontent.com/a-/AOh14GgnjbaDpNhn_mDPYJoIka_vS6AaIKXR_ORlzWo0dg4=s64",
      "userId": "14418915057819099798"
     },
     "user_tz": -540
    },
    "id": "t4eKiDT_zxHA",
    "outputId": "b24c37bb-d19a-4e3b-cb09-36755898d986"
   },
   "outputs": [
    {
     "data": {
      "text/plain": [
       "[('mobiles', 0.9998054504394531),\n",
       " ('phones', 0.9998037219047546),\n",
       " ('mobile', 0.9997845888137817),\n",
       " ('freemsg', 0.999758243560791),\n",
       " ('mobileupd', 0.9997398853302002),\n",
       " ('ringtones', 0.999738335609436),\n",
       " ('phone', 0.9997355341911316),\n",
       " ('charge', 0.999723494052887),\n",
       " ('next', 0.9997224807739258),\n",
       " ('latest', 0.999722421169281)]"
      ]
     },
     "execution_count": 108,
     "metadata": {},
     "output_type": "execute_result"
    }
   ],
   "source": [
    "fast_model.wv.most_similar(\"free\")"
   ]
  },
  {
   "cell_type": "markdown",
   "metadata": {
    "id": "mGBJQOAPAsgL"
   },
   "source": [
    "**결과 해석**<br>\n",
    "phone, ringtones는 Word2Vec에서도 나왔던 단어이지만 그 이외의 단어들은 FastText에서만 나왔다. FastText 결과를 보면 주로 핸드폰 요금, 최신 핸드폰 등 핸드폰과 관련 'free' 광고 spma이 많은 것으로 보인다. Word2Vec의 결과는 결과만 봤을 때 왜 free와 관련있는 건지 알기 힘들었는데, FastText는 결과들이 모두 연관되어 있고 similar 점수도 모두 1에 가까운 높은 점수를 띄고 있다. 따라서 FastText의 결과가 Word2Vec보다 신빙성 있어 보인다."
   ]
  },
  {
   "cell_type": "code",
   "execution_count": 109,
   "metadata": {
    "executionInfo": {
     "elapsed": 1261,
     "status": "ok",
     "timestamp": 1631449301917,
     "user": {
      "displayName": "주지훈",
      "photoUrl": "https://lh3.googleusercontent.com/a-/AOh14GgnjbaDpNhn_mDPYJoIka_vS6AaIKXR_ORlzWo0dg4=s64",
      "userId": "14418915057819099798"
     },
     "user_tz": -540
    },
    "id": "zxPIPyhKzxJo"
   },
   "outputs": [],
   "source": [
    "# ham\n",
    "fast_model2 = FastText(mt_test[mt_test.v1 == 0]['v2'], size=100, window=5, min_count=5, workers=4, sg=1)"
   ]
  },
  {
   "cell_type": "code",
   "execution_count": 110,
   "metadata": {
    "colab": {
     "base_uri": "https://localhost:8080/"
    },
    "executionInfo": {
     "elapsed": 352,
     "status": "ok",
     "timestamp": 1631449312151,
     "user": {
      "displayName": "주지훈",
      "photoUrl": "https://lh3.googleusercontent.com/a-/AOh14GgnjbaDpNhn_mDPYJoIka_vS6AaIKXR_ORlzWo0dg4=s64",
      "userId": "14418915057819099798"
     },
     "user_tz": -540
    },
    "id": "VK5ApOHy9EHU",
    "outputId": "5c063412-dd26-40bd-94ae-49b94f1eec33"
   },
   "outputs": [
    {
     "data": {
      "text/plain": [
       "[('already', 0.9994665384292603),\n",
       " ('quite', 0.9994449615478516),\n",
       " ('leh', 0.999427855014801),\n",
       " ('dunno', 0.999405026435852),\n",
       " ('meet', 0.9994029998779297),\n",
       " ('wats', 0.9993625283241272),\n",
       " ('look', 0.9993569850921631),\n",
       " ('wana', 0.999355673789978),\n",
       " ('goin', 0.9993529319763184),\n",
       " ('lunch', 0.9993255138397217)]"
      ]
     },
     "execution_count": 110,
     "metadata": {},
     "output_type": "execute_result"
    }
   ],
   "source": [
    "fast_model2.wv.most_similar(\"ok\")"
   ]
  },
  {
   "cell_type": "markdown",
   "metadata": {
    "id": "La9YbhGTBY9K"
   },
   "source": [
    "**결과 해석**<br>\n",
    "'ok'와 유사한 단어들을 보면 사람이 감정이나 기분의 정도를 표현하는 단어가 많다. 결과로 나온 단어들이 왜 ok와 유사한지 이해하기 힘들었던 Word2Vec에 비해 FastText의 결과가 더 신뢰가 간다."
   ]
  },
  {
   "cell_type": "markdown",
   "metadata": {
    "id": "ZZX_pFpoCQga"
   },
   "source": [
    "### 결론\n",
    "FastText가 Word2Vec보다 spam 데이터에 적합하다."
   ]
  },
  {
   "cell_type": "markdown",
   "metadata": {
    "id": "HY0J-rKf5ynS"
   },
   "source": [
    "## 본인이 도출해낸 해석을 적어주세요!\n",
    "\n",
    "- 유사도, Wordcloud, 이진 분류 모델, Plot 뭐든 상관없으니 분명하고 인상적인 해석을 적어주시면 됩니다."
   ]
  },
  {
   "cell_type": "markdown",
   "metadata": {
    "id": "B5233_NUCmVh"
   },
   "source": [
    "### 유사도"
   ]
  },
  {
   "cell_type": "code",
   "execution_count": 111,
   "metadata": {
    "colab": {
     "base_uri": "https://localhost:8080/"
    },
    "executionInfo": {
     "elapsed": 367,
     "status": "ok",
     "timestamp": 1631450740387,
     "user": {
      "displayName": "주지훈",
      "photoUrl": "https://lh3.googleusercontent.com/a-/AOh14GgnjbaDpNhn_mDPYJoIka_vS6AaIKXR_ORlzWo0dg4=s64",
      "userId": "14418915057819099798"
     },
     "user_tz": -540
    },
    "id": "GosioyDrCljg",
    "outputId": "7399733e-be16-41b9-8761-e3afd38657d5"
   },
   "outputs": [
    {
     "data": {
      "text/plain": [
       "[('mobiles', 0.9998054504394531),\n",
       " ('phones', 0.9998037219047546),\n",
       " ('mobile', 0.9997845888137817),\n",
       " ('freemsg', 0.999758243560791),\n",
       " ('mobileupd', 0.9997398853302002),\n",
       " ('ringtones', 0.999738335609436),\n",
       " ('phone', 0.9997355341911316),\n",
       " ('charge', 0.999723494052887),\n",
       " ('next', 0.9997224807739258),\n",
       " ('latest', 0.999722421169281)]"
      ]
     },
     "execution_count": 111,
     "metadata": {},
     "output_type": "execute_result"
    }
   ],
   "source": [
    "fast_model.wv.most_similar(\"free\")"
   ]
  },
  {
   "cell_type": "markdown",
   "metadata": {
    "id": "iM8-ytmpDSgR"
   },
   "source": [
    "핸드폰 요금, 최신 핸드폰 가격과 관련되어 무료라고 홍보하는 스팸 메일이 많다."
   ]
  },
  {
   "cell_type": "code",
   "execution_count": 112,
   "metadata": {
    "colab": {
     "base_uri": "https://localhost:8080/"
    },
    "executionInfo": {
     "elapsed": 387,
     "status": "ok",
     "timestamp": 1631450806684,
     "user": {
      "displayName": "주지훈",
      "photoUrl": "https://lh3.googleusercontent.com/a-/AOh14GgnjbaDpNhn_mDPYJoIka_vS6AaIKXR_ORlzWo0dg4=s64",
      "userId": "14418915057819099798"
     },
     "user_tz": -540
    },
    "id": "m4GtcDo3Clmg",
    "outputId": "d1d387a1-3580-4817-f986-c47947fe6160"
   },
   "outputs": [
    {
     "data": {
      "text/plain": [
       "[('store', 0.9998002648353577),\n",
       " ('unsubscribe', 0.9997965693473816),\n",
       " ('texts', 0.9997805953025818),\n",
       " ('sexy', 0.9997385740280151),\n",
       " ('subscription', 0.9997381567955017),\n",
       " ('welcome', 0.9997365474700928),\n",
       " ('charge', 0.9997327923774719),\n",
       " ('unsub', 0.9997280836105347),\n",
       " ('apply', 0.9997267723083496),\n",
       " ('choose', 0.9997265934944153)]"
      ]
     },
     "execution_count": 112,
     "metadata": {},
     "output_type": "execute_result"
    }
   ],
   "source": [
    "fast_model.wv.most_similar(\"stop\")"
   ]
  },
  {
   "cell_type": "markdown",
   "metadata": {
    "id": "k207qBZDDaqY"
   },
   "source": [
    "보통 광고 메일의 경우 수신 거부를 하겠냐고 묻는 내용이 있으므로 stop의 빈도수가 높게 나온 것으로 보이고, stop과 유사한 단어들을 봤을 때 구독과 관련된 스팸이 많은 것으로 보인다."
   ]
  },
  {
   "cell_type": "code",
   "execution_count": 119,
   "metadata": {
    "colab": {
     "base_uri": "https://localhost:8080/"
    },
    "executionInfo": {
     "elapsed": 465,
     "status": "ok",
     "timestamp": 1631450890143,
     "user": {
      "displayName": "주지훈",
      "photoUrl": "https://lh3.googleusercontent.com/a-/AOh14GgnjbaDpNhn_mDPYJoIka_vS6AaIKXR_ORlzWo0dg4=s64",
      "userId": "14418915057819099798"
     },
     "user_tz": -540
    },
    "id": "NmfKnnaOClpv",
    "outputId": "9fa77466-1e6d-41ac-97a2-eb22fe0e4955"
   },
   "outputs": [
    {
     "data": {
      "text/plain": [
       "[('guaranteed', 0.9997134208679199),\n",
       " ('caller', 0.9996242523193359),\n",
       " ('urgent', 0.9996147155761719),\n",
       " ('contact', 0.9996034502983093),\n",
       " ('valid', 0.9995850324630737),\n",
       " ('claim', 0.9995517730712891),\n",
       " ('contacted', 0.999544620513916),\n",
       " ('todays', 0.9995419979095459),\n",
       " ('attempt', 0.9995304942131042),\n",
       " ('bonus', 0.9995142817497253)]"
      ]
     },
     "execution_count": 119,
     "metadata": {},
     "output_type": "execute_result"
    }
   ],
   "source": [
    "fast_model.wv.most_similar(\"prize\")"
   ]
  },
  {
   "cell_type": "markdown",
   "metadata": {
    "id": "4oE_DcNxDzFa"
   },
   "source": [
    "상품으로 소비자들을 현혹시키는 스팸이 많으므로 prize의 빈도수가 상위 10개 안에 들었고, guaranteed(확실한, 보장된), urgent(긴급한), todays가 유사한 단어인 것으로 보아 상품 이벤트 기간이 얼마 안 남았으니 서두르라는 내용의 스팸 메일이 많다. 또한 caller, contact가 있는 것으로 보아 역시 핸드폰 관련 상품에 관한 내용의 스팸 메일도 많다는 것을 알 수 있다. "
   ]
  },
  {
   "cell_type": "markdown",
   "metadata": {
    "id": "kjyMGmSqElS7"
   },
   "source": [
    "**스펨 메일일 확률이 높은 메일**<br>\n",
    "- 핸드폰+가격+상품 관련 메일\n",
    "- 구독 중지처럼 무언가를 멈추는 것과 관련된 메일\n",
    "- 상품 이벤트 기간이 얼마 안 남았다고 재촉하는 메일"
   ]
  },
  {
   "cell_type": "markdown",
   "metadata": {
    "id": "ln6KKLaqPm2S"
   },
   "source": [
    "### Wordcloud"
   ]
  },
  {
   "cell_type": "code",
   "execution_count": 134,
   "metadata": {
    "executionInfo": {
     "elapsed": 409,
     "status": "ok",
     "timestamp": 1631453882083,
     "user": {
      "displayName": "주지훈",
      "photoUrl": "https://lh3.googleusercontent.com/a-/AOh14GgnjbaDpNhn_mDPYJoIka_vS6AaIKXR_ORlzWo0dg4=s64",
      "userId": "14418915057819099798"
     },
     "user_tz": -540
    },
    "id": "__pqQ0o0Ojgi"
   },
   "outputs": [],
   "source": [
    "from wordcloud import WordCloud\n",
    "\n",
    "wc = WordCloud(background_color='white', max_words=100, width = 400, height = 300)"
   ]
  },
  {
   "cell_type": "code",
   "execution_count": 137,
   "metadata": {
    "colab": {
     "base_uri": "https://localhost:8080/",
     "height": 426
    },
    "executionInfo": {
     "elapsed": 2084,
     "status": "ok",
     "timestamp": 1631453912634,
     "user": {
      "displayName": "주지훈",
      "photoUrl": "https://lh3.googleusercontent.com/a-/AOh14GgnjbaDpNhn_mDPYJoIka_vS6AaIKXR_ORlzWo0dg4=s64",
      "userId": "14418915057819099798"
     },
     "user_tz": -540
    },
    "id": "nkRRZO9S5ynS",
    "outputId": "73d76bda-8f53-4730-c0aa-1d30d716e72f"
   },
   "outputs": [
    {
     "data": {
      "text/plain": [
       "<matplotlib.image.AxesImage at 0x7f2989a99cd0>"
      ]
     },
     "execution_count": 137,
     "metadata": {},
     "output_type": "execute_result"
    },
    {
     "data": {
      "image/png": "[encoded data removed]",
      "text/plain": [
       "<Figure size 1440x720 with 2 Axes>"
      ]
     },
     "metadata": {
      "needs_background": "light"
     },
     "output_type": "display_data"
    }
   ],
   "source": [
    "plt.figure(figsize=(20,10))\n",
    "\n",
    "plt.subplot(1,2,1)\n",
    "plt.title('Spam Word Cloud')\n",
    "count_dic = dict(zip(count_spam['word'], count_spam['count']))\n",
    "cloud = wc.generate_from_frequencies(count_dic)\n",
    "plt.axis('off')\n",
    "plt.imshow(cloud)\n",
    "\n",
    "plt.subplot(1,2,2)\n",
    "plt.title('Ham Word Cloud')\n",
    "count_dic = dict(zip(count_ham['word'], count_ham['count']))\n",
    "cloud = wc.generate_from_frequencies(count_dic)\n",
    "plt.axis('off')\n",
    "plt.imshow(cloud)"
   ]
  },
  {
   "cell_type": "markdown",
   "metadata": {
    "id": "k2jTNkTUO7g5"
   },
   "source": [
    "**Spam**<br>\n",
    "- free, prize, new, gift, bonus 등 보상과 관련된 내용\n",
    "- www: 웹 주소와 관련된 내용\n",
    "- txt: 파일 첨부\n",
    "- mobile: 핸드폰과 관련된 내용\n",
    "- want, offer, apply: 소비자가 원하는 것을 소비자에게 제공한다는 내용"
   ]
  },
  {
   "cell_type": "markdown",
   "metadata": {
    "id": "F_l7ZMtkO7k6"
   },
   "source": [
    "**Ham**\n",
    "- good, love, want, need, yeah, happy, thanks: 긍정적인 감정과 관련된 내용\n",
    "- dont, sorry: 거절과 관련된 내용\n",
    "- 대체로 사람의 감정과 관련된, 또는 구체적인 상태(know, need)를 표현하는 내용"
   ]
  },
  {
   "cell_type": "markdown",
   "metadata": {
    "id": "eQ-qDgGmQLhv"
   },
   "source": [
    "감정과 관련된 내용이 있으면 Ham 메일일 확률이 높다."
   ]
  }
 ],
 "metadata": {
  "colab": {
   "name": "week8_nlp_basic_assignment.ipynb",
   "provenance": []
  },
  "kernelspec": {
   "display_name": "Python 3",
   "language": "python",
   "name": "python3"
  },
  "language_info": {
   "codemirror_mode": {
    "name": "ipython",
    "version": 3
   },
   "file_extension": ".py",
   "mimetype": "text/x-python",
   "name": "python",
   "nbconvert_exporter": "python",
   "pygments_lexer": "ipython3",
   "version": "3.8.5"
  }
 },
 "nbformat": 4,
 "nbformat_minor": 1
}
